{
 "cells": [
  {
   "cell_type": "code",
   "execution_count": 1,
   "id": "8259f1ae",
   "metadata": {},
   "outputs": [
    {
     "name": "stderr",
     "output_type": "stream",
     "text": [
      "2025-08-18 17:34:15.197014: I tensorflow/tsl/cuda/cudart_stub.cc:28] Could not find cuda drivers on your machine, GPU will not be used.\n",
      "2025-08-18 17:34:15.931759: E tensorflow/compiler/xla/stream_executor/cuda/cuda_dnn.cc:9342] Unable to register cuDNN factory: Attempting to register factory for plugin cuDNN when one has already been registered\n",
      "2025-08-18 17:34:15.931858: E tensorflow/compiler/xla/stream_executor/cuda/cuda_fft.cc:609] Unable to register cuFFT factory: Attempting to register factory for plugin cuFFT when one has already been registered\n",
      "2025-08-18 17:34:15.935311: E tensorflow/compiler/xla/stream_executor/cuda/cuda_blas.cc:1518] Unable to register cuBLAS factory: Attempting to register factory for plugin cuBLAS when one has already been registered\n",
      "2025-08-18 17:34:16.344016: I tensorflow/tsl/cuda/cudart_stub.cc:28] Could not find cuda drivers on your machine, GPU will not be used.\n",
      "2025-08-18 17:34:16.347504: I tensorflow/core/platform/cpu_feature_guard.cc:182] This TensorFlow binary is optimized to use available CPU instructions in performance-critical operations.\n",
      "To enable the following instructions: AVX2 FMA, in other operations, rebuild TensorFlow with the appropriate compiler flags.\n",
      "2025-08-18 17:34:53.218793: W tensorflow/compiler/tf2tensorrt/utils/py_utils.cc:38] TF-TRT Warning: Could not find TensorRT\n",
      "/afs/cern.ch/user/p/psajdak/eos_mine/project_CERN/venv3_9/lib64/python3.9/site-packages/networkx/utils/backends.py:135: RuntimeWarning: networkx backend defined more than once: nx-loopback\n",
      "  backends.update(_get_backends(\"networkx.backends\"))\n"
     ]
    },
    {
     "name": "stdout",
     "output_type": "stream",
     "text": [
      "WARNING:tensorflow:No training configuration found in the save file, so the model was *not* compiled. Compile it manually.\n"
     ]
    },
    {
     "name": "stderr",
     "output_type": "stream",
     "text": [
      "WARNING:tensorflow:No training configuration found in the save file, so the model was *not* compiled. Compile it manually.\n"
     ]
    }
   ],
   "source": [
    "import tensorflow as tf\n",
    "import numpy\n",
    "import h5py\n",
    "from qkeras.utils import _add_supported_quantized_objects\n",
    "from qkeras import quantized_bits\n",
    "co = {}; _add_supported_quantized_objects(co)\n",
    "\n",
    "model_path = f\"/eos/project/c/cms-l1ml/public/Pawel/axol1tl_model.h5\"\n",
    "\n",
    "model = tf.keras.models.load_model(model_path, custom_objects=co)\n",
    "#model_config = model.get_config()"
   ]
  },
  {
   "cell_type": "code",
   "execution_count": 2,
   "id": "bbc05754",
   "metadata": {},
   "outputs": [],
   "source": [
    "data_path = f\"/eos/project/c/cms-l1ml/public/Pawel/complete.h5\"\n",
    "data_file = h5py.File(data_path, 'r')"
   ]
  },
  {
   "cell_type": "markdown",
   "id": "a35ed723",
   "metadata": {},
   "source": [
    "### Copying weights into the model"
   ]
  },
  {
   "cell_type": "code",
   "execution_count": 3,
   "id": "cdb95ea0",
   "metadata": {},
   "outputs": [],
   "source": [
    "model.compile()"
   ]
  },
  {
   "cell_type": "code",
   "execution_count": 4,
   "id": "1b78776c",
   "metadata": {},
   "outputs": [],
   "source": [
    "ds_weights = data_file['model']['trimmed_encoder']['model_weights']\n",
    "for layer in iter(model.layers):\n",
    "    #print(layer.name)\n",
    "    if layer.name in ('input_1','subtract','dot'): continue\n",
    "\n",
    "    if layer.name == 'q_dense_4':\n",
    "        weights_group = ds_weights['q_dense_4']['variational_auto_encoder']['vae__encoder']['q_dense_4']\n",
    "        layer.set_weights((weights_group['kernel:0'], weights_group['bias:0']))\n",
    "        continue\n",
    "\n",
    "    weights_group = ds_weights[layer.name][layer.name]\n",
    "    layer.set_weights((weights_group['kernel:0'], weights_group['bias:0']))"
   ]
  },
  {
   "cell_type": "markdown",
   "id": "9b29da8c",
   "metadata": {},
   "source": [
    "### Test with background data"
   ]
  },
  {
   "cell_type": "code",
   "execution_count": 5,
   "id": "72cfe64b",
   "metadata": {},
   "outputs": [],
   "source": [
    "X = data_file['data'][\"Background_data\"][\"Test\"][\"DATA\"][:]\n",
    "scale_data = data_file['data']['Normalisation']['norm_scale'][:].flatten()\n",
    "offset_data =  data_file['data']['Normalisation']['norm_bias'][:].flatten()\n",
    "\n",
    "X_flat = X.reshape(X.shape[0], -1)\n",
    "X_int = (X_flat * scale_data) + offset_data\n",
    "X_flat_int = X_int.astype('int')\n",
    "input_quantizer = quantized_bits(14, 5, alpha=1)\n",
    "output_quantizer = quantized_bits(18,13,alpha=1)\n",
    "bias_quantizer = quantized_bits(18,12,alpha=1)"
   ]
  },
  {
   "cell_type": "code",
   "execution_count": 6,
   "id": "63bb900c",
   "metadata": {},
   "outputs": [],
   "source": [
    "X_for_qk = X_flat_int[0].astype('float')\n",
    "X_biased = bias_quantizer(X_for_qk - offset_data).numpy().astype('float')\n",
    "X_scaled = bias_quantizer(X_biased / scale_data)\n",
    "X_scaled_quantized_2 = input_quantizer(X_scaled)"
   ]
  },
  {
   "cell_type": "code",
   "execution_count": 8,
   "id": "d3586a99",
   "metadata": {},
   "outputs": [
    {
     "name": "stdout",
     "output_type": "stream",
     "text": [
      "1/1 [==============================] - 1s 649ms/step\n"
     ]
    }
   ],
   "source": [
    "pred_qkeras = output_quantizer(model.predict(X_scaled_quantized_2.numpy().reshape(1,57)))"
   ]
  },
  {
   "cell_type": "markdown",
   "id": "f655c2ac",
   "metadata": {},
   "source": [
    "### Conversion to a QONNX model"
   ]
  },
  {
   "cell_type": "code",
   "execution_count": 9,
   "id": "35cda9c9",
   "metadata": {},
   "outputs": [
    {
     "name": "stderr",
     "output_type": "stream",
     "text": [
      "/afs/cern.ch/user/p/psajdak/eos_mine/project_CERN/venv3_9/lib64/python3.9/site-packages/keras/src/constraints.py:365: UserWarning: The `keras.constraints.serialize()` API should only be used for objects of type `keras.constraints.Constraint`. Found an instance of type <class 'qkeras.quantizers.quantized_bits'>, which may lead to improper serialization.\n",
      "  warnings.warn(\n",
      "2025-08-18 17:39:13.401560: I tensorflow/core/grappler/devices.cc:66] Number of eligible GPUs (core count >= 8, compute capability >= 0.0): 0\n",
      "2025-08-18 17:39:13.402198: I tensorflow/core/grappler/clusters/single_machine.cc:361] Starting new session\n",
      "2025-08-18 17:39:13.466994: I tensorflow/core/grappler/devices.cc:66] Number of eligible GPUs (core count >= 8, compute capability >= 0.0): 0\n",
      "2025-08-18 17:39:13.467561: I tensorflow/core/grappler/clusters/single_machine.cc:361] Starting new session\n"
     ]
    }
   ],
   "source": [
    "import onnx\n",
    "import qonnx.core.onnx_exec as oxe\n",
    "from qonnx.converters import from_keras\n",
    "from qonnx.core.modelwrapper import ModelWrapper\n",
    "from qonnx.transformation.infer_shapes import InferShapes\n",
    "\n",
    "qonnx_model, external_storage = from_keras(model)\n",
    "qonnx_model = ModelWrapper(qonnx_model)\n",
    "qonnx_model = qonnx_model.transform(InferShapes())"
   ]
  },
  {
   "cell_type": "code",
   "execution_count": 10,
   "id": "367e637f",
   "metadata": {},
   "outputs": [
    {
     "name": "stdout",
     "output_type": "stream",
     "text": [
      "qkeras:\t tf.Tensor([[4.4375]], shape=(1, 1), dtype=float32)\n",
      "qonnx:\t [[4.4136963]]\n"
     ]
    }
   ],
   "source": [
    "idict = {qonnx_model.graph.input[0].name: X_scaled_quantized_2.numpy().reshape(1,57)}\n",
    "odict = oxe.execute_onnx(qonnx_model, idict, True)\n",
    "pred_qonnx = odict[qonnx_model.graph.output[0].name]\n",
    "\n",
    "print(\"qkeras:\\t\",pred_qkeras)\n",
    "print(\"qonnx:\\t\",pred_qonnx)\n"
   ]
  }
 ],
 "metadata": {
  "kernelspec": {
   "display_name": "venv3_9",
   "language": "python",
   "name": "python3"
  },
  "language_info": {
   "codemirror_mode": {
    "name": "ipython",
    "version": 3
   },
   "file_extension": ".py",
   "mimetype": "text/x-python",
   "name": "python",
   "nbconvert_exporter": "python",
   "pygments_lexer": "ipython3",
   "version": "3.9.21"
  }
 },
 "nbformat": 4,
 "nbformat_minor": 5
}
