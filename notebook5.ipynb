{
 "cells": [
  {
   "cell_type": "markdown",
   "id": "9fe30375",
   "metadata": {},
   "source": [
    "### Load the model"
   ]
  },
  {
   "cell_type": "code",
   "execution_count": 1,
   "id": "8259f1ae",
   "metadata": {},
   "outputs": [
    {
     "name": "stderr",
     "output_type": "stream",
     "text": [
      "2025-08-20 12:24:12.684014: I tensorflow/tsl/cuda/cudart_stub.cc:28] Could not find cuda drivers on your machine, GPU will not be used.\n",
      "2025-08-20 12:24:12.721100: E tensorflow/compiler/xla/stream_executor/cuda/cuda_dnn.cc:9342] Unable to register cuDNN factory: Attempting to register factory for plugin cuDNN when one has already been registered\n",
      "2025-08-20 12:24:12.721157: E tensorflow/compiler/xla/stream_executor/cuda/cuda_fft.cc:609] Unable to register cuFFT factory: Attempting to register factory for plugin cuFFT when one has already been registered\n",
      "2025-08-20 12:24:12.721202: E tensorflow/compiler/xla/stream_executor/cuda/cuda_blas.cc:1518] Unable to register cuBLAS factory: Attempting to register factory for plugin cuBLAS when one has already been registered\n",
      "2025-08-20 12:24:12.732826: I tensorflow/tsl/cuda/cudart_stub.cc:28] Could not find cuda drivers on your machine, GPU will not be used.\n",
      "2025-08-20 12:24:12.733322: I tensorflow/core/platform/cpu_feature_guard.cc:182] This TensorFlow binary is optimized to use available CPU instructions in performance-critical operations.\n",
      "To enable the following instructions: AVX2 FMA, in other operations, rebuild TensorFlow with the appropriate compiler flags.\n",
      "2025-08-20 12:24:22.272151: W tensorflow/compiler/tf2tensorrt/utils/py_utils.cc:38] TF-TRT Warning: Could not find TensorRT\n",
      "/afs/cern.ch/user/p/psajdak/eos_mine/project_CERN/venv3_9/lib64/python3.9/site-packages/networkx/utils/backends.py:135: RuntimeWarning: networkx backend defined more than once: nx-loopback\n",
      "  backends.update(_get_backends(\"networkx.backends\"))\n"
     ]
    },
    {
     "name": "stdout",
     "output_type": "stream",
     "text": [
      "WARNING:tensorflow:No training configuration found in the save file, so the model was *not* compiled. Compile it manually.\n"
     ]
    },
    {
     "name": "stderr",
     "output_type": "stream",
     "text": [
      "WARNING:tensorflow:No training configuration found in the save file, so the model was *not* compiled. Compile it manually.\n"
     ]
    }
   ],
   "source": [
    "import tensorflow as tf\n",
    "import numpy\n",
    "import h5py\n",
    "from qkeras.utils import _add_supported_quantized_objects\n",
    "from qkeras import quantized_bits\n",
    "co = {}; _add_supported_quantized_objects(co)\n",
    "\n",
    "model_path = f\"/eos/project/c/cms-l1ml/public/Pawel/axol1tl_model.h5\"\n",
    "\n",
    "model = tf.keras.models.load_model(model_path, custom_objects=co)\n",
    "#model_config = model.get_config()"
   ]
  },
  {
   "cell_type": "code",
   "execution_count": 2,
   "id": "bbc05754",
   "metadata": {},
   "outputs": [],
   "source": [
    "data_path = f\"/eos/project/c/cms-l1ml/public/Pawel/complete.h5\"\n",
    "data_file = h5py.File(data_path, 'r')"
   ]
  },
  {
   "cell_type": "markdown",
   "id": "a35ed723",
   "metadata": {},
   "source": [
    "### Copy weights into the model"
   ]
  },
  {
   "cell_type": "code",
   "execution_count": 3,
   "id": "cdb95ea0",
   "metadata": {},
   "outputs": [],
   "source": [
    "#model.compile()\n",
    "\n",
    "ds_weights = data_file['model']['trimmed_encoder']['model_weights']\n",
    "for layer in iter(model.layers):\n",
    "    #print(layer.name)\n",
    "    if layer.name in ('input_1','subtract','dot'): continue\n",
    "\n",
    "    if layer.name == 'q_dense_4':\n",
    "        weights_group = ds_weights['q_dense_4']['variational_auto_encoder']['vae__encoder']['q_dense_4']\n",
    "        layer.set_weights((weights_group['kernel:0'], weights_group['bias:0']))\n",
    "        continue\n",
    "\n",
    "    weights_group = ds_weights[layer.name][layer.name]\n",
    "    layer.set_weights((weights_group['kernel:0'], weights_group['bias:0']))"
   ]
  },
  {
   "cell_type": "markdown",
   "id": "96c90bd8",
   "metadata": {},
   "source": [
    "### Prepare data for tests"
   ]
  },
  {
   "cell_type": "code",
   "execution_count": 4,
   "id": "80799b66",
   "metadata": {},
   "outputs": [],
   "source": [
    "input_quantizer = quantized_bits(14, 5, alpha=1)\n",
    "output_quantizer = quantized_bits(18,13,alpha=1)\n",
    "bias_quantizer = quantized_bits(18,12,alpha=1)"
   ]
  },
  {
   "cell_type": "code",
   "execution_count": 5,
   "id": "7d07e5c4",
   "metadata": {},
   "outputs": [
    {
     "data": {
      "text/plain": [
       "tf.float32"
      ]
     },
     "execution_count": 5,
     "metadata": {},
     "output_type": "execute_result"
    }
   ],
   "source": [
    "X = data_file['data'][\"Background_data\"][\"Test\"][\"DATA\"][:2048]\n",
    "\n",
    "X_flat = X.reshape(X.shape[0], -1)\n",
    "X_flat = input_quantizer(X_flat)\n",
    "X_flat.dtype"
   ]
  },
  {
   "cell_type": "markdown",
   "id": "957fe795",
   "metadata": {},
   "source": [
    "### Fragmentary model"
   ]
  },
  {
   "cell_type": "code",
   "execution_count": 6,
   "id": "e691f8b7",
   "metadata": {},
   "outputs": [
    {
     "name": "stdout",
     "output_type": "stream",
     "text": [
      "Model: \"fragm_model\"\n",
      "__________________________________________________________________________________________________\n",
      " Layer (type)                Output Shape                 Param #   Connected to                  \n",
      "==================================================================================================\n",
      " input_1 (InputLayer)        [(None, None, 57)]           0         []                            \n",
      "                                                                                                  \n",
      " q_dense (QDense)            multiple                     1682      ['input_1[0][0]']             \n",
      "                                                                                                  \n",
      " q_dense_1 (QDense)          multiple                     300       ['q_dense[1][0]']             \n",
      "                                                                                                  \n",
      " q_dense_2 (QDense)          multiple                     99        ['q_dense_1[1][0]']           \n",
      "                                                                                                  \n",
      " q_dense_3 (QDense)          multiple                     60        ['q_dense_2[1][0]']           \n",
      "                                                                                                  \n",
      " q_dense_4 (QDense)          multiple                     28        ['q_dense_3[1][0]']           \n",
      "                                                                                                  \n",
      " q_dense_6 (QDense)          multiple                     30        ['q_dense_4[1][0]']           \n",
      "                                                                                                  \n",
      " q_dense_7 (QDense)          multiple                     63        ['q_dense_6[1][0]']           \n",
      "                                                                                                  \n",
      " q_dense_8 (QDense)          multiple                     100       ['q_dense_7[1][0]']           \n",
      "                                                                                                  \n",
      " subtract (Subtract)         multiple                     0         ['q_dense_8[1][0]',           \n",
      "                                                                     'q_dense_1[1][0]']           \n",
      "                                                                                                  \n",
      " dot (Dot)                   multiple                     0         ['subtract[1][0]',            \n",
      "                                                                     'subtract[1][0]']            \n",
      "                                                                                                  \n",
      "==================================================================================================\n",
      "Total params: 2362 (9.23 KB)\n",
      "Trainable params: 2362 (9.23 KB)\n",
      "Non-trainable params: 0 (0.00 Byte)\n",
      "__________________________________________________________________________________________________\n"
     ]
    }
   ],
   "source": [
    "inputs = tf.keras.layers.Input(shape=model.layers[0].input_shape[0])\n",
    "\n",
    "layer_list = [inputs]\n",
    "\n",
    "# QDense layers\n",
    "for i in range(1,9):\n",
    "    layer_list.append(model.layers[i](layer_list[i-1]))\n",
    "\n",
    "# Subtract and Dot\n",
    "layer_list.append(model.layers[9]((layer_list[8],layer_list[2])))\n",
    "layer_list.append(model.layers[10]((layer_list[9],layer_list[9])))\n",
    "\n",
    "fragm_model = tf.keras.Model(inputs=inputs, outputs=layer_list[-1], name='fragm_model')\n",
    "fragm_model.summary()"
   ]
  },
  {
   "cell_type": "code",
   "execution_count": null,
   "id": "3fba5f99",
   "metadata": {},
   "outputs": [],
   "source": [
    "output_quantizer(fragm_model.predict(X_flat))"
   ]
  },
  {
   "cell_type": "code",
   "execution_count": null,
   "id": "b8800986",
   "metadata": {},
   "outputs": [],
   "source": [
    "fragm_model.layers"
   ]
  },
  {
   "cell_type": "markdown",
   "id": "94ff01d9",
   "metadata": {},
   "source": [
    "### Background prediction (test)"
   ]
  },
  {
   "cell_type": "code",
   "execution_count": null,
   "id": "76461109",
   "metadata": {},
   "outputs": [],
   "source": [
    "X = data_file['data'][\"Background_data\"][\"Test\"][\"DATA\"][:2048]\n",
    "scale_data = data_file['data']['Normalisation']['norm_scale'][:].flatten()\n",
    "offset_data =  data_file['data']['Normalisation']['norm_bias'][:].flatten()\n",
    "\n",
    "X_flat = X.reshape(X.shape[0], -1)\n",
    "X_int = (X_flat * scale_data) + offset_data\n",
    "X_flat_int = X_int.astype('int')"
   ]
  },
  {
   "cell_type": "code",
   "execution_count": null,
   "id": "779e08ea",
   "metadata": {},
   "outputs": [],
   "source": [
    "input_quantizer = quantized_bits(14, 5, alpha=1)\n",
    "output_quantizer = quantized_bits(18,13,alpha=1)\n",
    "bias_quantizer = quantized_bits(18,12,alpha=1)"
   ]
  },
  {
   "cell_type": "code",
   "execution_count": null,
   "id": "a843dea8",
   "metadata": {},
   "outputs": [],
   "source": [
    "from tqdm import tqdm\n",
    "batch_size = 128\n",
    "predictions = []\n",
    "\n",
    "for start in tqdm(range(0, 1024, batch_size), desc=\"Qkeras preds\"):\n",
    "        end = min(start + batch_size, X_flat_int.shape[0])\n",
    "        X_for_qk = X_flat_int[start:end].astype('float')\n",
    "        X_biased = bias_quantizer(X_for_qk - offset_data).numpy().astype('float')\n",
    "        X_scaled = bias_quantizer(X_biased / scale_data)\n",
    "        X_scaled_quantized_2 = input_quantizer(X_scaled)\n",
    "        \n",
    "        pred = model.predict(X_scaled_quantized_2)\n",
    "        quantized_pred = output_quantizer(pred)\n",
    "        predictions.append(quantized_pred)"
   ]
  },
  {
   "cell_type": "code",
   "execution_count": null,
   "id": "d977ef51",
   "metadata": {},
   "outputs": [],
   "source": [
    "predictions[0]"
   ]
  },
  {
   "cell_type": "markdown",
   "id": "3e6ad484",
   "metadata": {},
   "source": [
    "### Conversion into a hls4ml model"
   ]
  },
  {
   "cell_type": "code",
   "execution_count": null,
   "id": "9dcc41ea",
   "metadata": {},
   "outputs": [],
   "source": [
    "import hls4ml\n",
    "\n",
    "hls_config = hls4ml.utils.config_from_keras_model(\n",
    "    model,\n",
    "    granularity='name', \n",
    "    default_precision='fixed<14,7>',\n",
    "    backend='Vitis')\n",
    "print(\"-----------------------------------\")\n"
   ]
  },
  {
   "cell_type": "code",
   "execution_count": null,
   "id": "68c8c0c3",
   "metadata": {},
   "outputs": [],
   "source": [
    "hls_model = hls4ml.converters.convert_from_keras_model(\n",
    "    model, hls_config=hls_config, backend='Vitis',\n",
    "    output_dir='./hls_test'\n",
    ")"
   ]
  },
  {
   "cell_type": "code",
   "execution_count": null,
   "id": "b6aca682",
   "metadata": {},
   "outputs": [],
   "source": [
    "hls_model.compile()"
   ]
  },
  {
   "cell_type": "markdown",
   "id": "0dacc39e",
   "metadata": {},
   "source": [
    "### Predictions for HLS model"
   ]
  },
  {
   "cell_type": "code",
   "execution_count": null,
   "id": "ce2a53ac",
   "metadata": {},
   "outputs": [],
   "source": [
    "from tqdm import tqdm\n",
    "batch_size = 128\n",
    "predictions_hls = []\n",
    "\n",
    "for start in tqdm(range(0, 1024, batch_size), desc=\"hls preds\"):\n",
    "        end = min(start + batch_size, X_flat_int.shape[0])\n",
    "        X_for_qk = X_flat_int[start:end].astype('float')\n",
    "        X_biased = quantizer(X_for_qk - offset_data).numpy().astype('float')\n",
    "        X_scaled = quantizer(X_biased / scale_data)\n",
    "        X_scaled_quantized_2 = quantizer(X_scaled)\n",
    "        \n",
    "        pred = hls_model.predict(numpy.ascontiguousarray(X_scaled_quantized_2))\n",
    "        quantized_pred = quantizer(pred)\n",
    "        predictions_hls.append(quantized_pred)"
   ]
  },
  {
   "cell_type": "code",
   "execution_count": null,
   "id": "e87fd337",
   "metadata": {},
   "outputs": [],
   "source": [
    "predictions[0][:,0].numpy()"
   ]
  },
  {
   "cell_type": "code",
   "execution_count": null,
   "id": "b8220c56",
   "metadata": {},
   "outputs": [],
   "source": [
    "print(numpy.column_stack((predictions[0][:,0].numpy(),predictions_hls[0][:,0].numpy())))"
   ]
  }
 ],
 "metadata": {
  "kernelspec": {
   "display_name": "venv3_9",
   "language": "python",
   "name": "python3"
  },
  "language_info": {
   "codemirror_mode": {
    "name": "ipython",
    "version": 3
   },
   "file_extension": ".py",
   "mimetype": "text/x-python",
   "name": "python",
   "nbconvert_exporter": "python",
   "pygments_lexer": "ipython3",
   "version": "3.9.21"
  }
 },
 "nbformat": 4,
 "nbformat_minor": 5
}
