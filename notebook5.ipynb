{
 "cells": [
  {
   "cell_type": "markdown",
   "id": "9fe30375",
   "metadata": {},
   "source": [
    "### Load the model"
   ]
  },
  {
   "cell_type": "code",
   "execution_count": 1,
   "id": "8259f1ae",
   "metadata": {},
   "outputs": [
    {
     "name": "stderr",
     "output_type": "stream",
     "text": [
      "2025-08-20 17:43:47.905117: I tensorflow/tsl/cuda/cudart_stub.cc:28] Could not find cuda drivers on your machine, GPU will not be used.\n",
      "2025-08-20 17:43:47.960080: E tensorflow/compiler/xla/stream_executor/cuda/cuda_dnn.cc:9342] Unable to register cuDNN factory: Attempting to register factory for plugin cuDNN when one has already been registered\n",
      "2025-08-20 17:43:47.960133: E tensorflow/compiler/xla/stream_executor/cuda/cuda_fft.cc:609] Unable to register cuFFT factory: Attempting to register factory for plugin cuFFT when one has already been registered\n",
      "2025-08-20 17:43:47.960193: E tensorflow/compiler/xla/stream_executor/cuda/cuda_blas.cc:1518] Unable to register cuBLAS factory: Attempting to register factory for plugin cuBLAS when one has already been registered\n",
      "2025-08-20 17:43:47.970643: I tensorflow/tsl/cuda/cudart_stub.cc:28] Could not find cuda drivers on your machine, GPU will not be used.\n",
      "2025-08-20 17:43:47.971153: I tensorflow/core/platform/cpu_feature_guard.cc:182] This TensorFlow binary is optimized to use available CPU instructions in performance-critical operations.\n",
      "To enable the following instructions: AVX2 FMA, in other operations, rebuild TensorFlow with the appropriate compiler flags.\n",
      "2025-08-20 17:43:58.160441: W tensorflow/compiler/tf2tensorrt/utils/py_utils.cc:38] TF-TRT Warning: Could not find TensorRT\n",
      "/afs/cern.ch/user/p/psajdak/eos_mine/project_CERN/venv3_9/lib64/python3.9/site-packages/networkx/utils/backends.py:135: RuntimeWarning: networkx backend defined more than once: nx-loopback\n",
      "  backends.update(_get_backends(\"networkx.backends\"))\n"
     ]
    },
    {
     "name": "stdout",
     "output_type": "stream",
     "text": [
      "WARNING:tensorflow:No training configuration found in the save file, so the model was *not* compiled. Compile it manually.\n"
     ]
    },
    {
     "name": "stderr",
     "output_type": "stream",
     "text": [
      "WARNING:tensorflow:No training configuration found in the save file, so the model was *not* compiled. Compile it manually.\n"
     ]
    }
   ],
   "source": [
    "import tensorflow as tf\n",
    "import numpy\n",
    "import h5py\n",
    "from qkeras.utils import _add_supported_quantized_objects\n",
    "from qkeras import quantized_bits\n",
    "co = {}; _add_supported_quantized_objects(co)\n",
    "\n",
    "model_path = f\"/eos/project/c/cms-l1ml/public/Pawel/axol1tl_model.h5\"\n",
    "\n",
    "model = tf.keras.models.load_model(model_path, custom_objects=co)\n",
    "#model_config = model.get_config()"
   ]
  },
  {
   "cell_type": "code",
   "execution_count": 2,
   "id": "bbc05754",
   "metadata": {},
   "outputs": [],
   "source": [
    "data_path = f\"/eos/project/c/cms-l1ml/public/Pawel/complete.h5\"\n",
    "data_file = h5py.File(data_path, 'r')"
   ]
  },
  {
   "cell_type": "markdown",
   "id": "a35ed723",
   "metadata": {},
   "source": [
    "### Copy weights into the model"
   ]
  },
  {
   "cell_type": "code",
   "execution_count": 3,
   "id": "cdb95ea0",
   "metadata": {},
   "outputs": [],
   "source": [
    "#model.compile()\n",
    "\n",
    "ds_weights = data_file['model']['trimmed_encoder']['model_weights']\n",
    "for layer in iter(model.layers):\n",
    "    #print(layer.name)\n",
    "    if layer.name in ('input_1','subtract','dot'): continue\n",
    "\n",
    "    if layer.name == 'q_dense_4':\n",
    "        weights_group = ds_weights['q_dense_4']['variational_auto_encoder']['vae__encoder']['q_dense_4']\n",
    "        layer.set_weights((weights_group['kernel:0'], weights_group['bias:0']))\n",
    "        continue\n",
    "\n",
    "    weights_group = ds_weights[layer.name][layer.name]\n",
    "    layer.set_weights((weights_group['kernel:0'], weights_group['bias:0']))"
   ]
  },
  {
   "cell_type": "markdown",
   "id": "96c90bd8",
   "metadata": {},
   "source": [
    "### Prepare data for tests"
   ]
  },
  {
   "cell_type": "code",
   "execution_count": 4,
   "id": "80799b66",
   "metadata": {},
   "outputs": [],
   "source": [
    "input_quantizer = quantized_bits(14, 5, alpha=1)\n",
    "output_quantizer = quantized_bits(18,13,alpha=1)\n",
    "bias_quantizer = quantized_bits(18,12,alpha=1)"
   ]
  },
  {
   "cell_type": "code",
   "execution_count": 5,
   "id": "7d07e5c4",
   "metadata": {},
   "outputs": [
    {
     "data": {
      "text/plain": [
       "tf.float32"
      ]
     },
     "execution_count": 5,
     "metadata": {},
     "output_type": "execute_result"
    }
   ],
   "source": [
    "X = data_file['data'][\"Background_data\"][\"Test\"][\"DATA\"][:2048]\n",
    "\n",
    "X_flat = X.reshape(X.shape[0], -1)\n",
    "X_flat = input_quantizer(X_flat)\n",
    "X_flat.dtype"
   ]
  },
  {
   "cell_type": "markdown",
   "id": "957fe795",
   "metadata": {},
   "source": [
    "### Fragmentary model"
   ]
  },
  {
   "cell_type": "code",
   "execution_count": 11,
   "id": "e691f8b7",
   "metadata": {},
   "outputs": [
    {
     "name": "stdout",
     "output_type": "stream",
     "text": [
      "Model: \"fragm_model\"\n",
      "_________________________________________________________________\n",
      " Layer (type)                Output Shape              Param #   \n",
      "=================================================================\n",
      " input_1 (InputLayer)        [(None, 57)]              0         \n",
      "                                                                 \n",
      " q_dense (QDense)            (None, 29)                1682      \n",
      "                                                                 \n",
      "=================================================================\n",
      "Total params: 1682 (6.57 KB)\n",
      "Trainable params: 1682 (6.57 KB)\n",
      "Non-trainable params: 0 (0.00 Byte)\n",
      "_________________________________________________________________\n"
     ]
    }
   ],
   "source": [
    "fragm_model = tf.keras.Model(inputs=model.layers[0].input, outputs=model.layers[1].output, name='fragm_model')\n",
    "fragm_model.summary()"
   ]
  },
  {
   "cell_type": "markdown",
   "id": "3e6ad484",
   "metadata": {},
   "source": [
    "### Conversion into a hls4ml model"
   ]
  },
  {
   "cell_type": "code",
   "execution_count": 12,
   "id": "9dcc41ea",
   "metadata": {},
   "outputs": [
    {
     "name": "stdout",
     "output_type": "stream",
     "text": [
      "Interpreting Model\n",
      "Topology:\n",
      "Layer name: input_1, layer type: InputLayer, input shapes: [[None, 57]], output shape: [None, 57]\n",
      "Layer name: q_dense, layer type: QDense, input shapes: [[None, 57]], output shape: [None, 29]\n",
      "-----------------------------------\n"
     ]
    },
    {
     "name": "stderr",
     "output_type": "stream",
     "text": [
      "/afs/cern.ch/user/p/psajdak/eos_mine/project_CERN/venv3_9/lib64/python3.9/site-packages/keras/src/constraints.py:365: UserWarning: The `keras.constraints.serialize()` API should only be used for objects of type `keras.constraints.Constraint`. Found an instance of type <class 'qkeras.quantizers.quantized_bits'>, which may lead to improper serialization.\n",
      "  warnings.warn(\n"
     ]
    }
   ],
   "source": [
    "import hls4ml\n",
    "\n",
    "hls_config = hls4ml.utils.config_from_keras_model(\n",
    "    fragm_model,\n",
    "    granularity='name', \n",
    "    default_precision='fixed<14,7>',\n",
    "    backend='Vitis')\n",
    "print(\"-----------------------------------\")\n"
   ]
  },
  {
   "cell_type": "code",
   "execution_count": 13,
   "id": "68c8c0c3",
   "metadata": {},
   "outputs": [
    {
     "name": "stdout",
     "output_type": "stream",
     "text": [
      "Interpreting Model\n",
      "Topology:\n",
      "Layer name: input_1, layer type: InputLayer, input shapes: [[None, 57]], output shape: [None, 57]\n",
      "Layer name: q_dense, layer type: QDense, input shapes: [[None, 57]], output shape: [None, 29]\n",
      "Creating HLS model\n"
     ]
    }
   ],
   "source": [
    "hls_model = hls4ml.converters.convert_from_keras_model(\n",
    "    fragm_model, hls_config=hls_config, backend='Vitis',\n",
    "    output_dir='./hls_fragm_0_1'\n",
    ")"
   ]
  },
  {
   "cell_type": "code",
   "execution_count": 14,
   "id": "b6aca682",
   "metadata": {},
   "outputs": [
    {
     "name": "stdout",
     "output_type": "stream",
     "text": [
      "Writing HLS project\n",
      "WARNING:tensorflow:Compiled the loaded model, but the compiled metrics have yet to be built. `model.compile_metrics` will be empty until you train or evaluate the model.\n"
     ]
    },
    {
     "name": "stderr",
     "output_type": "stream",
     "text": [
      "WARNING:tensorflow:Compiled the loaded model, but the compiled metrics have yet to be built. `model.compile_metrics` will be empty until you train or evaluate the model.\n"
     ]
    },
    {
     "name": "stdout",
     "output_type": "stream",
     "text": [
      "Done\n"
     ]
    }
   ],
   "source": [
    "hls_model.compile()"
   ]
  },
  {
   "cell_type": "markdown",
   "id": "0dacc39e",
   "metadata": {},
   "source": [
    "### Compare predictions for the QKeras and HLS model"
   ]
  },
  {
   "cell_type": "code",
   "execution_count": null,
   "id": "06a83c2b",
   "metadata": {},
   "outputs": [
    {
     "name": "stdout",
     "output_type": "stream",
     "text": [
      "64/64 [==============================] - 0s 2ms/step\n"
     ]
    }
   ],
   "source": [
    "pred_qkeras = fragm_model.predict(X_flat)\n",
    "pred_hls = hls_model.predict(numpy.ascontiguousarray(X_flat))"
   ]
  },
  {
   "cell_type": "markdown",
   "id": "b8b942cf",
   "metadata": {},
   "source": [
    "Both shapes (2048,29) and dtypes (float32) consistent"
   ]
  },
  {
   "cell_type": "code",
   "execution_count": 23,
   "id": "cfc1a467",
   "metadata": {},
   "outputs": [
    {
     "data": {
      "text/plain": [
       "array([[1.625 , 0.625 , 0.75  , 1.1875, 0.5   , 0.75  , 1.5625, 3.6875,\n",
       "        1.0625, 1.625 , 0.    , 0.    , 0.4375, 2.3125, 1.0625, 0.    ,\n",
       "        3.6875, 0.    , 0.    , 2.125 , 2.875 , 0.    , 0.    , 1.25  ,\n",
       "        0.    , 0.125 , 0.125 , 3.875 , 0.    ],\n",
       "       [1.5625, 0.5625, 0.6875, 1.125 , 0.4375, 0.6875, 1.5   , 3.6875,\n",
       "        1.    , 1.5625, 0.    , 0.    , 0.375 , 2.25  , 1.0625, 0.    ,\n",
       "        3.625 , 0.    , 0.    , 2.0625, 2.8125, 0.    , 0.    , 1.1875,\n",
       "        0.    , 0.0625, 0.0625, 3.8125, 0.    ]], dtype=float32)"
      ]
     },
     "execution_count": 23,
     "metadata": {},
     "output_type": "execute_result"
    }
   ],
   "source": [
    "numpy.vstack((pred_qkeras[0], pred_hls[0]))"
   ]
  }
 ],
 "metadata": {
  "kernelspec": {
   "display_name": "venv3_9",
   "language": "python",
   "name": "python3"
  },
  "language_info": {
   "codemirror_mode": {
    "name": "ipython",
    "version": 3
   },
   "file_extension": ".py",
   "mimetype": "text/x-python",
   "name": "python",
   "nbconvert_exporter": "python",
   "pygments_lexer": "ipython3",
   "version": "3.9.21"
  }
 },
 "nbformat": 4,
 "nbformat_minor": 5
}
