{
 "cells": [
  {
   "cell_type": "markdown",
   "id": "b9a18b73",
   "metadata": {},
   "source": [
    "### Info\n",
    "based on notebook3\\\n",
    "conversion of qkeras to hls4ml"
   ]
  },
  {
   "cell_type": "markdown",
   "id": "5bc0d5be",
   "metadata": {},
   "source": [
    "### Load packages and the model"
   ]
  },
  {
   "cell_type": "code",
   "execution_count": 1,
   "id": "4a0a3a99",
   "metadata": {},
   "outputs": [
    {
     "name": "stderr",
     "output_type": "stream",
     "text": [
      "2025-10-02 17:25:07.761281: I tensorflow/tsl/cuda/cudart_stub.cc:28] Could not find cuda drivers on your machine, GPU will not be used.\n",
      "2025-10-02 17:25:08.039503: E tensorflow/compiler/xla/stream_executor/cuda/cuda_dnn.cc:9342] Unable to register cuDNN factory: Attempting to register factory for plugin cuDNN when one has already been registered\n",
      "2025-10-02 17:25:08.039559: E tensorflow/compiler/xla/stream_executor/cuda/cuda_fft.cc:609] Unable to register cuFFT factory: Attempting to register factory for plugin cuFFT when one has already been registered\n",
      "2025-10-02 17:25:08.039613: E tensorflow/compiler/xla/stream_executor/cuda/cuda_blas.cc:1518] Unable to register cuBLAS factory: Attempting to register factory for plugin cuBLAS when one has already been registered\n",
      "2025-10-02 17:25:08.088385: I tensorflow/tsl/cuda/cudart_stub.cc:28] Could not find cuda drivers on your machine, GPU will not be used.\n",
      "2025-10-02 17:25:08.088902: I tensorflow/core/platform/cpu_feature_guard.cc:182] This TensorFlow binary is optimized to use available CPU instructions in performance-critical operations.\n",
      "To enable the following instructions: AVX2 FMA, in other operations, rebuild TensorFlow with the appropriate compiler flags.\n",
      "2025-10-02 17:25:26.352094: W tensorflow/compiler/tf2tensorrt/utils/py_utils.cc:38] TF-TRT Warning: Could not find TensorRT\n",
      "/afs/cern.ch/user/p/psajdak/eos_mine/project_CERN/venv3_9/lib64/python3.9/site-packages/networkx/utils/backends.py:135: RuntimeWarning: networkx backend defined more than once: nx-loopback\n",
      "  backends.update(_get_backends(\"networkx.backends\"))\n"
     ]
    },
    {
     "name": "stdout",
     "output_type": "stream",
     "text": [
      "WARNING:tensorflow:No training configuration found in the save file, so the model was *not* compiled. Compile it manually.\n"
     ]
    },
    {
     "name": "stderr",
     "output_type": "stream",
     "text": [
      "WARNING:tensorflow:No training configuration found in the save file, so the model was *not* compiled. Compile it manually.\n"
     ]
    }
   ],
   "source": [
    "import tensorflow as tf\n",
    "import numpy\n",
    "import h5py\n",
    "from qkeras.utils import _add_supported_quantized_objects\n",
    "from qkeras import quantized_bits\n",
    "co = {}; _add_supported_quantized_objects(co)\n",
    "\n",
    "model_path = f\"/eos/project/c/cms-l1ml/public/Pawel/axol1tl_model.h5\"\n",
    "\n",
    "model = tf.keras.models.load_model(model_path, custom_objects=co)\n",
    "#model_config = model.get_config()\n",
    "\n",
    "data_path = f\"/eos/project/c/cms-l1ml/public/Pawel/complete.h5\"\n",
    "data_file = h5py.File(data_path, 'r')"
   ]
  },
  {
   "cell_type": "markdown",
   "id": "a2266868",
   "metadata": {},
   "source": [
    "### Copy weights"
   ]
  },
  {
   "cell_type": "code",
   "execution_count": 2,
   "id": "6ec905f1",
   "metadata": {},
   "outputs": [],
   "source": [
    "ds_weights = data_file['model']['trimmed_encoder']['model_weights']\n",
    "for layer in iter(model.layers):\n",
    "    #print(layer.name)\n",
    "    if layer.name in ('input_1','subtract','dot'): continue\n",
    "\n",
    "    if layer.name == 'q_dense_4':\n",
    "        weights_group = ds_weights['q_dense_4']['variational_auto_encoder']['vae__encoder']['q_dense_4']\n",
    "        layer.set_weights((weights_group['kernel:0'], weights_group['bias:0']))\n",
    "        continue\n",
    "\n",
    "    weights_group = ds_weights[layer.name][layer.name]\n",
    "    layer.set_weights((weights_group['kernel:0'], weights_group['bias:0']))"
   ]
  },
  {
   "cell_type": "markdown",
   "id": "efd6571c",
   "metadata": {},
   "source": [
    "### Into hls4ml"
   ]
  },
  {
   "cell_type": "code",
   "execution_count": 3,
   "id": "0772ba4f",
   "metadata": {},
   "outputs": [
    {
     "name": "stderr",
     "output_type": "stream",
     "text": [
      "/afs/cern.ch/user/p/psajdak/eos_mine/project_CERN/venv3_9/lib64/python3.9/site-packages/hls4ml/converters/__init__.py:27: UserWarning: WARNING: Pytorch converter is not enabled!\n",
      "  warnings.warn(\"WARNING: Pytorch converter is not enabled!\", stacklevel=1)\n"
     ]
    },
    {
     "name": "stdout",
     "output_type": "stream",
     "text": [
      "WARNING: Failed to import handlers from convolution.py: No module named 'torch'.\n",
      "WARNING: Failed to import handlers from core.py: No module named 'torch'.\n",
      "WARNING: Failed to import handlers from merge.py: No module named 'torch'.\n",
      "WARNING: Failed to import handlers from pooling.py: No module named 'torch'.\n",
      "WARNING: Failed to import handlers from reshape.py: No module named 'torch'.\n",
      "Interpreting Model\n",
      "Topology:\n",
      "Layer name: input_1, layer type: InputLayer, input shapes: [[None, 57]], output shape: [None, 57]\n",
      "Layer name: q_dense, layer type: QDense, input shapes: [[None, 57]], output shape: [None, 29]\n",
      "Layer name: q_dense_1, layer type: QDense, input shapes: [[None, 29]], output shape: [None, 10]\n",
      "Layer name: q_dense_2, layer type: QDense, input shapes: [[None, 10]], output shape: [None, 9]\n",
      "Layer name: q_dense_3, layer type: QDense, input shapes: [[None, 9]], output shape: [None, 6]\n",
      "Layer name: q_dense_4, layer type: QDense, input shapes: [[None, 6]], output shape: [None, 4]\n",
      "Layer name: q_dense_6, layer type: QDense, input shapes: [[None, 4]], output shape: [None, 6]\n",
      "Layer name: q_dense_7, layer type: QDense, input shapes: [[None, 6]], output shape: [None, 9]\n",
      "Layer name: q_dense_8, layer type: QDense, input shapes: [[None, 9]], output shape: [None, 10]\n",
      "Layer name: subtract, layer type: Merge, input shapes: [[None, 10], [None, 10]], output shape: [None, 10]\n",
      "Layer name: dot, layer type: Dot, input shapes: [[None, 10], [None, 10]], output shape: [None, 10]\n"
     ]
    },
    {
     "name": "stderr",
     "output_type": "stream",
     "text": [
      "/afs/cern.ch/user/p/psajdak/eos_mine/project_CERN/venv3_9/lib64/python3.9/site-packages/keras/src/constraints.py:365: UserWarning: The `keras.constraints.serialize()` API should only be used for objects of type `keras.constraints.Constraint`. Found an instance of type <class 'qkeras.quantizers.quantized_bits'>, which may lead to improper serialization.\n",
      "  warnings.warn(\n"
     ]
    }
   ],
   "source": [
    "import hls4ml\n",
    "\n",
    "hls_config = hls4ml.utils.config_from_keras_model(\n",
    "    model,\n",
    "    granularity='name', \n",
    "    default_precision='fixed<18,8>',    # like the activation\n",
    "    backend='Vitis')"
   ]
  },
  {
   "cell_type": "code",
   "execution_count": 4,
   "id": "e67cef5b",
   "metadata": {},
   "outputs": [
    {
     "data": {
      "text/plain": [
       "{'Model': {'Precision': 'fixed<18,8>',\n",
       "  'ReuseFactor': 1,\n",
       "  'Strategy': 'Latency',\n",
       "  'BramFactor': 1000000000,\n",
       "  'TraceOutput': False},\n",
       " 'LayerName': {'input_1': {'Trace': False,\n",
       "   'Precision': {'result': 'fixed<18,8>'}},\n",
       "  'q_dense': {'Trace': False,\n",
       "   'Precision': {'result': 'fixed<18,8>',\n",
       "    'weight': 'fixed<6,3>',\n",
       "    'bias': 'fixed<10,7>',\n",
       "    'accum': 'fixed<18,8>'},\n",
       "   'ReuseFactor': 1},\n",
       "  'q_dense_quantized_relu': {'Trace': False,\n",
       "   'Precision': {'result': 'ufixed<10,6,RND_CONV,SAT>',\n",
       "    'table': 'fixed<18,8>'},\n",
       "   'ReuseFactor': 1,\n",
       "   'TableSize': 1024},\n",
       "  'q_dense_1': {'Trace': False,\n",
       "   'Precision': {'result': 'fixed<18,8>',\n",
       "    'weight': 'fixed<6,3>',\n",
       "    'bias': 'fixed<10,7>',\n",
       "    'accum': 'fixed<18,8>'},\n",
       "   'ReuseFactor': 1},\n",
       "  'q_dense_1_quantized_relu': {'Trace': False,\n",
       "   'Precision': {'result': 'ufixed<10,6,RND_CONV,SAT>',\n",
       "    'table': 'fixed<18,8>'},\n",
       "   'ReuseFactor': 1,\n",
       "   'TableSize': 1024},\n",
       "  'q_dense_2': {'Trace': False,\n",
       "   'Precision': {'result': 'fixed<18,8>',\n",
       "    'weight': 'fixed<6,3>',\n",
       "    'bias': 'fixed<10,7>',\n",
       "    'accum': 'fixed<18,8>'},\n",
       "   'ReuseFactor': 1},\n",
       "  'q_dense_2_quantized_relu': {'Trace': False,\n",
       "   'Precision': {'result': 'ufixed<10,6,RND_CONV,SAT>',\n",
       "    'table': 'fixed<18,8>'},\n",
       "   'ReuseFactor': 1,\n",
       "   'TableSize': 1024},\n",
       "  'q_dense_3': {'Trace': False,\n",
       "   'Precision': {'result': 'fixed<18,8>',\n",
       "    'weight': 'fixed<6,3>',\n",
       "    'bias': 'fixed<10,7>',\n",
       "    'accum': 'fixed<18,8>'},\n",
       "   'ReuseFactor': 1},\n",
       "  'q_dense_3_quantized_relu': {'Trace': False,\n",
       "   'Precision': {'result': 'ufixed<10,6,RND_CONV,SAT>',\n",
       "    'table': 'fixed<18,8>'},\n",
       "   'ReuseFactor': 1,\n",
       "   'TableSize': 1024},\n",
       "  'q_dense_4': {'Trace': False,\n",
       "   'Precision': {'result': 'fixed<18,8>',\n",
       "    'weight': 'fixed<6,3>',\n",
       "    'bias': 'fixed<10,7>',\n",
       "    'accum': 'fixed<18,8>'},\n",
       "   'ReuseFactor': 1},\n",
       "  'q_dense_4_linear': {'Trace': False,\n",
       "   'Precision': {'result': 'fixed<18,8>', 'table': 'fixed<18,8>'},\n",
       "   'ReuseFactor': 1,\n",
       "   'TableSize': 1024},\n",
       "  'q_dense_6': {'Trace': False,\n",
       "   'Precision': {'result': 'fixed<18,8>',\n",
       "    'weight': 'fixed<6,3>',\n",
       "    'bias': 'fixed<10,7>',\n",
       "    'accum': 'fixed<18,8>'},\n",
       "   'ReuseFactor': 1},\n",
       "  'q_dense_6_quantized_relu': {'Trace': False,\n",
       "   'Precision': {'result': 'ufixed<10,6,RND_CONV,SAT>',\n",
       "    'table': 'fixed<18,8>'},\n",
       "   'ReuseFactor': 1,\n",
       "   'TableSize': 1024},\n",
       "  'q_dense_7': {'Trace': False,\n",
       "   'Precision': {'result': 'fixed<18,8>',\n",
       "    'weight': 'fixed<6,3>',\n",
       "    'bias': 'fixed<10,7>',\n",
       "    'accum': 'fixed<18,8>'},\n",
       "   'ReuseFactor': 1},\n",
       "  'q_dense_7_quantized_relu': {'Trace': False,\n",
       "   'Precision': {'result': 'ufixed<10,6,RND_CONV,SAT>',\n",
       "    'table': 'fixed<18,8>'},\n",
       "   'ReuseFactor': 1,\n",
       "   'TableSize': 1024},\n",
       "  'q_dense_8': {'Trace': False,\n",
       "   'Precision': {'result': 'fixed<18,8>',\n",
       "    'weight': 'fixed<6,3>',\n",
       "    'bias': 'fixed<10,7>',\n",
       "    'accum': 'fixed<18,8>'},\n",
       "   'ReuseFactor': 1},\n",
       "  'q_dense_8_linear': {'Trace': False,\n",
       "   'Precision': {'result': 'fixed<18,8>', 'table': 'fixed<18,8>'},\n",
       "   'ReuseFactor': 1,\n",
       "   'TableSize': 1024},\n",
       "  'subtract': {'Trace': False, 'Precision': {'result': 'fixed<18,8>'}},\n",
       "  'dot': {'Trace': False,\n",
       "   'Precision': {'result': 'fixed<18,8>', 'accum': 'fixed<18,8>'},\n",
       "   'ReuseFactor': 1}}}"
      ]
     },
     "execution_count": 4,
     "metadata": {},
     "output_type": "execute_result"
    }
   ],
   "source": [
    "hls_config"
   ]
  },
  {
   "cell_type": "markdown",
   "id": "c0c4b9da",
   "metadata": {},
   "source": [
    "For qrelu:\\\n",
    "'Precision': {'result': 'ufixed<10,6,RND_CONV,SAT>', 'table': 'fixed<18,8>'},\\\n",
    "'ReuseFactor': 1, 'TableSize': 1024"
   ]
  },
  {
   "cell_type": "code",
   "execution_count": 5,
   "id": "fbda1f1f",
   "metadata": {},
   "outputs": [
    {
     "name": "stdout",
     "output_type": "stream",
     "text": [
      "Interpreting Model\n",
      "Topology:\n",
      "Layer name: input_1, layer type: InputLayer, input shapes: [[None, 57]], output shape: [None, 57]\n",
      "Layer name: q_dense, layer type: QDense, input shapes: [[None, 57]], output shape: [None, 29]\n",
      "Layer name: q_dense_1, layer type: QDense, input shapes: [[None, 29]], output shape: [None, 10]\n",
      "Layer name: q_dense_2, layer type: QDense, input shapes: [[None, 10]], output shape: [None, 9]\n",
      "Layer name: q_dense_3, layer type: QDense, input shapes: [[None, 9]], output shape: [None, 6]\n",
      "Layer name: q_dense_4, layer type: QDense, input shapes: [[None, 6]], output shape: [None, 4]\n",
      "Layer name: q_dense_6, layer type: QDense, input shapes: [[None, 4]], output shape: [None, 6]\n",
      "Layer name: q_dense_7, layer type: QDense, input shapes: [[None, 6]], output shape: [None, 9]\n",
      "Layer name: q_dense_8, layer type: QDense, input shapes: [[None, 9]], output shape: [None, 10]\n",
      "Layer name: subtract, layer type: Merge, input shapes: [[None, 10], [None, 10]], output shape: [None, 10]\n",
      "Layer name: dot, layer type: Dot, input shapes: [[None, 10], [None, 10]], output shape: [None, 10]\n",
      "Creating HLS model\n"
     ]
    }
   ],
   "source": [
    "hls_model = hls4ml.converters.convert_from_keras_model(\n",
    "    model, hls_config=hls_config, backend='Vitis',\n",
    "    output_dir='./new_hls_qkeras'\n",
    ")"
   ]
  },
  {
   "cell_type": "code",
   "execution_count": 6,
   "id": "2dd704d4",
   "metadata": {},
   "outputs": [
    {
     "name": "stdout",
     "output_type": "stream",
     "text": [
      "Writing HLS project\n",
      "WARNING:tensorflow:Compiled the loaded model, but the compiled metrics have yet to be built. `model.compile_metrics` will be empty until you train or evaluate the model.\n"
     ]
    },
    {
     "name": "stderr",
     "output_type": "stream",
     "text": [
      "/afs/cern.ch/user/p/psajdak/eos_mine/project_CERN/venv3_9/lib64/python3.9/site-packages/keras/src/engine/training.py:3079: UserWarning: You are saving your model as an HDF5 file via `model.save()`. This file format is considered legacy. We recommend using instead the native Keras format, e.g. `model.save('my_model.keras')`.\n",
      "  saving_api.save_model(\n",
      "WARNING:tensorflow:Compiled the loaded model, but the compiled metrics have yet to be built. `model.compile_metrics` will be empty until you train or evaluate the model.\n"
     ]
    },
    {
     "name": "stdout",
     "output_type": "stream",
     "text": [
      "Done\n"
     ]
    }
   ],
   "source": [
    "hls_model.write()"
   ]
  },
  {
   "cell_type": "code",
   "execution_count": 11,
   "id": "12a54840",
   "metadata": {},
   "outputs": [
    {
     "name": "stdout",
     "output_type": "stream",
     "text": [
      "Writing HLS project\n",
      "WARNING:tensorflow:Compiled the loaded model, but the compiled metrics have yet to be built. `model.compile_metrics` will be empty until you train or evaluate the model.\n"
     ]
    },
    {
     "name": "stderr",
     "output_type": "stream",
     "text": [
      "WARNING:tensorflow:Compiled the loaded model, but the compiled metrics have yet to be built. `model.compile_metrics` will be empty until you train or evaluate the model.\n"
     ]
    },
    {
     "name": "stdout",
     "output_type": "stream",
     "text": [
      "Done\n"
     ]
    }
   ],
   "source": [
    "hls_model.compile()"
   ]
  },
  {
   "cell_type": "code",
   "execution_count": 7,
   "id": "301ad02a",
   "metadata": {},
   "outputs": [
    {
     "ename": "AttributeError",
     "evalue": "module 'hls4ml.utils' has no attribute 'serialization'",
     "output_type": "error",
     "traceback": [
      "\u001b[0;31m---------------------------------------------------------------------------\u001b[0m",
      "\u001b[0;31mAttributeError\u001b[0m                            Traceback (most recent call last)",
      "Cell \u001b[0;32mIn[7], line 1\u001b[0m\n\u001b[0;32m----> 1\u001b[0m \u001b[43mhls4ml\u001b[49m\u001b[38;5;241;43m.\u001b[39;49m\u001b[43mutils\u001b[49m\u001b[38;5;241;43m.\u001b[39;49m\u001b[43mserialization\u001b[49m\u001b[38;5;241m.\u001b[39mserialize_model(hls_model,\u001b[38;5;124m'\u001b[39m\u001b[38;5;124m./ser_model\u001b[39m\u001b[38;5;124m'\u001b[39m)\n",
      "\u001b[0;31mAttributeError\u001b[0m: module 'hls4ml.utils' has no attribute 'serialization'"
     ]
    }
   ],
   "source": [
    "hls4ml.utils.serialization.serialize_model(hls_model,'./ser_model')"
   ]
  },
  {
   "cell_type": "markdown",
   "id": "e1537d95",
   "metadata": {},
   "source": [
    "### Test the models"
   ]
  },
  {
   "cell_type": "code",
   "execution_count": 8,
   "id": "9d617c95",
   "metadata": {},
   "outputs": [],
   "source": [
    "input_quantizer = quantized_bits(14, 6, alpha=1)\n",
    "output_quantizer = quantized_bits(18,14,alpha=1)"
   ]
  },
  {
   "cell_type": "code",
   "execution_count": 9,
   "id": "88e53b3d",
   "metadata": {},
   "outputs": [],
   "source": [
    "X = data_file['data'][\"Background_data\"][\"Test\"][\"DATA\"][:2048]\n",
    "X_flat = X.reshape(X.shape[0],-1)"
   ]
  },
  {
   "cell_type": "code",
   "execution_count": 12,
   "id": "1d0ebca4",
   "metadata": {},
   "outputs": [],
   "source": [
    "hls_pred = []\n",
    "for i in range(0,X_flat.shape[0]):\n",
    "    hls_pred_ = hls_model.predict(input_quantizer(X_flat[i]).numpy())\n",
    "    hls_pred.append(output_quantizer(hls_pred_).numpy())"
   ]
  },
  {
   "cell_type": "code",
   "execution_count": 13,
   "id": "5d610141",
   "metadata": {},
   "outputs": [],
   "source": [
    "hls_pred = numpy.stack(hls_pred)"
   ]
  },
  {
   "cell_type": "code",
   "execution_count": null,
   "id": "f2f54e0e",
   "metadata": {},
   "outputs": [],
   "source": [
    "qk_pred_ = model.predict(input_quantizer(X_flat[:]))"
   ]
  },
  {
   "cell_type": "code",
   "execution_count": null,
   "id": "cf66d8f2",
   "metadata": {},
   "outputs": [],
   "source": [
    "qk_pred = output_quantizer(qk_pred_)\n",
    "qk_pred = qk_pred.numpy()"
   ]
  },
  {
   "cell_type": "code",
   "execution_count": 14,
   "id": "61261333",
   "metadata": {},
   "outputs": [
    {
     "ename": "NameError",
     "evalue": "name 'qk_pred' is not defined",
     "output_type": "error",
     "traceback": [
      "\u001b[0;31m---------------------------------------------------------------------------\u001b[0m",
      "\u001b[0;31mNameError\u001b[0m                                 Traceback (most recent call last)",
      "Cell \u001b[0;32mIn[14], line 1\u001b[0m\n\u001b[0;32m----> 1\u001b[0m \u001b[38;5;28mprint\u001b[39m((\u001b[43mqk_pred\u001b[49m \u001b[38;5;241m-\u001b[39m hls_pred)\u001b[38;5;241m.\u001b[39mflatten()[:\u001b[38;5;241m1000\u001b[39m])\n",
      "\u001b[0;31mNameError\u001b[0m: name 'qk_pred' is not defined"
     ]
    }
   ],
   "source": [
    "print((qk_pred - hls_pred).flatten()[:1000])"
   ]
  }
 ],
 "metadata": {
  "kernelspec": {
   "display_name": "venv3_9",
   "language": "python",
   "name": "python3"
  },
  "language_info": {
   "codemirror_mode": {
    "name": "ipython",
    "version": 3
   },
   "file_extension": ".py",
   "mimetype": "text/x-python",
   "name": "python",
   "nbconvert_exporter": "python",
   "pygments_lexer": "ipython3",
   "version": "3.9.21"
  }
 },
 "nbformat": 4,
 "nbformat_minor": 5
}
