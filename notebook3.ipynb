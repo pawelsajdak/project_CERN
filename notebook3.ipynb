{
 "cells": [
  {
   "cell_type": "code",
   "execution_count": null,
   "id": "8259f1ae",
   "metadata": {},
   "outputs": [],
   "source": [
    "import tensorflow as tf\n",
    "import numpy\n",
    "import h5py\n",
    "from qkeras.utils import _add_supported_quantized_objects\n",
    "from qkeras import quantized_bits\n",
    "co = {}; _add_supported_quantized_objects(co)\n",
    "\n",
    "model_path = f\"/eos/project/c/cms-l1ml/public/Pawel/axol1tl_model.h5\"\n",
    "\n",
    "model = tf.keras.models.load_model(model_path, custom_objects=co)\n",
    "#model_config = model.get_config()"
   ]
  },
  {
   "cell_type": "code",
   "execution_count": null,
   "id": "bbc05754",
   "metadata": {},
   "outputs": [],
   "source": [
    "data_path = f\"/eos/project/c/cms-l1ml/public/Pawel/complete.h5\"\n",
    "data_file = h5py.File(data_path, 'r')"
   ]
  },
  {
   "cell_type": "markdown",
   "id": "a35ed723",
   "metadata": {},
   "source": [
    "### Copying weights into the model"
   ]
  },
  {
   "cell_type": "code",
   "execution_count": null,
   "id": "cdb95ea0",
   "metadata": {},
   "outputs": [],
   "source": [
    "model.compile()"
   ]
  },
  {
   "cell_type": "code",
   "execution_count": null,
   "id": "1b78776c",
   "metadata": {},
   "outputs": [],
   "source": [
    "ds_weights = data_file['model']['trimmed_encoder']['model_weights']\n",
    "for layer in iter(model.layers):\n",
    "    #print(layer.name)\n",
    "    if layer.name in ('input_1','subtract','dot'): continue\n",
    "\n",
    "    if layer.name == 'q_dense_4':\n",
    "        weights_group = ds_weights['q_dense_4']['variational_auto_encoder']['vae__encoder']['q_dense_4']\n",
    "        layer.set_weights((weights_group['kernel:0'], weights_group['bias:0']))\n",
    "        continue\n",
    "\n",
    "    weights_group = ds_weights[layer.name][layer.name]\n",
    "    layer.set_weights((weights_group['kernel:0'], weights_group['bias:0']))"
   ]
  },
  {
   "cell_type": "markdown",
   "id": "94ff01d9",
   "metadata": {},
   "source": [
    "### Background prediction (test)"
   ]
  },
  {
   "cell_type": "code",
   "execution_count": null,
   "id": "76461109",
   "metadata": {},
   "outputs": [],
   "source": [
    "X = data_file['data'][\"Background_data\"][\"Test\"][\"DATA\"][:]\n",
    "scale_data = data_file['data']['Normalisation']['norm_scale'][:].flatten()\n",
    "offset_data =  data_file['data']['Normalisation']['norm_bias'][:].flatten()\n",
    "\n",
    "X_flat = X.reshape(X.shape[0], -1)\n",
    "X_int = (X_flat * scale_data) + offset_data\n",
    "X_flat_int = X_int.astype('int')"
   ]
  },
  {
   "cell_type": "code",
   "execution_count": null,
   "id": "779e08ea",
   "metadata": {},
   "outputs": [],
   "source": [
    "input_quantizer = quantized_bits(14, 5, alpha=1)\n",
    "output_quantizer = quantized_bits(18,13,alpha=1)\n",
    "bias_quantizer = quantized_bits(18,12,alpha=1)"
   ]
  },
  {
   "cell_type": "code",
   "execution_count": null,
   "id": "a843dea8",
   "metadata": {},
   "outputs": [],
   "source": [
    "from tqdm import tqdm\n",
    "batch_size = 128\n",
    "predictions = []\n",
    "\n",
    "for start in tqdm(range(0, 1024, batch_size), desc=\"Qkeras preds\"):\n",
    "        end = min(start + batch_size, X_flat_int.shape[0])\n",
    "        X_for_qk = X_flat_int[start:end].astype('float')\n",
    "        X_biased = bias_quantizer(X_for_qk - offset_data).numpy().astype('float')\n",
    "        X_scaled = bias_quantizer(X_biased / scale_data)\n",
    "        X_scaled_quantized_2 = input_quantizer(X_scaled)\n",
    "        \n",
    "        pred = model.predict(X_scaled_quantized_2)\n",
    "        quantized_pred = output_quantizer(pred)\n",
    "        predictions.append(quantized_pred)"
   ]
  },
  {
   "cell_type": "code",
   "execution_count": null,
   "id": "d977ef51",
   "metadata": {},
   "outputs": [],
   "source": [
    "predictions[0]"
   ]
  },
  {
   "cell_type": "markdown",
   "id": "3e6ad484",
   "metadata": {},
   "source": [
    "### Conversion into a hls4ml model"
   ]
  },
  {
   "cell_type": "code",
   "execution_count": null,
   "id": "9dcc41ea",
   "metadata": {},
   "outputs": [],
   "source": [
    "import hls4ml\n",
    "\n",
    "hls_config = hls4ml.utils.config_from_keras_model(\n",
    "    model,\n",
    "    granularity='name', \n",
    "    default_precision='fixed<14,7>',\n",
    "    backend='Vitis')\n",
    "print(\"-----------------------------------\")\n"
   ]
  },
  {
   "cell_type": "code",
   "execution_count": null,
   "id": "68c8c0c3",
   "metadata": {},
   "outputs": [],
   "source": [
    "hls_model = hls4ml.converters.convert_from_keras_model(\n",
    "    model, hls_config=hls_config, backend='Vitis',\n",
    "    output_dir='./hls_test'\n",
    ")"
   ]
  },
  {
   "cell_type": "code",
   "execution_count": null,
   "id": "b6aca682",
   "metadata": {},
   "outputs": [],
   "source": [
    "hls_model.compile()"
   ]
  },
  {
   "cell_type": "markdown",
   "id": "0dacc39e",
   "metadata": {},
   "source": [
    "### Predictions for HLS model"
   ]
  },
  {
   "cell_type": "code",
   "execution_count": null,
   "id": "ce2a53ac",
   "metadata": {},
   "outputs": [],
   "source": [
    "from tqdm import tqdm\n",
    "batch_size = 128\n",
    "predictions_hls = []\n",
    "\n",
    "for start in tqdm(range(0, 1024, batch_size), desc=\"hls preds\"):\n",
    "        end = min(start + batch_size, X_flat_int.shape[0])\n",
    "        X_for_qk = X_flat_int[start:end].astype('float')\n",
    "        X_biased = quantizer(X_for_qk - offset_data).numpy().astype('float')\n",
    "        X_scaled = quantizer(X_biased / scale_data)\n",
    "        X_scaled_quantized_2 = quantizer(X_scaled)\n",
    "        \n",
    "        pred = hls_model.predict(numpy.ascontiguousarray(X_scaled_quantized_2))\n",
    "        quantized_pred = quantizer(pred)\n",
    "        predictions_hls.append(quantized_pred)"
   ]
  },
  {
   "cell_type": "code",
   "execution_count": null,
   "id": "e87fd337",
   "metadata": {},
   "outputs": [],
   "source": [
    "predictions[0][:,0].numpy()"
   ]
  },
  {
   "cell_type": "code",
   "execution_count": null,
   "id": "b8220c56",
   "metadata": {},
   "outputs": [],
   "source": [
    "print(numpy.column_stack((predictions[0][:,0].numpy(),predictions_hls[0][:,0].numpy())))"
   ]
  }
 ],
 "metadata": {
  "kernelspec": {
   "display_name": "venv3_9",
   "language": "python",
   "name": "python3"
  },
  "language_info": {
   "codemirror_mode": {
    "name": "ipython",
    "version": 3
   },
   "file_extension": ".py",
   "mimetype": "text/x-python",
   "name": "python",
   "nbconvert_exporter": "python",
   "pygments_lexer": "ipython3",
   "version": "3.9.21"
  }
 },
 "nbformat": 4,
 "nbformat_minor": 5
}
