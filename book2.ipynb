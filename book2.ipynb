{
 "cells": [
  {
   "cell_type": "markdown",
   "id": "4522425d",
   "metadata": {},
   "source": [
    "### Info\n",
    "based on notebook4"
   ]
  },
  {
   "cell_type": "markdown",
   "id": "6aed202e",
   "metadata": {},
   "source": [
    "compare qkeras and qonnx predictions (without using hls4ml)\\\n",
    "strange thing on github: pred_qonnx[0]: [[4.4136963]]; then: 4.4375"
   ]
  },
  {
   "cell_type": "markdown",
   "id": "16e02ade",
   "metadata": {},
   "source": [
    "### Load packages and the model"
   ]
  },
  {
   "cell_type": "code",
   "execution_count": null,
   "id": "d8397dee",
   "metadata": {},
   "outputs": [
    {
     "name": "stderr",
     "output_type": "stream",
     "text": [
      "2025-09-25 15:59:51.213590: I tensorflow/tsl/cuda/cudart_stub.cc:28] Could not find cuda drivers on your machine, GPU will not be used.\n",
      "2025-09-25 15:59:52.346749: E tensorflow/compiler/xla/stream_executor/cuda/cuda_dnn.cc:9342] Unable to register cuDNN factory: Attempting to register factory for plugin cuDNN when one has already been registered\n",
      "2025-09-25 15:59:52.346797: E tensorflow/compiler/xla/stream_executor/cuda/cuda_fft.cc:609] Unable to register cuFFT factory: Attempting to register factory for plugin cuFFT when one has already been registered\n",
      "2025-09-25 15:59:52.353532: E tensorflow/compiler/xla/stream_executor/cuda/cuda_blas.cc:1518] Unable to register cuBLAS factory: Attempting to register factory for plugin cuBLAS when one has already been registered\n",
      "2025-09-25 15:59:53.122231: I tensorflow/tsl/cuda/cudart_stub.cc:28] Could not find cuda drivers on your machine, GPU will not be used.\n",
      "2025-09-25 15:59:53.127425: I tensorflow/core/platform/cpu_feature_guard.cc:182] This TensorFlow binary is optimized to use available CPU instructions in performance-critical operations.\n",
      "To enable the following instructions: AVX2 FMA, in other operations, rebuild TensorFlow with the appropriate compiler flags.\n",
      "2025-09-25 16:00:54.244325: W tensorflow/compiler/tf2tensorrt/utils/py_utils.cc:38] TF-TRT Warning: Could not find TensorRT\n"
     ]
    }
   ],
   "source": [
    "import tensorflow as tf\n",
    "import numpy as np\n",
    "import h5py\n",
    "from qkeras.utils import _add_supported_quantized_objects\n",
    "from qkeras import quantized_bits\n",
    "co = {}; _add_supported_quantized_objects(co)\n",
    "\n",
    "model_path = f\"/eos/project/c/cms-l1ml/public/Pawel/axol1tl_model.h5\"\n",
    "\n",
    "model = tf.keras.models.load_model(model_path, custom_objects=co)\n",
    "#model_config = model.get_config()\n",
    "\n",
    "data_path = f\"/eos/project/c/cms-l1ml/public/Pawel/complete.h5\"\n",
    "data_file = h5py.File(data_path, 'r')"
   ]
  },
  {
   "cell_type": "markdown",
   "id": "a45e4350",
   "metadata": {},
   "source": [
    "### Copy weights"
   ]
  },
  {
   "cell_type": "code",
   "execution_count": null,
   "id": "5c4ffb2d",
   "metadata": {},
   "outputs": [],
   "source": [
    "ds_weights = data_file['model']['trimmed_encoder']['model_weights']\n",
    "for layer in iter(model.layers):\n",
    "    #print(layer.name)\n",
    "    if layer.name in ('input_1','subtract','dot'): continue\n",
    "\n",
    "    if layer.name == 'q_dense_4':\n",
    "        weights_group = ds_weights['q_dense_4']['variational_auto_encoder']['vae__encoder']['q_dense_4']\n",
    "        layer.set_weights((weights_group['kernel:0'], weights_group['bias:0']))\n",
    "        continue\n",
    "\n",
    "    weights_group = ds_weights[layer.name][layer.name]\n",
    "    layer.set_weights((weights_group['kernel:0'], weights_group['bias:0']))"
   ]
  },
  {
   "cell_type": "code",
   "execution_count": 1,
   "id": "1e0d6dd2",
   "metadata": {},
   "outputs": [
    {
     "name": "stderr",
     "output_type": "stream",
     "text": [
      "2025-09-25 19:17:18.614132: I tensorflow/tsl/cuda/cudart_stub.cc:28] Could not find cuda drivers on your machine, GPU will not be used.\n",
      "2025-09-25 19:17:19.271820: E tensorflow/compiler/xla/stream_executor/cuda/cuda_dnn.cc:9342] Unable to register cuDNN factory: Attempting to register factory for plugin cuDNN when one has already been registered\n",
      "2025-09-25 19:17:19.271893: E tensorflow/compiler/xla/stream_executor/cuda/cuda_fft.cc:609] Unable to register cuFFT factory: Attempting to register factory for plugin cuFFT when one has already been registered\n",
      "2025-09-25 19:17:19.276381: E tensorflow/compiler/xla/stream_executor/cuda/cuda_blas.cc:1518] Unable to register cuBLAS factory: Attempting to register factory for plugin cuBLAS when one has already been registered\n",
      "2025-09-25 19:17:19.648872: I tensorflow/tsl/cuda/cudart_stub.cc:28] Could not find cuda drivers on your machine, GPU will not be used.\n",
      "2025-09-25 19:17:19.652442: I tensorflow/core/platform/cpu_feature_guard.cc:182] This TensorFlow binary is optimized to use available CPU instructions in performance-critical operations.\n",
      "To enable the following instructions: AVX2 FMA, in other operations, rebuild TensorFlow with the appropriate compiler flags.\n",
      "2025-09-25 19:17:42.400881: W tensorflow/compiler/tf2tensorrt/utils/py_utils.cc:38] TF-TRT Warning: Could not find TensorRT\n",
      "/afs/cern.ch/user/p/psajdak/eos_mine/project_CERN/venv3_9/lib64/python3.9/site-packages/networkx/utils/backends.py:135: RuntimeWarning: networkx backend defined more than once: nx-loopback\n",
      "  backends.update(_get_backends(\"networkx.backends\"))\n"
     ]
    }
   ],
   "source": [
    "#Quick setup (load qonnx model)\n",
    "import tensorflow as tf\n",
    "import numpy as np\n",
    "import h5py\n",
    "from qkeras.utils import _add_supported_quantized_objects\n",
    "from qkeras import quantized_bits\n",
    "\n",
    "import qonnx.core.onnx_exec as oxe\n",
    "from qonnx.converters import from_keras\n",
    "from qonnx.core.modelwrapper import ModelWrapper\n",
    "\n",
    "qonnx_model = ModelWrapper(\"init_model.onnx\")"
   ]
  },
  {
   "cell_type": "markdown",
   "id": "edb35ff3",
   "metadata": {},
   "source": [
    "### QONNX model"
   ]
  },
  {
   "cell_type": "code",
   "execution_count": null,
   "id": "4cc1c867",
   "metadata": {},
   "outputs": [
    {
     "name": "stderr",
     "output_type": "stream",
     "text": [
      "/afs/cern.ch/user/p/psajdak/eos_mine/project_CERN/venv3_9/lib64/python3.9/site-packages/keras/src/constraints.py:365: UserWarning: The `keras.constraints.serialize()` API should only be used for objects of type `keras.constraints.Constraint`. Found an instance of type <class 'qkeras.quantizers.quantized_bits'>, which may lead to improper serialization.\n",
      "  warnings.warn(\n",
      "2025-09-25 15:48:16.074233: I tensorflow/core/grappler/devices.cc:66] Number of eligible GPUs (core count >= 8, compute capability >= 0.0): 0\n",
      "2025-09-25 15:48:16.074468: I tensorflow/core/grappler/clusters/single_machine.cc:361] Starting new session\n",
      "2025-09-25 15:48:16.188516: I tensorflow/core/grappler/devices.cc:66] Number of eligible GPUs (core count >= 8, compute capability >= 0.0): 0\n",
      "2025-09-25 15:48:16.188745: I tensorflow/core/grappler/clusters/single_machine.cc:361] Starting new session\n"
     ]
    }
   ],
   "source": [
    "import qonnx.core.onnx_exec as oxe\n",
    "from qonnx.converters import from_keras\n",
    "from qonnx.core.modelwrapper import ModelWrapper\n",
    "#from qonnx.transformation.infer_shapes import InferShapes\n",
    "\n",
    "qonnx_model, external_storage = from_keras(model)\n",
    "qonnx_model = ModelWrapper(qonnx_model)"
   ]
  },
  {
   "cell_type": "code",
   "execution_count": null,
   "id": "f08e8212",
   "metadata": {},
   "outputs": [],
   "source": [
    "qonnx_model.save(\"init_model.onnx\")\n",
    "#qonnx_model.graph.node[3].__setattr__()"
   ]
  },
  {
   "cell_type": "code",
   "execution_count": 2,
   "id": "5bd90142",
   "metadata": {},
   "outputs": [
    {
     "name": "stdout",
     "output_type": "stream",
     "text": [
      "Quant_0\n",
      "Quant_1\n",
      "Quant_2\n",
      "Quant_3\n",
      "Quant_4\n",
      "Quant_5\n",
      "Quant_6\n",
      "Quant_7\n",
      "Quant_8\n",
      "Quant_9\n",
      "Quant_10\n",
      "Quant_11\n",
      "Quant_12\n",
      "Quant_13\n",
      "Quant_14\n",
      "Quant_15\n",
      "MatMul_0\n",
      "Add_0\n",
      "Quant_16\n",
      "Relu_0\n",
      "Quant_17\n",
      "MatMul_1\n",
      "Add_1\n",
      "Quant_18\n",
      "Relu_1\n",
      "Quant_19\n",
      "MatMul_2\n",
      "Add_2\n",
      "Quant_20\n",
      "Relu_2\n",
      "Quant_21\n",
      "MatMul_3\n",
      "Add_3\n",
      "Quant_22\n",
      "Relu_3\n",
      "Quant_23\n",
      "MatMul_4\n",
      "Add_4\n",
      "MatMul_5\n",
      "Add_5\n",
      "Quant_24\n",
      "Relu_4\n",
      "Quant_25\n",
      "MatMul_6\n",
      "Add_6\n",
      "Quant_26\n",
      "Relu_5\n",
      "Quant_27\n",
      "MatMul_7\n",
      "Add_7\n",
      "Sub_0\n",
      "Unsqueeze_0\n",
      "Unsqueeze_1\n",
      "MatMul_8\n",
      "Squeeze_0\n",
      "Identity_0\n",
      "Identity_1\n"
     ]
    }
   ],
   "source": [
    "for node in qonnx_model.graph.node:\n",
    "    print(node.name)"
   ]
  },
  {
   "cell_type": "markdown",
   "id": "46f8f60a",
   "metadata": {},
   "source": [
    "Quant node is not present between each add and relu within the Dense layers.\\\n",
    "These quant nodes should correspond to accumulators (?)"
   ]
  },
  {
   "cell_type": "markdown",
   "id": "1504af91",
   "metadata": {},
   "source": [
    "### Check the input parameters of the Quant nodes\n",
    "0.125 = (0.001)_2 \\\n",
    "0.0625 = (0.0001)_2"
   ]
  },
  {
   "cell_type": "code",
   "execution_count": 19,
   "id": "9da982ae",
   "metadata": {},
   "outputs": [
    {
     "data": {
      "text/plain": [
       "input: \"global_in\"\n",
       "input: \"Quant_14_out0\"\n",
       "output: \"MatMul_0_out0\"\n",
       "name: \"MatMul_0\"\n",
       "op_type: \"MatMul\""
      ]
     },
     "execution_count": 19,
     "metadata": {},
     "output_type": "execute_result"
    }
   ],
   "source": [
    "qonnx_model.graph.node[16]"
   ]
  },
  {
   "cell_type": "code",
   "execution_count": 17,
   "id": "93558144",
   "metadata": {},
   "outputs": [
    {
     "name": "stdout",
     "output_type": "stream",
     "text": [
      "Quant node name:  Quant_0\n",
      "Consumer name:  Add_7\n",
      "0.125\n",
      "0\n",
      "10\n",
      "Quant node name:  Quant_1\n",
      "Consumer name:  Add_6\n",
      "0.125\n",
      "0\n",
      "10\n",
      "Quant node name:  Quant_2\n",
      "Consumer name:  Add_5\n",
      "0.125\n",
      "0\n",
      "10\n",
      "Quant node name:  Quant_3\n",
      "Consumer name:  Add_4\n",
      "0.125\n",
      "0\n",
      "10\n",
      "Quant node name:  Quant_4\n",
      "Consumer name:  MatMul_7\n",
      "0.125\n",
      "0\n",
      "6\n",
      "Quant node name:  Quant_5\n",
      "Consumer name:  MatMul_6\n",
      "0.125\n",
      "0\n",
      "6\n",
      "Quant node name:  Quant_6\n",
      "Consumer name:  MatMul_5\n",
      "0.125\n",
      "0\n",
      "6\n",
      "Quant node name:  Quant_7\n",
      "Consumer name:  MatMul_4\n",
      "0.125\n",
      "0\n",
      "6\n",
      "Quant node name:  Quant_8\n",
      "Consumer name:  MatMul_3\n",
      "0.125\n",
      "0\n",
      "6\n",
      "Quant node name:  Quant_9\n",
      "Consumer name:  Add_3\n",
      "0.125\n",
      "0\n",
      "10\n",
      "Quant node name:  Quant_10\n",
      "Consumer name:  MatMul_2\n",
      "0.125\n",
      "0\n",
      "6\n",
      "Quant node name:  Quant_11\n",
      "Consumer name:  Add_2\n",
      "0.125\n",
      "0\n",
      "10\n",
      "Quant node name:  Quant_12\n",
      "Consumer name:  MatMul_1\n",
      "0.125\n",
      "0\n",
      "6\n",
      "Quant node name:  Quant_13\n",
      "Consumer name:  Add_1\n",
      "0.125\n",
      "0\n",
      "10\n",
      "Quant node name:  Quant_14\n",
      "Consumer name:  MatMul_0\n",
      "0.125\n",
      "0\n",
      "6\n",
      "Quant node name:  Quant_15\n",
      "Consumer name:  Add_0\n",
      "0.125\n",
      "0\n",
      "10\n",
      "Quant node name:  Quant_16\n",
      "Consumer name:  Relu_0\n",
      "0.0625\n",
      "0\n",
      "10\n",
      "Quant node name:  Quant_17\n",
      "Consumer name:  MatMul_1\n",
      "0.0625\n",
      "0\n",
      "10\n",
      "Quant node name:  Quant_18\n",
      "Consumer name:  Relu_1\n",
      "0.0625\n",
      "0\n",
      "10\n",
      "Quant node name:  Quant_19\n",
      "Consumer name:  MatMul_2\n",
      "0.0625\n",
      "0\n",
      "10\n",
      "Quant node name:  Quant_20\n",
      "Consumer name:  Relu_2\n",
      "0.0625\n",
      "0\n",
      "10\n",
      "Quant node name:  Quant_21\n",
      "Consumer name:  MatMul_3\n",
      "0.0625\n",
      "0\n",
      "10\n",
      "Quant node name:  Quant_22\n",
      "Consumer name:  Relu_3\n",
      "0.0625\n",
      "0\n",
      "10\n",
      "Quant node name:  Quant_23\n",
      "Consumer name:  MatMul_4\n",
      "0.0625\n",
      "0\n",
      "10\n",
      "Quant node name:  Quant_24\n",
      "Consumer name:  Relu_4\n",
      "0.0625\n",
      "0\n",
      "10\n",
      "Quant node name:  Quant_25\n",
      "Consumer name:  MatMul_6\n",
      "0.0625\n",
      "0\n",
      "10\n",
      "Quant node name:  Quant_26\n",
      "Consumer name:  Relu_5\n",
      "0.0625\n",
      "0\n",
      "10\n",
      "Quant node name:  Quant_27\n",
      "Consumer name:  MatMul_7\n",
      "0.0625\n",
      "0\n",
      "10\n"
     ]
    },
    {
     "name": "stderr",
     "output_type": "stream",
     "text": [
      "/afs/cern.ch/user/p/psajdak/eos_mine/project_CERN/venv3_9/lib64/python3.9/site-packages/qonnx/core/modelwrapper.py:417: UserWarning: find_consumer: found multiple consumers, returning first one\n",
      "  warnings.warn(\"find_consumer: found multiple consumers, returning first one\")\n"
     ]
    }
   ],
   "source": [
    "qnodes = list(filter(lambda x: x.op_type == \"Quant\", qonnx_model.graph.node))\n",
    "\n",
    "for qnode in qnodes:\n",
    "    print(\"Quant node name: \",qnode.name)\n",
    "    print(\"Consumer name: \",qonnx_model.find_consumer(qnode.output[0]).name)\n",
    "    for inp in qnode.input[1:]:\n",
    "        print(qonnx_model.get_initializer(inp))\n",
    "# Only the Quant_19 node has two consumers (value after 'MatMul_2', later also 'Sub_0')"
   ]
  },
  {
   "cell_type": "markdown",
   "id": "e456d694",
   "metadata": {},
   "source": [
    "### Add missing Quant nodes"
   ]
  },
  {
   "cell_type": "code",
   "execution_count": 11,
   "id": "4bde86e5",
   "metadata": {},
   "outputs": [],
   "source": [
    "from qonnx.transformation.quantize_graph import QuantizeGraph"
   ]
  },
  {
   "cell_type": "markdown",
   "id": "6fb269f4",
   "metadata": {},
   "source": [
    "### Conclusions\n",
    "In hls input_1 (global input) should have precision fixed<14,7> (now fixed<18,8>)\\\n",
    "Relu should take input with precision like the accumulator: fixed<18,8>\\\n",
    "Should check the \"signed\" attribute of Quant nodes\\\n",
    "missing quantizers before 'Sub_0' and later on"
   ]
  }
 ],
 "metadata": {
  "kernelspec": {
   "display_name": "venv3_9",
   "language": "python",
   "name": "python3"
  },
  "language_info": {
   "codemirror_mode": {
    "name": "ipython",
    "version": 3
   },
   "file_extension": ".py",
   "mimetype": "text/x-python",
   "name": "python",
   "nbconvert_exporter": "python",
   "pygments_lexer": "ipython3",
   "version": "3.9.21"
  }
 },
 "nbformat": 4,
 "nbformat_minor": 5
}
