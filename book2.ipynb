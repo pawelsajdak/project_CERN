{
 "cells": [
  {
   "cell_type": "markdown",
   "id": "4522425d",
   "metadata": {},
   "source": [
    "### Info\n",
    "based on notebook4"
   ]
  },
  {
   "cell_type": "markdown",
   "id": "6aed202e",
   "metadata": {},
   "source": [
    "compare qkeras and qonnx predictions (without using hls4ml)\\\n",
    "strange thing on github: pred_qonnx[0]: [[4.4136963]]; then: 4.4375"
   ]
  }
 ],
 "metadata": {
  "language_info": {
   "name": "python"
  }
 },
 "nbformat": 4,
 "nbformat_minor": 5
}
