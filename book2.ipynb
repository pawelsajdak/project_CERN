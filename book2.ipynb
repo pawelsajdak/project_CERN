{
 "cells": [
  {
   "cell_type": "markdown",
   "id": "4522425d",
   "metadata": {},
   "source": [
    "### Info\n",
    "based on notebook4"
   ]
  },
  {
   "cell_type": "markdown",
   "id": "6aed202e",
   "metadata": {},
   "source": [
    "compare qkeras and qonnx predictions (without using hls4ml)\\\n",
    "strange thing on github: pred_qonnx[0]: [[4.4136963]]; then: 4.4375"
   ]
  },
  {
   "cell_type": "markdown",
   "id": "16e02ade",
   "metadata": {},
   "source": [
    "### Load packages and the model"
   ]
  },
  {
   "cell_type": "code",
   "execution_count": null,
   "id": "d8397dee",
   "metadata": {},
   "outputs": [],
   "source": [
    "import tensorflow as tf\n",
    "import numpy as np\n",
    "import h5py\n",
    "from qkeras.utils import _add_supported_quantized_objects\n",
    "from qkeras import quantized_bits\n",
    "co = {}; _add_supported_quantized_objects(co)\n",
    "\n",
    "model_path = f\"/eos/project/c/cms-l1ml/public/Pawel/axol1tl_model.h5\"\n",
    "\n",
    "model = tf.keras.models.load_model(model_path, custom_objects=co)\n",
    "#model_config = model.get_config()\n",
    "\n",
    "data_path = f\"/eos/project/c/cms-l1ml/public/Pawel/complete.h5\"\n",
    "data_file = h5py.File(data_path, 'r')"
   ]
  },
  {
   "cell_type": "markdown",
   "id": "a45e4350",
   "metadata": {},
   "source": [
    "### Copy weights"
   ]
  },
  {
   "cell_type": "code",
   "execution_count": null,
   "id": "5c4ffb2d",
   "metadata": {},
   "outputs": [],
   "source": [
    "ds_weights = data_file['model']['trimmed_encoder']['model_weights']\n",
    "for layer in iter(model.layers):\n",
    "    #print(layer.name)\n",
    "    if layer.name in ('input_1','subtract','dot'): continue\n",
    "\n",
    "    if layer.name == 'q_dense_4':\n",
    "        weights_group = ds_weights['q_dense_4']['variational_auto_encoder']['vae__encoder']['q_dense_4']\n",
    "        layer.set_weights((weights_group['kernel:0'], weights_group['bias:0']))\n",
    "        continue\n",
    "\n",
    "    weights_group = ds_weights[layer.name][layer.name]\n",
    "    layer.set_weights((weights_group['kernel:0'], weights_group['bias:0']))"
   ]
  },
  {
   "cell_type": "markdown",
   "id": "edb35ff3",
   "metadata": {},
   "source": [
    "### QONNX model"
   ]
  },
  {
   "cell_type": "code",
   "execution_count": 1,
   "id": "1e0d6dd2",
   "metadata": {},
   "outputs": [
    {
     "name": "stderr",
     "output_type": "stream",
     "text": [
      "2025-09-29 14:36:49.266664: I tensorflow/tsl/cuda/cudart_stub.cc:28] Could not find cuda drivers on your machine, GPU will not be used.\n",
      "2025-09-29 14:36:49.896540: E tensorflow/compiler/xla/stream_executor/cuda/cuda_dnn.cc:9342] Unable to register cuDNN factory: Attempting to register factory for plugin cuDNN when one has already been registered\n",
      "2025-09-29 14:36:49.896603: E tensorflow/compiler/xla/stream_executor/cuda/cuda_fft.cc:609] Unable to register cuFFT factory: Attempting to register factory for plugin cuFFT when one has already been registered\n",
      "2025-09-29 14:36:49.901200: E tensorflow/compiler/xla/stream_executor/cuda/cuda_blas.cc:1518] Unable to register cuBLAS factory: Attempting to register factory for plugin cuBLAS when one has already been registered\n",
      "2025-09-29 14:36:50.346208: I tensorflow/tsl/cuda/cudart_stub.cc:28] Could not find cuda drivers on your machine, GPU will not be used.\n",
      "2025-09-29 14:36:50.349385: I tensorflow/core/platform/cpu_feature_guard.cc:182] This TensorFlow binary is optimized to use available CPU instructions in performance-critical operations.\n",
      "To enable the following instructions: AVX2 FMA, in other operations, rebuild TensorFlow with the appropriate compiler flags.\n",
      "2025-09-29 14:37:27.643382: W tensorflow/compiler/tf2tensorrt/utils/py_utils.cc:38] TF-TRT Warning: Could not find TensorRT\n",
      "/afs/cern.ch/user/p/psajdak/eos_mine/project_CERN/venv3_9/lib64/python3.9/site-packages/networkx/utils/backends.py:135: RuntimeWarning: networkx backend defined more than once: nx-loopback\n",
      "  backends.update(_get_backends(\"networkx.backends\"))\n"
     ]
    }
   ],
   "source": [
    "#Quick setup (load qonnx model)\n",
    "import tensorflow as tf\n",
    "import numpy as np\n",
    "import h5py\n",
    "from qkeras.utils import _add_supported_quantized_objects\n",
    "from qkeras import quantized_bits\n",
    "\n",
    "import qonnx.core.onnx_exec as oxe\n",
    "from qonnx.converters import from_keras\n",
    "from qonnx.core.modelwrapper import ModelWrapper\n",
    "\n",
    "qonnx_model = ModelWrapper(\"mod_model.onnx\")"
   ]
  },
  {
   "cell_type": "markdown",
   "id": "4cc1c867",
   "metadata": {},
   "source": [
    "import qonnx.core.onnx_exec as oxe\n",
    "from qonnx.converters import from_keras\n",
    "from qonnx.core.modelwrapper import ModelWrapper\n",
    "#from qonnx.transformation.infer_shapes import InferShapes\n",
    "\n",
    "qonnx_model, external_storage = from_keras(model)\n",
    "qonnx_model = ModelWrapper(qonnx_model)"
   ]
  },
  {
   "cell_type": "code",
   "execution_count": 25,
   "id": "5bd90142",
   "metadata": {},
   "outputs": [
    {
     "name": "stdout",
     "output_type": "stream",
     "text": [
      "['Quant_0', 'Quant_1', 'Quant_2', 'Quant_3', 'Quant_4', 'Quant_5', 'Quant_6', 'Quant_7', 'Quant_8', 'Quant_9', 'Quant_10', 'Quant_11', 'Quant_12', 'Quant_13', 'Quant_14', 'Quant_15', 'MatMul_0', 'Add_0', 'Quant_16', 'Relu_0', 'Quant_17', 'MatMul_1', 'Add_1', 'Quant_18', 'Relu_1', 'Quant_19', 'MatMul_2', 'Add_2', 'Quant_20', 'Relu_2', 'Quant_21', 'MatMul_3', 'Add_3', 'Quant_22', 'Relu_3', 'Quant_23', 'MatMul_4', 'Add_4', 'Quant_24', 'Relu_4', 'Quant_25', 'MatMul_5', 'Add_5', 'Quant_26', 'Relu_5', 'Quant_27', 'MatMul_6', 'Add_6', 'Quant_28', 'Relu_6', 'Quant_29', 'MatMul_7', 'Add_7', 'Sub_0', 'Unsqueeze_0', 'Unsqueeze_1', 'MatMul_8', 'Squeeze_0', 'Identity_0', 'Identity_1']\n"
     ]
    }
   ],
   "source": [
    "node_names = []\n",
    "for node in qonnx_model.graph.node:\n",
    "    node_names.append(node.name)\n",
    "\n",
    "print(node_names)"
   ]
  },
  {
   "cell_type": "markdown",
   "id": "1504af91",
   "metadata": {},
   "source": [
    "### Check the input parameters of the Quant nodes (adjust the inputs and attributes)\n",
    "0.125 = (0.001)_2 \\\n",
    "0.0625 = (0.0001)_2 \\\n",
    "0.0009765625 = (0.0000000001)_2"
   ]
  },
  {
   "cell_type": "code",
   "execution_count": null,
   "id": "93558144",
   "metadata": {},
   "outputs": [],
   "source": [
    "qnodes = list(filter(lambda x: x.op_type == \"Quant\", qonnx_model.graph.node))\n",
    "\n",
    "# qnode consumers and param inputs\n",
    "for qnode in qnodes[16:]:\n",
    "    print(\"Quant node name: \",qnode.name)\n",
    "    print(\"Consumer name: \",qonnx_model.find_consumer(qnode.output[0]).name)\n",
    "    for inp in qnode.input[1:]:\n",
    "        print(inp, qonnx_model.get_initializer(inp))\n",
    "    print(\"--------------------\")\n",
    "# Only the Quant_19 node has two consumers (value after 'MatMul_2', later also 'Sub_0')"
   ]
  },
  {
   "cell_type": "code",
   "execution_count": null,
   "id": "116367b1",
   "metadata": {},
   "outputs": [],
   "source": [
    "qonnx_model.set_initializer(\"Quant_16_param0\",np.array(0.0009765625))"
   ]
  },
  {
   "cell_type": "code",
   "execution_count": null,
   "id": "19f30f02",
   "metadata": {},
   "outputs": [],
   "source": [
    "# qnode attributes\n",
    "for qnode in qnodes[16:17]:\n",
    "    print(\"Quant node name: \",qnode.name)\n",
    "    print(qnode.attribute)\n",
    "    print(\"---------------\")"
   ]
  },
  {
   "cell_type": "code",
   "execution_count": null,
   "id": "7ba6d37f",
   "metadata": {},
   "outputs": [],
   "source": [
    "from qonnx.custom_op.base import CustomOp\n",
    "from qonnx.custom_op.registry import getCustomOp\n",
    "\n",
    "node_op = getCustomOp(qonnx_model.get_finn_nodes()[16])"
   ]
  },
  {
   "cell_type": "code",
   "execution_count": null,
   "id": "35a3ea20",
   "metadata": {},
   "outputs": [],
   "source": [
    "node_op.set_nodeattr(\"signed\",1)"
   ]
  },
  {
   "cell_type": "markdown",
   "id": "6fb269f4",
   "metadata": {},
   "source": [
    "### Conclusions\n",
    "In hls input_1 (global input) should have precision fixed<14,7> (now fixed<18,8>)\\\n",
    "Relu should take input with precision like the accumulator: fixed<18,8>\\\n",
    "Should check the \"signed\" attribute of Quant nodes\\\n",
    "missing quantizers before 'Sub_0' and later on"
   ]
  },
  {
   "cell_type": "markdown",
   "id": "abd1221d",
   "metadata": {},
   "source": [
    "Quant node is not present between each add and relu within the Dense layers.\\\n",
    "These quant nodes should correspond to accumulators (?) \\\n",
    "Check inputs of the Subtract node \\\n",
    "Strange \"Linear\" layers in the hls_config"
   ]
  },
  {
   "cell_type": "markdown",
   "id": "fd7a1e64",
   "metadata": {},
   "source": [
    "#from qonnx.transformation.general import ApplyConfig"
   ]
  },
  {
   "cell_type": "markdown",
   "id": "e456d694",
   "metadata": {},
   "source": [
    "### Add missing Quant nodes"
   ]
  },
  {
   "cell_type": "code",
   "execution_count": 23,
   "id": "4bde86e5",
   "metadata": {},
   "outputs": [
    {
     "data": {
      "text/plain": [
       "{'name': {'Relu_3_4': [(('output', 0), (0.0009765625, 0, 18, 0, 0, 'ROUND'))]}}"
      ]
     },
     "execution_count": 23,
     "metadata": {},
     "output_type": "execute_result"
    }
   ],
   "source": [
    "from qonnx.transformation.quantize_graph import QuantizeGraph\n",
    "\n",
    "qnode_map = {\"name\": {\"Relu_3_4\": [((\"output\",0), (scale_,zeropoint_,bitwidth_,narrow_,signed_,rounding_mode_))]}}\n",
    "qnode_map"
   ]
  },
  {
   "cell_type": "code",
   "execution_count": 22,
   "id": "13917eb5",
   "metadata": {},
   "outputs": [],
   "source": [
    "scale_ = 0.0009765625\n",
    "zeropoint_ = 0\n",
    "bitwidth_ = 18\n",
    "narrow_ = 0\n",
    "signed_ = 0\n",
    "rounding_mode_ = \"ROUND\""
   ]
  },
  {
   "cell_type": "code",
   "execution_count": 24,
   "id": "929dbd0f",
   "metadata": {},
   "outputs": [],
   "source": [
    "quantize_graph = QuantizeGraph(qnode_map)\n",
    "(qonnx_model,_) = quantize_graph.apply(qonnx_model)"
   ]
  },
  {
   "cell_type": "markdown",
   "id": "678eb33b",
   "metadata": {},
   "source": [
    "### Add missing standard nodes"
   ]
  },
  {
   "cell_type": "code",
   "execution_count": null,
   "id": "0864eca7",
   "metadata": {},
   "outputs": [],
   "source": [
    "from onnx.helper import make_tensor_value_info\n",
    "from onnx import TensorProto\n",
    "\n",
    "relu_3_4_out_tens_vinfo = make_tensor_value_info(\n",
    "    \"Relu_3_4_out_0\",\n",
    "    TensorProto.FLOAT,\n",
    "    shape_,\n",
    ")\n",
    "\n",
    "qonnx_model.graph.value_info.append(relu_3_4_out_tens_vinfo)"
   ]
  },
  {
   "cell_type": "code",
   "execution_count": 20,
   "id": "8ef3a4c3",
   "metadata": {},
   "outputs": [
    {
     "name": "stdout",
     "output_type": "stream",
     "text": [
      "[input: \"Relu_1_out0\"\n",
      "input: \"Quant_19_param0\"\n",
      "input: \"Quant_19_param1\"\n",
      "input: \"Quant_19_param2\"\n",
      "output: \"Quant_19_out0\"\n",
      "name: \"Quant_19\"\n",
      "op_type: \"Quant\"\n",
      "attribute {\n",
      "  name: \"narrow\"\n",
      "  i: 0\n",
      "  type: INT\n",
      "}\n",
      "attribute {\n",
      "  name: \"rounding_mode\"\n",
      "  s: \"ROUND\"\n",
      "  type: STRING\n",
      "}\n",
      "attribute {\n",
      "  name: \"signed\"\n",
      "  i: 0\n",
      "  type: INT\n",
      "}\n",
      "domain: \"qonnx.custom_op.general\"\n",
      ", input: \"Quant_19_out0\"\n",
      "input: \"Quant_10_out0\"\n",
      "output: \"MatMul_2_out0\"\n",
      "name: \"MatMul_2\"\n",
      "op_type: \"MatMul\"\n",
      ", input: \"MatMul_2_out0\"\n",
      "input: \"Quant_11_out0\"\n",
      "output: \"Add_2_out0\"\n",
      "name: \"Add_2\"\n",
      "op_type: \"Add\"\n",
      ", input: \"Add_2_out0\"\n",
      "input: \"Quant_20_param0\"\n",
      "input: \"Quant_20_param1\"\n",
      "input: \"Quant_20_param2\"\n",
      "output: \"Quant_20_out0\"\n",
      "name: \"Quant_20\"\n",
      "op_type: \"Quant\"\n",
      "attribute {\n",
      "  name: \"narrow\"\n",
      "  i: 0\n",
      "  type: INT\n",
      "}\n",
      "attribute {\n",
      "  name: \"rounding_mode\"\n",
      "  s: \"ROUND\"\n",
      "  type: STRING\n",
      "}\n",
      "attribute {\n",
      "  name: \"signed\"\n",
      "  i: 0\n",
      "  type: INT\n",
      "}\n",
      "domain: \"qonnx.custom_op.general\"\n",
      ", input: \"Quant_20_out0\"\n",
      "output: \"Relu_2_out0\"\n",
      "name: \"Relu_2\"\n",
      "op_type: \"Relu\"\n",
      ", input: \"Relu_2_out0\"\n",
      "input: \"Quant_21_param0\"\n",
      "input: \"Quant_21_param1\"\n",
      "input: \"Quant_21_param2\"\n",
      "output: \"Quant_21_out0\"\n",
      "name: \"Quant_21\"\n",
      "op_type: \"Quant\"\n",
      "attribute {\n",
      "  name: \"narrow\"\n",
      "  i: 0\n",
      "  type: INT\n",
      "}\n",
      "attribute {\n",
      "  name: \"rounding_mode\"\n",
      "  s: \"ROUND\"\n",
      "  type: STRING\n",
      "}\n",
      "attribute {\n",
      "  name: \"signed\"\n",
      "  i: 0\n",
      "  type: INT\n",
      "}\n",
      "domain: \"qonnx.custom_op.general\"\n",
      ", input: \"Quant_21_out0\"\n",
      "input: \"Quant_8_out0\"\n",
      "output: \"MatMul_3_out0\"\n",
      "name: \"MatMul_3\"\n",
      "op_type: \"MatMul\"\n",
      ", input: \"MatMul_3_out0\"\n",
      "input: \"Quant_9_out0\"\n",
      "output: \"Add_3_out0\"\n",
      "name: \"Add_3\"\n",
      "op_type: \"Add\"\n",
      ", input: \"Add_3_out0\"\n",
      "input: \"Quant_22_param0\"\n",
      "input: \"Quant_22_param1\"\n",
      "input: \"Quant_22_param2\"\n",
      "output: \"Quant_22_out0\"\n",
      "name: \"Quant_22\"\n",
      "op_type: \"Quant\"\n",
      "attribute {\n",
      "  name: \"narrow\"\n",
      "  i: 0\n",
      "  type: INT\n",
      "}\n",
      "attribute {\n",
      "  name: \"rounding_mode\"\n",
      "  s: \"ROUND\"\n",
      "  type: STRING\n",
      "}\n",
      "attribute {\n",
      "  name: \"signed\"\n",
      "  i: 0\n",
      "  type: INT\n",
      "}\n",
      "domain: \"qonnx.custom_op.general\"\n",
      ", input: \"Quant_22_out0\"\n",
      "output: \"Relu_3_out0\"\n",
      "name: \"Relu_3\"\n",
      "op_type: \"Relu\"\n",
      ", input: \"Relu_3_out0\"\n",
      "input: \"Quant_23_param0\"\n",
      "input: \"Quant_23_param1\"\n",
      "input: \"Quant_23_param2\"\n",
      "output: \"Quant_23_out0\"\n",
      "name: \"Quant_23\"\n",
      "op_type: \"Quant\"\n",
      "attribute {\n",
      "  name: \"narrow\"\n",
      "  i: 0\n",
      "  type: INT\n",
      "}\n",
      "attribute {\n",
      "  name: \"rounding_mode\"\n",
      "  s: \"ROUND\"\n",
      "  type: STRING\n",
      "}\n",
      "attribute {\n",
      "  name: \"signed\"\n",
      "  i: 0\n",
      "  type: INT\n",
      "}\n",
      "domain: \"qonnx.custom_op.general\"\n",
      ", input: \"Quant_23_out0\"\n",
      "input: \"Quant_7_out0\"\n",
      "output: \"MatMul_4_out0\"\n",
      "name: \"MatMul_4\"\n",
      "op_type: \"MatMul\"\n",
      ", input: \"MatMul_4_out0\"\n",
      "input: \"Quant_3_out0\"\n",
      "output: \"Add_4_out0\"\n",
      "name: \"Add_4\"\n",
      "op_type: \"Add\"\n",
      ", input: \"Add_4_out0\"\n",
      "input: \"Quant_24_param0\"\n",
      "input: \"Quant_24_param1\"\n",
      "input: \"Quant_24_param2\"\n",
      "output: \"Quant_24_out0\"\n",
      "name: \"Quant_24\"\n",
      "op_type: \"Quant\"\n",
      "attribute {\n",
      "  name: \"narrow\"\n",
      "  i: 0\n",
      "  type: INT\n",
      "}\n",
      "attribute {\n",
      "  name: \"rounding_mode\"\n",
      "  s: \"ROUND\"\n",
      "  type: STRING\n",
      "}\n",
      "attribute {\n",
      "  name: \"signed\"\n",
      "  i: 1\n",
      "  type: INT\n",
      "}\n",
      "domain: \"qonnx.custom_op.general\"\n",
      ", input: \"Quant_24_out0\"\n",
      "output: \"Relu_3_4_out0\"\n",
      "name: \"Relu_3_4\"\n",
      "op_type: \"Relu\"\n",
      ", input: \"Relu_3_4_out0\"\n",
      "input: \"Quant_6_out0\"\n",
      "output: \"MatMul_5_out0\"\n",
      "name: \"MatMul_5\"\n",
      "op_type: \"MatMul\"\n",
      ", input: \"MatMul_5_out0\"\n",
      "input: \"Quant_2_out0\"\n",
      "output: \"Add_5_out0\"\n",
      "name: \"Add_5\"\n",
      "op_type: \"Add\"\n",
      ", input: \"Add_5_out0\"\n",
      "input: \"Quant_25_param0\"\n",
      "input: \"Quant_25_param1\"\n",
      "input: \"Quant_25_param2\"\n",
      "output: \"Quant_25_out0\"\n",
      "name: \"Quant_25\"\n",
      "op_type: \"Quant\"\n",
      "attribute {\n",
      "  name: \"narrow\"\n",
      "  i: 0\n",
      "  type: INT\n",
      "}\n",
      "attribute {\n",
      "  name: \"rounding_mode\"\n",
      "  s: \"ROUND\"\n",
      "  type: STRING\n",
      "}\n",
      "attribute {\n",
      "  name: \"signed\"\n",
      "  i: 0\n",
      "  type: INT\n",
      "}\n",
      "domain: \"qonnx.custom_op.general\"\n",
      ", input: \"Quant_25_out0\"\n",
      "output: \"Relu_4_out0\"\n",
      "name: \"Relu_4\"\n",
      "op_type: \"Relu\"\n",
      ", input: \"Relu_4_out0\"\n",
      "input: \"Quant_26_param0\"\n",
      "input: \"Quant_26_param1\"\n",
      "input: \"Quant_26_param2\"\n",
      "output: \"Quant_26_out0\"\n",
      "name: \"Quant_26\"\n",
      "op_type: \"Quant\"\n",
      "attribute {\n",
      "  name: \"narrow\"\n",
      "  i: 0\n",
      "  type: INT\n",
      "}\n",
      "attribute {\n",
      "  name: \"rounding_mode\"\n",
      "  s: \"ROUND\"\n",
      "  type: STRING\n",
      "}\n",
      "attribute {\n",
      "  name: \"signed\"\n",
      "  i: 0\n",
      "  type: INT\n",
      "}\n",
      "domain: \"qonnx.custom_op.general\"\n",
      ", input: \"Quant_26_out0\"\n",
      "input: \"Quant_5_out0\"\n",
      "output: \"MatMul_6_out0\"\n",
      "name: \"MatMul_6\"\n",
      "op_type: \"MatMul\"\n",
      ", input: \"MatMul_6_out0\"\n",
      "input: \"Quant_1_out0\"\n",
      "output: \"Add_6_out0\"\n",
      "name: \"Add_6\"\n",
      "op_type: \"Add\"\n",
      ", input: \"Add_6_out0\"\n",
      "input: \"Quant_27_param0\"\n",
      "input: \"Quant_27_param1\"\n",
      "input: \"Quant_27_param2\"\n",
      "output: \"Quant_27_out0\"\n",
      "name: \"Quant_27\"\n",
      "op_type: \"Quant\"\n",
      "attribute {\n",
      "  name: \"narrow\"\n",
      "  i: 0\n",
      "  type: INT\n",
      "}\n",
      "attribute {\n",
      "  name: \"rounding_mode\"\n",
      "  s: \"ROUND\"\n",
      "  type: STRING\n",
      "}\n",
      "attribute {\n",
      "  name: \"signed\"\n",
      "  i: 0\n",
      "  type: INT\n",
      "}\n",
      "domain: \"qonnx.custom_op.general\"\n",
      ", input: \"Quant_27_out0\"\n",
      "output: \"Relu_5_out0\"\n",
      "name: \"Relu_5\"\n",
      "op_type: \"Relu\"\n",
      ", input: \"Relu_5_out0\"\n",
      "input: \"Quant_28_param0\"\n",
      "input: \"Quant_28_param1\"\n",
      "input: \"Quant_28_param2\"\n",
      "output: \"Quant_28_out0\"\n",
      "name: \"Quant_28\"\n",
      "op_type: \"Quant\"\n",
      "attribute {\n",
      "  name: \"narrow\"\n",
      "  i: 0\n",
      "  type: INT\n",
      "}\n",
      "attribute {\n",
      "  name: \"rounding_mode\"\n",
      "  s: \"ROUND\"\n",
      "  type: STRING\n",
      "}\n",
      "attribute {\n",
      "  name: \"signed\"\n",
      "  i: 0\n",
      "  type: INT\n",
      "}\n",
      "domain: \"qonnx.custom_op.general\"\n",
      ", input: \"Quant_28_out0\"\n",
      "input: \"Quant_4_out0\"\n",
      "output: \"MatMul_7_out0\"\n",
      "name: \"MatMul_7\"\n",
      "op_type: \"MatMul\"\n",
      ", input: \"MatMul_7_out0\"\n",
      "input: \"Quant_0_out0\"\n",
      "output: \"Add_7_out0\"\n",
      "name: \"Add_7\"\n",
      "op_type: \"Add\"\n",
      ", input: \"Add_7_out0\"\n",
      "input: \"Quant_19_out0\"\n",
      "output: \"Sub_0_out0\"\n",
      "name: \"Sub_0\"\n",
      "op_type: \"Sub\"\n",
      ", input: \"Sub_0_out0\"\n",
      "input: \"Unsqueeze_0_param0\"\n",
      "output: \"Unsqueeze_0_out0\"\n",
      "name: \"Unsqueeze_0\"\n",
      "op_type: \"Unsqueeze\"\n",
      ", input: \"Sub_0_out0\"\n",
      "input: \"Unsqueeze_1_param0\"\n",
      "output: \"Unsqueeze_1_out0\"\n",
      "name: \"Unsqueeze_1\"\n",
      "op_type: \"Unsqueeze\"\n",
      ", input: \"Unsqueeze_1_out0\"\n",
      "input: \"Unsqueeze_0_out0\"\n",
      "output: \"MatMul_8_out0\"\n",
      "name: \"MatMul_8\"\n",
      "op_type: \"MatMul\"\n",
      ", input: \"MatMul_8_out0\"\n",
      "input: \"Squeeze_0_param0\"\n",
      "output: \"Squeeze_0_out0\"\n",
      "name: \"Squeeze_0\"\n",
      "op_type: \"Squeeze\"\n",
      ", input: \"Squeeze_0_out0\"\n",
      "output: \"Identity_0_out0\"\n",
      "name: \"Identity_0\"\n",
      "op_type: \"Identity\"\n",
      "domain: \"\"\n",
      ", input: \"Identity_0_out0\"\n",
      "output: \"global_out\"\n",
      "name: \"Identity_1\"\n",
      "op_type: \"Identity\"\n",
      "domain: \"\"\n",
      "]\n"
     ]
    }
   ],
   "source": [
    "print(qonnx_model.graph.node[25:])"
   ]
  },
  {
   "cell_type": "code",
   "execution_count": 19,
   "id": "645c2f4b",
   "metadata": {},
   "outputs": [
    {
     "data": {
      "text/plain": [
       "['Relu_3_4_out0', 'Quant_6_out0']"
      ]
     },
     "execution_count": 19,
     "metadata": {},
     "output_type": "execute_result"
    }
   ],
   "source": [
    "qonnx_model.get_node_from_name(\"MatMul_5\").input"
   ]
  },
  {
   "cell_type": "code",
   "execution_count": 11,
   "id": "785c2241",
   "metadata": {},
   "outputs": [],
   "source": [
    "# Relu does not change tensor shape\n",
    "shape_ = qonnx_model.get_tensor_shape(\"Quant_24_out0\")"
   ]
  },
  {
   "cell_type": "code",
   "execution_count": null,
   "id": "a7a1e247",
   "metadata": {},
   "outputs": [],
   "source": [
    "qonnx_model.get_node_from_name(\"Relu_1\")"
   ]
  },
  {
   "cell_type": "code",
   "execution_count": null,
   "id": "d6e2bc37",
   "metadata": {},
   "outputs": [],
   "source": [
    "qonnx_model.get_node_index(qonnx_model.get_node_from_name(\"Relu_1\"))"
   ]
  },
  {
   "cell_type": "code",
   "execution_count": null,
   "id": "f9b82239",
   "metadata": {},
   "outputs": [],
   "source": [
    "type(qonnx_model.get_node_from_name(\"Quant_24\").output[0])"
   ]
  },
  {
   "cell_type": "code",
   "execution_count": null,
   "id": "0269888c",
   "metadata": {},
   "outputs": [],
   "source": [
    "from onnx.helper import make_node\n",
    "\n",
    "relu_node = make_node(\n",
    "    \"Relu\",\n",
    "    inputs=qonnx_model.get_node_from_name(\"Quant_24\").output,\n",
    "    outputs=[\"Relu_3_4_out0\"],\n",
    "    name=\"Relu_3_4\"\n",
    ")"
   ]
  },
  {
   "cell_type": "code",
   "execution_count": null,
   "id": "298cd89f",
   "metadata": {},
   "outputs": [],
   "source": [
    "qonnx_model.graph.node.insert(qonnx_model.get_node_index(qonnx_model.get_node_from_name(\"Quant_24\"))+1,relu_node)"
   ]
  },
  {
   "cell_type": "code",
   "execution_count": null,
   "id": "dc6bdef1",
   "metadata": {},
   "outputs": [],
   "source": [
    "node_index = qonnx_model.get_node_index(qonnx_model.get_node_from_name(\"MatMul_5\"))\n",
    "input_list = qonnx_model.graph.node[node_index].__getattribute__(\"input\")\n",
    "print(input_list)"
   ]
  },
  {
   "cell_type": "code",
   "execution_count": 26,
   "id": "1dc95e04",
   "metadata": {},
   "outputs": [],
   "source": [
    "qonnx_model.save(\"mod_model_2.onnx\")"
   ]
  }
 ],
 "metadata": {
  "kernelspec": {
   "display_name": "venv3_9",
   "language": "python",
   "name": "python3"
  },
  "language_info": {
   "codemirror_mode": {
    "name": "ipython",
    "version": 3
   },
   "file_extension": ".py",
   "mimetype": "text/x-python",
   "name": "python",
   "nbconvert_exporter": "python",
   "pygments_lexer": "ipython3",
   "version": "3.9.21"
  }
 },
 "nbformat": 4,
 "nbformat_minor": 5
}
