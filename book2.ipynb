{
 "cells": [
  {
   "cell_type": "markdown",
   "id": "4522425d",
   "metadata": {},
   "source": [
    "### Info\n",
    "based on notebook4"
   ]
  },
  {
   "cell_type": "markdown",
   "id": "6aed202e",
   "metadata": {},
   "source": [
    "compare qkeras and qonnx predictions (without using hls4ml)\\\n",
    "strange thing on github: pred_qonnx[0]: [[4.4136963]]; then: 4.4375"
   ]
  },
  {
   "cell_type": "markdown",
   "id": "16e02ade",
   "metadata": {},
   "source": [
    "### Load packages and the model"
   ]
  },
  {
   "cell_type": "code",
   "execution_count": 1,
   "id": "d8397dee",
   "metadata": {},
   "outputs": [
    {
     "name": "stderr",
     "output_type": "stream",
     "text": [
      "2025-09-25 12:42:40.395909: I tensorflow/tsl/cuda/cudart_stub.cc:28] Could not find cuda drivers on your machine, GPU will not be used.\n",
      "2025-09-25 12:42:41.049541: E tensorflow/compiler/xla/stream_executor/cuda/cuda_dnn.cc:9342] Unable to register cuDNN factory: Attempting to register factory for plugin cuDNN when one has already been registered\n",
      "2025-09-25 12:42:41.049587: E tensorflow/compiler/xla/stream_executor/cuda/cuda_fft.cc:609] Unable to register cuFFT factory: Attempting to register factory for plugin cuFFT when one has already been registered\n",
      "2025-09-25 12:42:41.053486: E tensorflow/compiler/xla/stream_executor/cuda/cuda_blas.cc:1518] Unable to register cuBLAS factory: Attempting to register factory for plugin cuBLAS when one has already been registered\n",
      "2025-09-25 12:42:41.459049: I tensorflow/tsl/cuda/cudart_stub.cc:28] Could not find cuda drivers on your machine, GPU will not be used.\n",
      "2025-09-25 12:42:41.462701: I tensorflow/core/platform/cpu_feature_guard.cc:182] This TensorFlow binary is optimized to use available CPU instructions in performance-critical operations.\n",
      "To enable the following instructions: AVX2 FMA, in other operations, rebuild TensorFlow with the appropriate compiler flags.\n",
      "2025-09-25 12:43:23.071275: W tensorflow/compiler/tf2tensorrt/utils/py_utils.cc:38] TF-TRT Warning: Could not find TensorRT\n",
      "/afs/cern.ch/user/p/psajdak/eos_mine/project_CERN/venv3_9/lib64/python3.9/site-packages/networkx/utils/backends.py:135: RuntimeWarning: networkx backend defined more than once: nx-loopback\n",
      "  backends.update(_get_backends(\"networkx.backends\"))\n"
     ]
    },
    {
     "name": "stdout",
     "output_type": "stream",
     "text": [
      "WARNING:tensorflow:No training configuration found in the save file, so the model was *not* compiled. Compile it manually.\n"
     ]
    },
    {
     "name": "stderr",
     "output_type": "stream",
     "text": [
      "WARNING:tensorflow:No training configuration found in the save file, so the model was *not* compiled. Compile it manually.\n"
     ]
    }
   ],
   "source": [
    "import tensorflow as tf\n",
    "import numpy as np\n",
    "import h5py\n",
    "from qkeras.utils import _add_supported_quantized_objects\n",
    "from qkeras import quantized_bits\n",
    "co = {}; _add_supported_quantized_objects(co)\n",
    "\n",
    "model_path = f\"/eos/project/c/cms-l1ml/public/Pawel/axol1tl_model.h5\"\n",
    "\n",
    "model = tf.keras.models.load_model(model_path, custom_objects=co)\n",
    "#model_config = model.get_config()\n",
    "\n",
    "data_path = f\"/eos/project/c/cms-l1ml/public/Pawel/complete.h5\"\n",
    "data_file = h5py.File(data_path, 'r')"
   ]
  },
  {
   "cell_type": "markdown",
   "id": "a45e4350",
   "metadata": {},
   "source": [
    "### Copy weights"
   ]
  },
  {
   "cell_type": "code",
   "execution_count": 3,
   "id": "5c4ffb2d",
   "metadata": {},
   "outputs": [],
   "source": [
    "ds_weights = data_file['model']['trimmed_encoder']['model_weights']\n",
    "for layer in iter(model.layers):\n",
    "    #print(layer.name)\n",
    "    if layer.name in ('input_1','subtract','dot'): continue\n",
    "\n",
    "    if layer.name == 'q_dense_4':\n",
    "        weights_group = ds_weights['q_dense_4']['variational_auto_encoder']['vae__encoder']['q_dense_4']\n",
    "        layer.set_weights((weights_group['kernel:0'], weights_group['bias:0']))\n",
    "        continue\n",
    "\n",
    "    weights_group = ds_weights[layer.name][layer.name]\n",
    "    layer.set_weights((weights_group['kernel:0'], weights_group['bias:0']))"
   ]
  },
  {
   "cell_type": "markdown",
   "id": "edb35ff3",
   "metadata": {},
   "source": [
    "### QONNX model"
   ]
  },
  {
   "cell_type": "code",
   "execution_count": 4,
   "id": "4cc1c867",
   "metadata": {},
   "outputs": [
    {
     "name": "stderr",
     "output_type": "stream",
     "text": [
      "/afs/cern.ch/user/p/psajdak/eos_mine/project_CERN/venv3_9/lib64/python3.9/site-packages/keras/src/constraints.py:365: UserWarning: The `keras.constraints.serialize()` API should only be used for objects of type `keras.constraints.Constraint`. Found an instance of type <class 'qkeras.quantizers.quantized_bits'>, which may lead to improper serialization.\n",
      "  warnings.warn(\n",
      "2025-09-25 12:45:53.678563: I tensorflow/core/grappler/devices.cc:66] Number of eligible GPUs (core count >= 8, compute capability >= 0.0): 0\n",
      "2025-09-25 12:45:53.678965: I tensorflow/core/grappler/clusters/single_machine.cc:361] Starting new session\n",
      "2025-09-25 12:45:53.843691: I tensorflow/core/grappler/devices.cc:66] Number of eligible GPUs (core count >= 8, compute capability >= 0.0): 0\n",
      "2025-09-25 12:45:53.843889: I tensorflow/core/grappler/clusters/single_machine.cc:361] Starting new session\n"
     ]
    }
   ],
   "source": [
    "import qonnx.core.onnx_exec as oxe\n",
    "from qonnx.converters import from_keras\n",
    "from qonnx.core.modelwrapper import ModelWrapper\n",
    "#from qonnx.transformation.infer_shapes import InferShapes\n",
    "\n",
    "qonnx_model, external_storage = from_keras(model)\n",
    "qonnx_model = ModelWrapper(qonnx_model)"
   ]
  },
  {
   "cell_type": "code",
   "execution_count": 89,
   "id": "5bd90142",
   "metadata": {},
   "outputs": [
    {
     "name": "stdout",
     "output_type": "stream",
     "text": [
      "Quant_0\n",
      "Quant_1\n",
      "Quant_2\n",
      "Quant_3\n",
      "Quant_4\n",
      "Quant_5\n",
      "Quant_6\n",
      "Quant_7\n",
      "Quant_8\n",
      "Quant_9\n",
      "Quant_10\n",
      "Quant_11\n",
      "Quant_12\n",
      "Quant_13\n",
      "Quant_14\n",
      "Quant_15\n",
      "MatMul_0\n",
      "Add_0\n",
      "Quant_16\n",
      "Relu_0\n",
      "Quant_17\n",
      "MatMul_1\n",
      "Add_1\n",
      "Quant_18\n",
      "Relu_1\n",
      "Quant_19\n",
      "MatMul_2\n",
      "Add_2\n",
      "Quant_20\n",
      "Relu_2\n",
      "Quant_21\n",
      "MatMul_3\n",
      "Add_3\n",
      "Quant_22\n",
      "Relu_3\n",
      "Quant_23\n",
      "MatMul_4\n",
      "Add_4\n",
      "MatMul_5\n",
      "Add_5\n",
      "Quant_24\n",
      "Relu_4\n",
      "Quant_25\n",
      "MatMul_6\n",
      "Add_6\n",
      "Quant_26\n",
      "Relu_5\n",
      "Quant_27\n",
      "MatMul_7\n",
      "Add_7\n",
      "Sub_0\n",
      "Unsqueeze_0\n",
      "Unsqueeze_1\n",
      "MatMul_8\n",
      "Squeeze_0\n",
      "Identity_0\n",
      "Identity_1\n"
     ]
    }
   ],
   "source": [
    "for node in qonnx_model.graph.node:\n",
    "    print(node.name)"
   ]
  },
  {
   "cell_type": "code",
   "execution_count": null,
   "id": "fbc2d6d2",
   "metadata": {},
   "outputs": [
    {
     "name": "stdout",
     "output_type": "stream",
     "text": [
      "[array(6), array(6), array(6), array(6), array(6), array(6), array(6), array(10), array(10), array(10), array(10), array(10), array(10), array(10), array(6), array(10), array(10), array(10), array(10), array(10), array(10), array(10), array(10), array(10), array(10), array(10), array(10), array(10)]\n"
     ]
    }
   ],
   "source": [
    "quant_bit_widths = []\n",
    "for node in qonnx_model.get_finn_nodes():\n",
    "    quant_bit_widths.append(qonnx_model.get_initializer(node.input[3]))\n",
    "\n",
    "print(quant_bit_widths)"
   ]
  },
  {
   "cell_type": "markdown",
   "id": "46f8f60a",
   "metadata": {},
   "source": [
    "Quant node is not present between each add and relu within the Dense layers.\\\n",
    "These quant nodes should correspond to accumulators (?)"
   ]
  }
 ],
 "metadata": {
  "kernelspec": {
   "display_name": "venv3_9",
   "language": "python",
   "name": "python3"
  },
  "language_info": {
   "codemirror_mode": {
    "name": "ipython",
    "version": 3
   },
   "file_extension": ".py",
   "mimetype": "text/x-python",
   "name": "python",
   "nbconvert_exporter": "python",
   "pygments_lexer": "ipython3",
   "version": "3.9.21"
  }
 },
 "nbformat": 4,
 "nbformat_minor": 5
}
