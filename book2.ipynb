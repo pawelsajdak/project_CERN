{
 "cells": [
  {
   "cell_type": "markdown",
   "id": "4522425d",
   "metadata": {},
   "source": [
    "### Info\n",
    "based on notebook4"
   ]
  },
  {
   "cell_type": "markdown",
   "id": "6aed202e",
   "metadata": {},
   "source": [
    "compare qkeras and qonnx predictions (without using hls4ml)\\\n",
    "strange thing on github: pred_qonnx[0]: [[4.4136963]]; then: 4.4375"
   ]
  },
  {
   "cell_type": "markdown",
   "id": "16e02ade",
   "metadata": {},
   "source": [
    "### Load packages and the model"
   ]
  },
  {
   "cell_type": "code",
   "execution_count": 1,
   "id": "d8397dee",
   "metadata": {},
   "outputs": [
    {
     "name": "stderr",
     "output_type": "stream",
     "text": [
      "2025-10-01 19:44:55.519398: I tensorflow/tsl/cuda/cudart_stub.cc:28] Could not find cuda drivers on your machine, GPU will not be used.\n",
      "2025-10-01 19:44:57.438701: E tensorflow/compiler/xla/stream_executor/cuda/cuda_dnn.cc:9342] Unable to register cuDNN factory: Attempting to register factory for plugin cuDNN when one has already been registered\n",
      "2025-10-01 19:44:57.438747: E tensorflow/compiler/xla/stream_executor/cuda/cuda_fft.cc:609] Unable to register cuFFT factory: Attempting to register factory for plugin cuFFT when one has already been registered\n",
      "2025-10-01 19:44:57.442302: E tensorflow/compiler/xla/stream_executor/cuda/cuda_blas.cc:1518] Unable to register cuBLAS factory: Attempting to register factory for plugin cuBLAS when one has already been registered\n",
      "2025-10-01 19:44:57.788261: I tensorflow/tsl/cuda/cudart_stub.cc:28] Could not find cuda drivers on your machine, GPU will not be used.\n",
      "2025-10-01 19:44:57.791483: I tensorflow/core/platform/cpu_feature_guard.cc:182] This TensorFlow binary is optimized to use available CPU instructions in performance-critical operations.\n",
      "To enable the following instructions: AVX2 FMA, in other operations, rebuild TensorFlow with the appropriate compiler flags.\n",
      "2025-10-01 19:45:33.399846: W tensorflow/compiler/tf2tensorrt/utils/py_utils.cc:38] TF-TRT Warning: Could not find TensorRT\n",
      "/afs/cern.ch/user/p/psajdak/eos_mine/project_CERN/venv3_9/lib64/python3.9/site-packages/networkx/utils/backends.py:135: RuntimeWarning: networkx backend defined more than once: nx-loopback\n",
      "  backends.update(_get_backends(\"networkx.backends\"))\n"
     ]
    },
    {
     "name": "stdout",
     "output_type": "stream",
     "text": [
      "WARNING:tensorflow:No training configuration found in the save file, so the model was *not* compiled. Compile it manually.\n"
     ]
    },
    {
     "name": "stderr",
     "output_type": "stream",
     "text": [
      "WARNING:tensorflow:No training configuration found in the save file, so the model was *not* compiled. Compile it manually.\n"
     ]
    },
    {
     "name": "stdout",
     "output_type": "stream",
     "text": [
      "Model: \"model\"\n",
      "__________________________________________________________________________________________________\n",
      " Layer (type)                Output Shape                 Param #   Connected to                  \n",
      "==================================================================================================\n",
      " input_1 (InputLayer)        [(None, 57)]                 0         []                            \n",
      "                                                                                                  \n",
      " q_dense (QDense)            (None, 29)                   1682      ['input_1[0][0]']             \n",
      "                                                                                                  \n",
      " q_dense_1 (QDense)          (None, 10)                   300       ['q_dense[0][0]']             \n",
      "                                                                                                  \n",
      " q_dense_2 (QDense)          (None, 9)                    99        ['q_dense_1[0][0]']           \n",
      "                                                                                                  \n",
      " q_dense_3 (QDense)          (None, 6)                    60        ['q_dense_2[0][0]']           \n",
      "                                                                                                  \n",
      " q_dense_4 (QDense)          (None, 4)                    28        ['q_dense_3[0][0]']           \n",
      "                                                                                                  \n",
      " q_dense_6 (QDense)          (None, 6)                    30        ['q_dense_4[0][0]']           \n",
      "                                                                                                  \n",
      " q_dense_7 (QDense)          (None, 9)                    63        ['q_dense_6[0][0]']           \n",
      "                                                                                                  \n",
      " q_dense_8 (QDense)          (None, 10)                   100       ['q_dense_7[0][0]']           \n",
      "                                                                                                  \n",
      " subtract (Subtract)         (None, 10)                   0         ['q_dense_8[0][0]',           \n",
      "                                                                     'q_dense_1[0][0]']           \n",
      "                                                                                                  \n",
      " dot (Dot)                   (None, 1)                    0         ['subtract[0][0]',            \n",
      "                                                                     'subtract[0][0]']            \n",
      "                                                                                                  \n",
      "==================================================================================================\n",
      "Total params: 2362 (9.23 KB)\n",
      "Trainable params: 2362 (9.23 KB)\n",
      "Non-trainable params: 0 (0.00 Byte)\n",
      "__________________________________________________________________________________________________\n"
     ]
    }
   ],
   "source": [
    "import tensorflow as tf\n",
    "import numpy as np\n",
    "import h5py\n",
    "from qkeras.utils import _add_supported_quantized_objects\n",
    "from qkeras import quantized_bits\n",
    "co = {}; _add_supported_quantized_objects(co)\n",
    "\n",
    "model_path = f\"/eos/project/c/cms-l1ml/public/Pawel/axol1tl_model.h5\"\n",
    "\n",
    "model = tf.keras.models.load_model(model_path, custom_objects=co)\n",
    "\n",
    "model.summary()"
   ]
  },
  {
   "cell_type": "code",
   "execution_count": 23,
   "id": "17188f9e",
   "metadata": {},
   "outputs": [
    {
     "name": "stderr",
     "output_type": "stream",
     "text": [
      "/afs/cern.ch/user/p/psajdak/eos_mine/project_CERN/venv3_9/lib64/python3.9/site-packages/keras/src/constraints.py:365: UserWarning: The `keras.constraints.serialize()` API should only be used for objects of type `keras.constraints.Constraint`. Found an instance of type <class 'qkeras.quantizers.quantized_bits'>, which may lead to improper serialization.\n",
      "  warnings.warn(\n"
     ]
    },
    {
     "data": {
      "text/plain": [
       "'quantized_relu'"
      ]
     },
     "execution_count": 23,
     "metadata": {},
     "output_type": "execute_result"
    }
   ],
   "source": [
    "model.get_config()['layers'][1]['config']['activation']['class_name']"
   ]
  },
  {
   "cell_type": "code",
   "execution_count": 37,
   "id": "58d69497",
   "metadata": {},
   "outputs": [
    {
     "name": "stdout",
     "output_type": "stream",
     "text": [
      "QDense \t {'module': 'qkeras.quantizers', 'class_name': 'quantized_relu', 'config': {'bits': 10, 'integer': 6, 'use_sigmoid': 0, 'negative_slope': 0.0, 'use_stochastic_rounding': False, 'relu_upper_bound': None, 'qnoise_factor': 1.0}, 'registered_name': 'quantized_relu'}\n",
      "QDense \t {'module': 'qkeras.quantizers', 'class_name': 'quantized_relu', 'config': {'bits': 10, 'integer': 6, 'use_sigmoid': 0, 'negative_slope': 0.0, 'use_stochastic_rounding': False, 'relu_upper_bound': None, 'qnoise_factor': 1.0}, 'registered_name': 'quantized_relu'}\n",
      "QDense \t {'module': 'qkeras.quantizers', 'class_name': 'quantized_relu', 'config': {'bits': 10, 'integer': 6, 'use_sigmoid': 0, 'negative_slope': 0.0, 'use_stochastic_rounding': False, 'relu_upper_bound': None, 'qnoise_factor': 1.0}, 'registered_name': 'quantized_relu'}\n",
      "QDense \t {'module': 'qkeras.quantizers', 'class_name': 'quantized_relu', 'config': {'bits': 10, 'integer': 6, 'use_sigmoid': 0, 'negative_slope': 0.0, 'use_stochastic_rounding': False, 'relu_upper_bound': None, 'qnoise_factor': 1.0}, 'registered_name': 'quantized_relu'}\n",
      "QDense \t linear\n",
      "QDense \t {'module': 'qkeras.quantizers', 'class_name': 'quantized_relu', 'config': {'bits': 10, 'integer': 6, 'use_sigmoid': 0, 'negative_slope': 0.0, 'use_stochastic_rounding': False, 'relu_upper_bound': None, 'qnoise_factor': 1.0}, 'registered_name': 'quantized_relu'}\n",
      "QDense \t {'module': 'qkeras.quantizers', 'class_name': 'quantized_relu', 'config': {'bits': 10, 'integer': 6, 'use_sigmoid': 0, 'negative_slope': 0.0, 'use_stochastic_rounding': False, 'relu_upper_bound': None, 'qnoise_factor': 1.0}, 'registered_name': 'quantized_relu'}\n",
      "QDense \t linear\n"
     ]
    }
   ],
   "source": [
    "for layer in model.get_config()['layers'][1:9]:\n",
    "    print(layer['class_name'],'\\t',layer['config']['activation'])"
   ]
  },
  {
   "cell_type": "markdown",
   "id": "a45e4350",
   "metadata": {},
   "source": [
    "### Copy weights"
   ]
  },
  {
   "cell_type": "code",
   "execution_count": null,
   "id": "5c4ffb2d",
   "metadata": {},
   "outputs": [],
   "source": [
    "ds_weights = data_file['model']['trimmed_encoder']['model_weights']\n",
    "for layer in iter(model.layers):\n",
    "    #print(layer.name)\n",
    "    if layer.name in ('input_1','subtract','dot'): continue\n",
    "\n",
    "    if layer.name == 'q_dense_4':\n",
    "        weights_group = ds_weights['q_dense_4']['variational_auto_encoder']['vae__encoder']['q_dense_4']\n",
    "        layer.set_weights((weights_group['kernel:0'], weights_group['bias:0']))\n",
    "        continue\n",
    "\n",
    "    weights_group = ds_weights[layer.name][layer.name]\n",
    "    layer.set_weights((weights_group['kernel:0'], weights_group['bias:0']))"
   ]
  },
  {
   "cell_type": "markdown",
   "id": "edb35ff3",
   "metadata": {},
   "source": [
    "### QONNX model"
   ]
  },
  {
   "cell_type": "code",
   "execution_count": 1,
   "id": "1e0d6dd2",
   "metadata": {},
   "outputs": [
    {
     "name": "stderr",
     "output_type": "stream",
     "text": [
      "2025-10-02 12:15:48.170966: I tensorflow/tsl/cuda/cudart_stub.cc:28] Could not find cuda drivers on your machine, GPU will not be used.\n",
      "2025-10-02 12:15:49.527440: E tensorflow/compiler/xla/stream_executor/cuda/cuda_dnn.cc:9342] Unable to register cuDNN factory: Attempting to register factory for plugin cuDNN when one has already been registered\n",
      "2025-10-02 12:15:49.527479: E tensorflow/compiler/xla/stream_executor/cuda/cuda_fft.cc:609] Unable to register cuFFT factory: Attempting to register factory for plugin cuFFT when one has already been registered\n",
      "2025-10-02 12:15:49.549398: E tensorflow/compiler/xla/stream_executor/cuda/cuda_blas.cc:1518] Unable to register cuBLAS factory: Attempting to register factory for plugin cuBLAS when one has already been registered\n",
      "2025-10-02 12:15:50.686375: I tensorflow/tsl/cuda/cudart_stub.cc:28] Could not find cuda drivers on your machine, GPU will not be used.\n",
      "2025-10-02 12:15:50.689491: I tensorflow/core/platform/cpu_feature_guard.cc:182] This TensorFlow binary is optimized to use available CPU instructions in performance-critical operations.\n",
      "To enable the following instructions: AVX2 FMA, in other operations, rebuild TensorFlow with the appropriate compiler flags.\n",
      "2025-10-02 12:16:36.709911: W tensorflow/compiler/tf2tensorrt/utils/py_utils.cc:38] TF-TRT Warning: Could not find TensorRT\n",
      "/afs/cern.ch/user/p/psajdak/eos_mine/project_CERN/venv3_9/lib64/python3.9/site-packages/networkx/utils/backends.py:135: RuntimeWarning: networkx backend defined more than once: nx-loopback\n",
      "  backends.update(_get_backends(\"networkx.backends\"))\n"
     ]
    }
   ],
   "source": [
    "#Quick setup (load qonnx model)\n",
    "import tensorflow as tf\n",
    "import numpy as np\n",
    "import h5py\n",
    "from qkeras.utils import _add_supported_quantized_objects\n",
    "from qkeras import quantized_bits\n",
    "\n",
    "import qonnx.core.onnx_exec as oxe\n",
    "from qonnx.converters import from_keras\n",
    "from qonnx.core.modelwrapper import ModelWrapper\n",
    "\n",
    "qonnx_model = ModelWrapper(\"mod_model.onnx\")"
   ]
  },
  {
   "cell_type": "code",
   "execution_count": 39,
   "id": "5bd90142",
   "metadata": {},
   "outputs": [
    {
     "name": "stdout",
     "output_type": "stream",
     "text": [
      "['MatMul_7', 'Add_7', 'Quant_29', 'Sub_0', 'Quant_30', 'Quant_31', 'Unsqueeze_0', 'Unsqueeze_1', 'MatMul_8', 'Quant_32', 'Squeeze_0', 'Identity_0', 'Identity_1']\n"
     ]
    }
   ],
   "source": [
    "node_names = []\n",
    "for node in qonnx_model.graph.node:\n",
    "    node_names.append(node.name)\n",
    "\n",
    "print(node_names[49:])"
   ]
  },
  {
   "cell_type": "markdown",
   "id": "1504af91",
   "metadata": {},
   "source": [
    "### Check the input parameters of the Quant nodes (adjust the inputs and attributes)\n",
    "0.125 = (0.001)_2 \\\n",
    "0.0625 = (0.0001)_2 \\\n",
    "0.0009765625 = (0.0000000001)_2"
   ]
  },
  {
   "cell_type": "markdown",
   "id": "2e50696f",
   "metadata": {},
   "source": [
    "#### Inputs"
   ]
  },
  {
   "cell_type": "code",
   "execution_count": null,
   "id": "93558144",
   "metadata": {},
   "outputs": [],
   "source": [
    "qnodes = list(filter(lambda x: x.op_type == \"Quant\", qonnx_model.graph.node))\n",
    "\n",
    "# qnode consumers and param inputs\n",
    "for qnode in qnodes[16:]:\n",
    "    print(\"Quant node name: \",qnode.name)\n",
    "    print(\"Consumer name: \",qonnx_model.find_consumer(qnode.output[0]).name)\n",
    "    for inp in qnode.input[1:]:\n",
    "        print(inp, qonnx_model.get_initializer(inp))\n",
    "    print(\"--------------------\")\n",
    "# Only the Quant_19 node has two consumers ('MatMul_2' and later also 'Sub_0')"
   ]
  },
  {
   "cell_type": "code",
   "execution_count": null,
   "id": "552f3726",
   "metadata": {},
   "outputs": [],
   "source": [
    "qnodes_before_relu = list(filter(lambda x: qonnx_model.find_consumer(x.output[0]).name in [\"Relu_\" + str(i) for i in range(0,8)], qnodes))\n",
    "qnodes_before_relu"
   ]
  },
  {
   "cell_type": "code",
   "execution_count": 30,
   "id": "e53851ff",
   "metadata": {},
   "outputs": [],
   "source": [
    "# 18 bits width (as in accumulator precision)\n",
    "for node in qnodes_before_relu:\n",
    "    qonnx_model.set_initializer(node.name+\"_param2\", np.array(18))"
   ]
  },
  {
   "cell_type": "code",
   "execution_count": null,
   "id": "116367b1",
   "metadata": {},
   "outputs": [],
   "source": [
    "# 10 bits to the right from the dot\n",
    "for node in qnodes_before_relu:\n",
    "    qonnx_model.set_initializer(node.name+\"_param0\",np.array(0.0009765625))"
   ]
  },
  {
   "cell_type": "markdown",
   "id": "db187be3",
   "metadata": {},
   "source": [
    "#### Attributes\n",
    "Attributes alright"
   ]
  },
  {
   "cell_type": "code",
   "execution_count": 7,
   "id": "19f30f02",
   "metadata": {},
   "outputs": [
    {
     "name": "stdout",
     "output_type": "stream",
     "text": [
      "Quant node name:  Quant_16\n",
      "name: \"signed\"\n",
      "i: 1\n",
      "type: INT\n",
      "\n",
      "---------------\n",
      "Quant node name:  Quant_17\n",
      "name: \"signed\"\n",
      "i: 0\n",
      "type: INT\n",
      "\n",
      "---------------\n",
      "Quant node name:  Quant_18\n",
      "name: \"signed\"\n",
      "i: 1\n",
      "type: INT\n",
      "\n",
      "---------------\n",
      "Quant node name:  Quant_19\n",
      "name: \"signed\"\n",
      "i: 0\n",
      "type: INT\n",
      "\n",
      "---------------\n",
      "Quant node name:  Quant_20\n",
      "name: \"signed\"\n",
      "i: 1\n",
      "type: INT\n",
      "\n",
      "---------------\n",
      "Quant node name:  Quant_21\n",
      "name: \"signed\"\n",
      "i: 0\n",
      "type: INT\n",
      "\n",
      "---------------\n",
      "Quant node name:  Quant_22\n",
      "name: \"signed\"\n",
      "i: 1\n",
      "type: INT\n",
      "\n",
      "---------------\n",
      "Quant node name:  Quant_23\n",
      "name: \"signed\"\n",
      "i: 0\n",
      "type: INT\n",
      "\n",
      "---------------\n",
      "Quant node name:  Quant_24\n",
      "name: \"signed\"\n",
      "i: 1\n",
      "type: INT\n",
      "\n",
      "---------------\n",
      "Quant node name:  Quant_25\n",
      "name: \"signed\"\n",
      "i: 1\n",
      "type: INT\n",
      "\n",
      "---------------\n",
      "Quant node name:  Quant_26\n",
      "name: \"signed\"\n",
      "i: 0\n",
      "type: INT\n",
      "\n",
      "---------------\n",
      "Quant node name:  Quant_27\n",
      "name: \"signed\"\n",
      "i: 1\n",
      "type: INT\n",
      "\n",
      "---------------\n",
      "Quant node name:  Quant_28\n",
      "name: \"signed\"\n",
      "i: 0\n",
      "type: INT\n",
      "\n",
      "---------------\n",
      "Quant node name:  Quant_29\n",
      "name: \"signed\"\n",
      "i: 1\n",
      "type: INT\n",
      "\n",
      "---------------\n"
     ]
    }
   ],
   "source": [
    "# qnode attributes\n",
    "for qnode in qnodes[16:]:\n",
    "    print(\"Quant node name: \",qnode.name)\n",
    "    print(qnode.attribute[2])\n",
    "    print(\"---------------\")"
   ]
  },
  {
   "cell_type": "code",
   "execution_count": 35,
   "id": "7ba6d37f",
   "metadata": {},
   "outputs": [],
   "source": [
    "from qonnx.custom_op.base import CustomOp\n",
    "from qonnx.custom_op.registry import getCustomOp"
   ]
  },
  {
   "cell_type": "code",
   "execution_count": null,
   "id": "35a3ea20",
   "metadata": {},
   "outputs": [],
   "source": [
    "# Signed values before relu\n",
    "for node_ in qnodes_before_relu:\n",
    "    node_op = getCustomOp(qonnx_model.graph.node[qonnx_model.get_node_index(node_)])\n",
    "    node_op.set_nodeattr(\"signed\",1)"
   ]
  },
  {
   "cell_type": "markdown",
   "id": "d8553a4b",
   "metadata": {},
   "source": [
    "### Final nodes"
   ]
  },
  {
   "cell_type": "code",
   "execution_count": 45,
   "id": "2b953430",
   "metadata": {},
   "outputs": [
    {
     "data": {
      "text/plain": [
       "input: \"Quant_32_out0\"\n",
       "input: \"Squeeze_0_param0\"\n",
       "output: \"Squeeze_0_out0\"\n",
       "name: \"Squeeze_0\"\n",
       "op_type: \"Squeeze\""
      ]
     },
     "execution_count": 45,
     "metadata": {},
     "output_type": "execute_result"
    }
   ],
   "source": [
    "qonnx_model.get_node_from_name('Squeeze_0')"
   ]
  },
  {
   "cell_type": "markdown",
   "id": "fd494ada",
   "metadata": {},
   "source": [
    "Unsqueeze_0 gives shape [1,10,1] \\\n",
    "Unsqueeze_1 gives shape [1,1,10] \\\n",
    "Both take the Sub_0_out0 \\\n",
    "MatMul_8 multiplies (order of inputs): Unsqueeze_1_out0 * Unsqueeze_0_out0"
   ]
  },
  {
   "cell_type": "code",
   "execution_count": 41,
   "id": "ac65acc8",
   "metadata": {},
   "outputs": [
    {
     "data": {
      "text/plain": [
       "array([1])"
      ]
     },
     "execution_count": 41,
     "metadata": {},
     "output_type": "execute_result"
    }
   ],
   "source": [
    "qonnx_model.get_initializer('Squeeze_0_param0')"
   ]
  },
  {
   "cell_type": "code",
   "execution_count": 47,
   "id": "e79d071d",
   "metadata": {},
   "outputs": [
    {
     "data": {
      "text/plain": [
       "name: \"MatMul_8_out0\"\n",
       "type {\n",
       "  tensor_type {\n",
       "    elem_type: 1\n",
       "    shape {\n",
       "      dim {\n",
       "        dim_value: 1\n",
       "      }\n",
       "      dim {\n",
       "        dim_value: 1\n",
       "      }\n",
       "      dim {\n",
       "        dim_value: 1\n",
       "      }\n",
       "    }\n",
       "  }\n",
       "}"
      ]
     },
     "execution_count": 47,
     "metadata": {},
     "output_type": "execute_result"
    }
   ],
   "source": [
    "qonnx_model.get_tensor_valueinfo('MatMul_8_out0')"
   ]
  },
  {
   "cell_type": "markdown",
   "id": "6fb269f4",
   "metadata": {},
   "source": [
    "### Conclusions\n",
    "In hls input_1 (global input) should have precision fixed<14,7> (now fixed<18,8>)\\\n",
    "Relu should take input with precision like the accumulator: fixed<18,8>\\\n",
    "Should check the \"signed\" attribute of Quant nodes\\\n",
    "missing quantizers before 'Sub_0' and later on"
   ]
  },
  {
   "cell_type": "markdown",
   "id": "abd1221d",
   "metadata": {},
   "source": [
    "Quant node is not present between each add and relu within the Dense layers.\\\n",
    "These quant nodes should correspond to accumulators (?) \\\n",
    "Check inputs of the Subtract node \\\n",
    "Strange \"Linear\" layers in the hls_config (the same as in qkeras)"
   ]
  },
  {
   "cell_type": "markdown",
   "id": "e456d694",
   "metadata": {},
   "source": [
    "### Add missing Quant nodes"
   ]
  },
  {
   "cell_type": "code",
   "execution_count": 37,
   "id": "4bde86e5",
   "metadata": {},
   "outputs": [
    {
     "data": {
      "text/plain": [
       "{'name': {'MatMul_8': [(('output', 0), (0.0009765625, 0, 18, 0, 1, 'ROUND'))]}}"
      ]
     },
     "execution_count": 37,
     "metadata": {},
     "output_type": "execute_result"
    }
   ],
   "source": [
    "from qonnx.transformation.quantize_graph import QuantizeGraph\n",
    "\n",
    "qnode_map = {\"name\": {\"MatMul_8\": [((\"output\",0), (scale_,zeropoint_,bitwidth_,narrow_,signed_,rounding_mode_))]}}\n",
    "qnode_map"
   ]
  },
  {
   "cell_type": "code",
   "execution_count": 24,
   "id": "13917eb5",
   "metadata": {},
   "outputs": [],
   "source": [
    "scale_ = 0.0009765625\n",
    "zeropoint_ = 0\n",
    "bitwidth_ = 18\n",
    "narrow_ = 0\n",
    "signed_ = 1\n",
    "rounding_mode_ = \"ROUND\""
   ]
  },
  {
   "cell_type": "code",
   "execution_count": 38,
   "id": "929dbd0f",
   "metadata": {},
   "outputs": [],
   "source": [
    "quantize_graph = QuantizeGraph(qnode_map)\n",
    "(qonnx_model,_) = quantize_graph.apply(qonnx_model)"
   ]
  },
  {
   "cell_type": "code",
   "execution_count": 48,
   "id": "d72f64ae",
   "metadata": {},
   "outputs": [],
   "source": [
    "qonnx_model.save(\"mod_model.onnx\")"
   ]
  }
 ],
 "metadata": {
  "kernelspec": {
   "display_name": "venv3_9",
   "language": "python",
   "name": "python3"
  },
  "language_info": {
   "codemirror_mode": {
    "name": "ipython",
    "version": 3
   },
   "file_extension": ".py",
   "mimetype": "text/x-python",
   "name": "python",
   "nbconvert_exporter": "python",
   "pygments_lexer": "ipython3",
   "version": "3.9.21"
  }
 },
 "nbformat": 4,
 "nbformat_minor": 5
}
