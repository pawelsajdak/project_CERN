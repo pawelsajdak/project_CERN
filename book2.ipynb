{
 "cells": [
  {
   "cell_type": "markdown",
   "id": "4522425d",
   "metadata": {},
   "source": [
    "### Info\n",
    "based on notebook4"
   ]
  },
  {
   "cell_type": "markdown",
   "id": "6aed202e",
   "metadata": {},
   "source": [
    "compare qkeras and qonnx predictions (without using hls4ml)\\\n",
    "strange thing on github: pred_qonnx[0]: [[4.4136963]]; then: 4.4375"
   ]
  },
  {
   "cell_type": "markdown",
   "id": "16e02ade",
   "metadata": {},
   "source": [
    "### Load packages and the model"
   ]
  },
  {
   "cell_type": "code",
   "execution_count": null,
   "id": "d8397dee",
   "metadata": {},
   "outputs": [],
   "source": [
    "import tensorflow as tf\n",
    "import numpy as np\n",
    "import h5py\n",
    "from qkeras.utils import _add_supported_quantized_objects\n",
    "from qkeras import quantized_bits\n",
    "co = {}; _add_supported_quantized_objects(co)\n",
    "\n",
    "model_path = f\"/eos/project/c/cms-l1ml/public/Pawel/axol1tl_model.h5\"\n",
    "\n",
    "model = tf.keras.models.load_model(model_path, custom_objects=co)\n",
    "#model_config = model.get_config()\n",
    "\n",
    "data_path = f\"/eos/project/c/cms-l1ml/public/Pawel/complete.h5\"\n",
    "data_file = h5py.File(data_path, 'r')"
   ]
  },
  {
   "cell_type": "markdown",
   "id": "a45e4350",
   "metadata": {},
   "source": [
    "### Copy weights"
   ]
  },
  {
   "cell_type": "code",
   "execution_count": null,
   "id": "5c4ffb2d",
   "metadata": {},
   "outputs": [],
   "source": [
    "ds_weights = data_file['model']['trimmed_encoder']['model_weights']\n",
    "for layer in iter(model.layers):\n",
    "    #print(layer.name)\n",
    "    if layer.name in ('input_1','subtract','dot'): continue\n",
    "\n",
    "    if layer.name == 'q_dense_4':\n",
    "        weights_group = ds_weights['q_dense_4']['variational_auto_encoder']['vae__encoder']['q_dense_4']\n",
    "        layer.set_weights((weights_group['kernel:0'], weights_group['bias:0']))\n",
    "        continue\n",
    "\n",
    "    weights_group = ds_weights[layer.name][layer.name]\n",
    "    layer.set_weights((weights_group['kernel:0'], weights_group['bias:0']))"
   ]
  },
  {
   "cell_type": "code",
   "execution_count": null,
   "id": "1e0d6dd2",
   "metadata": {},
   "outputs": [
    {
     "name": "stderr",
     "output_type": "stream",
     "text": [
      "2025-09-27 14:53:58.724508: I tensorflow/tsl/cuda/cudart_stub.cc:28] Could not find cuda drivers on your machine, GPU will not be used.\n",
      "2025-09-27 14:53:58.767124: E tensorflow/compiler/xla/stream_executor/cuda/cuda_dnn.cc:9342] Unable to register cuDNN factory: Attempting to register factory for plugin cuDNN when one has already been registered\n",
      "2025-09-27 14:53:58.767266: E tensorflow/compiler/xla/stream_executor/cuda/cuda_fft.cc:609] Unable to register cuFFT factory: Attempting to register factory for plugin cuFFT when one has already been registered\n",
      "2025-09-27 14:53:58.767331: E tensorflow/compiler/xla/stream_executor/cuda/cuda_blas.cc:1518] Unable to register cuBLAS factory: Attempting to register factory for plugin cuBLAS when one has already been registered\n",
      "2025-09-27 14:53:58.778524: I tensorflow/tsl/cuda/cudart_stub.cc:28] Could not find cuda drivers on your machine, GPU will not be used.\n",
      "2025-09-27 14:53:58.779561: I tensorflow/core/platform/cpu_feature_guard.cc:182] This TensorFlow binary is optimized to use available CPU instructions in performance-critical operations.\n",
      "To enable the following instructions: AVX2 FMA, in other operations, rebuild TensorFlow with the appropriate compiler flags.\n",
      "2025-09-27 14:54:08.866822: W tensorflow/compiler/tf2tensorrt/utils/py_utils.cc:38] TF-TRT Warning: Could not find TensorRT\n",
      "/afs/cern.ch/user/p/psajdak/eos_mine/project_CERN/venv3_9/lib64/python3.9/site-packages/networkx/utils/backends.py:135: RuntimeWarning: networkx backend defined more than once: nx-loopback\n",
      "  backends.update(_get_backends(\"networkx.backends\"))\n"
     ]
    }
   ],
   "source": [
    "#Quick setup (load qonnx model)\n",
    "import tensorflow as tf\n",
    "import numpy as np\n",
    "import h5py\n",
    "from qkeras.utils import _add_supported_quantized_objects\n",
    "from qkeras import quantized_bits\n",
    "\n",
    "import qonnx.core.onnx_exec as oxe\n",
    "from qonnx.converters import from_keras\n",
    "from qonnx.core.modelwrapper import ModelWrapper\n",
    "\n",
    "qonnx_model = ModelWrapper(\"mod_model.onnx\")"
   ]
  },
  {
   "cell_type": "markdown",
   "id": "edb35ff3",
   "metadata": {},
   "source": [
    "### QONNX model"
   ]
  },
  {
   "cell_type": "code",
   "execution_count": null,
   "id": "4cc1c867",
   "metadata": {},
   "outputs": [],
   "source": [
    "import qonnx.core.onnx_exec as oxe\n",
    "from qonnx.converters import from_keras\n",
    "from qonnx.core.modelwrapper import ModelWrapper\n",
    "#from qonnx.transformation.infer_shapes import InferShapes\n",
    "\n",
    "qonnx_model, external_storage = from_keras(model)\n",
    "qonnx_model = ModelWrapper(qonnx_model)"
   ]
  },
  {
   "cell_type": "code",
   "execution_count": 7,
   "id": "5bd90142",
   "metadata": {},
   "outputs": [
    {
     "name": "stdout",
     "output_type": "stream",
     "text": [
      "['Quant_0', 'Quant_1', 'Quant_2', 'Quant_3', 'Quant_4', 'Quant_5', 'Quant_6', 'Quant_7', 'Quant_8', 'Quant_9', 'Quant_10', 'Quant_11', 'Quant_12', 'Quant_13', 'Quant_14', 'Quant_15', 'MatMul_0', 'Add_0', 'Quant_16', 'Relu_0', 'Quant_17', 'MatMul_1', 'Add_1', 'Quant_18', 'Relu_1', 'Quant_19', 'MatMul_2', 'Add_2', 'Quant_20', 'Relu_2', 'Quant_21', 'MatMul_3', 'Add_3', 'Quant_22', 'Relu_3', 'Quant_23', 'MatMul_4', 'Add_4', 'Quant_24', 'MatMul_5', 'Add_5', 'Quant_25', 'Relu_4', 'Quant_26', 'MatMul_6', 'Add_6', 'Quant_27', 'Relu_5', 'Quant_28', 'MatMul_7', 'Add_7', 'Sub_0', 'Unsqueeze_0', 'Unsqueeze_1', 'MatMul_8', 'Squeeze_0', 'Identity_0', 'Identity_1']\n"
     ]
    }
   ],
   "source": [
    "node_names = []\n",
    "for node in qonnx_model.graph.node:\n",
    "    node_names.append(node.name)\n",
    "\n",
    "print(node_names)"
   ]
  },
  {
   "cell_type": "markdown",
   "id": "1504af91",
   "metadata": {},
   "source": [
    "### Check the input parameters of the Quant nodes (adjust the inputs and attributes)\n",
    "0.125 = (0.001)_2 \\\n",
    "0.0625 = (0.0001)_2 \\\n",
    "0.0009765625 = (0.0000000001)_2"
   ]
  },
  {
   "cell_type": "code",
   "execution_count": 8,
   "id": "93558144",
   "metadata": {},
   "outputs": [
    {
     "name": "stdout",
     "output_type": "stream",
     "text": [
      "Quant node name:  Quant_16\n",
      "Consumer name:  Relu_0\n",
      "Quant_16_param0 0.0625\n",
      "Quant_16_param1 0\n",
      "Quant_16_param2 10\n",
      "--------------------\n",
      "Quant node name:  Quant_17\n",
      "Consumer name:  MatMul_1\n",
      "Quant_17_param0 0.0625\n",
      "Quant_17_param1 0\n",
      "Quant_17_param2 10\n",
      "--------------------\n",
      "Quant node name:  Quant_18\n",
      "Consumer name:  Relu_1\n",
      "Quant_18_param0 0.0625\n",
      "Quant_18_param1 0\n",
      "Quant_18_param2 10\n",
      "--------------------\n",
      "Quant node name:  Quant_19\n",
      "Consumer name:  MatMul_2\n",
      "Quant_19_param0 0.0625\n",
      "Quant_19_param1 0\n",
      "Quant_19_param2 10\n",
      "--------------------\n",
      "Quant node name:  Quant_20\n",
      "Consumer name:  Relu_2\n",
      "Quant_20_param0 0.0625\n",
      "Quant_20_param1 0\n",
      "Quant_20_param2 10\n",
      "--------------------\n",
      "Quant node name:  Quant_21\n",
      "Consumer name:  MatMul_3\n",
      "Quant_21_param0 0.0625\n",
      "Quant_21_param1 0\n",
      "Quant_21_param2 10\n",
      "--------------------\n",
      "Quant node name:  Quant_22\n",
      "Consumer name:  Relu_3\n",
      "Quant_22_param0 0.0625\n",
      "Quant_22_param1 0\n",
      "Quant_22_param2 10\n",
      "--------------------\n",
      "Quant node name:  Quant_23\n",
      "Consumer name:  MatMul_4\n",
      "Quant_23_param0 0.0625\n",
      "Quant_23_param1 0\n",
      "Quant_23_param2 10\n",
      "--------------------\n",
      "Quant node name:  Quant_24\n",
      "Consumer name:  MatMul_5\n",
      "Quant_24_param0 0.0009765625\n",
      "Quant_24_param1 0.0\n",
      "Quant_24_param2 18.0\n",
      "--------------------\n",
      "Quant node name:  Quant_25\n",
      "Consumer name:  Relu_4\n",
      "Quant_25_param0 0.0625\n",
      "Quant_25_param1 0\n",
      "Quant_25_param2 10\n",
      "--------------------\n",
      "Quant node name:  Quant_26\n",
      "Consumer name:  MatMul_6\n",
      "Quant_26_param0 0.0625\n",
      "Quant_26_param1 0\n",
      "Quant_26_param2 10\n",
      "--------------------\n",
      "Quant node name:  Quant_27\n",
      "Consumer name:  Relu_5\n",
      "Quant_27_param0 0.0625\n",
      "Quant_27_param1 0\n",
      "Quant_27_param2 10\n",
      "--------------------\n",
      "Quant node name:  Quant_28\n",
      "Consumer name:  MatMul_7\n",
      "Quant_28_param0 0.0625\n",
      "Quant_28_param1 0\n",
      "Quant_28_param2 10\n",
      "--------------------\n"
     ]
    },
    {
     "name": "stderr",
     "output_type": "stream",
     "text": [
      "/afs/cern.ch/user/p/psajdak/eos_mine/project_CERN/venv3_9/lib64/python3.9/site-packages/qonnx/core/modelwrapper.py:417: UserWarning: find_consumer: found multiple consumers, returning first one\n",
      "  warnings.warn(\"find_consumer: found multiple consumers, returning first one\")\n"
     ]
    }
   ],
   "source": [
    "qnodes = list(filter(lambda x: x.op_type == \"Quant\", qonnx_model.graph.node))\n",
    "\n",
    "# qnode consumers and param inputs\n",
    "for qnode in qnodes[16:]:\n",
    "    print(\"Quant node name: \",qnode.name)\n",
    "    print(\"Consumer name: \",qonnx_model.find_consumer(qnode.output[0]).name)\n",
    "    for inp in qnode.input[1:]:\n",
    "        print(inp, qonnx_model.get_initializer(inp))\n",
    "    print(\"--------------------\")\n",
    "# Only the Quant_19 node has two consumers (value after 'MatMul_2', later also 'Sub_0')"
   ]
  },
  {
   "cell_type": "code",
   "execution_count": 45,
   "id": "116367b1",
   "metadata": {},
   "outputs": [],
   "source": [
    "qonnx_model.set_initializer(\"Quant_16_param0\",np.array(0.0009765625))"
   ]
  },
  {
   "cell_type": "code",
   "execution_count": 29,
   "id": "19f30f02",
   "metadata": {},
   "outputs": [
    {
     "name": "stdout",
     "output_type": "stream",
     "text": [
      "Quant node name:  Quant_16\n",
      "[name: \"narrow\"\n",
      "i: 0\n",
      "type: INT\n",
      ", name: \"rounding_mode\"\n",
      "s: \"ROUND\"\n",
      "type: STRING\n",
      ", name: \"signed\"\n",
      "i: 1\n",
      "type: INT\n",
      "]\n",
      "---------------\n"
     ]
    }
   ],
   "source": [
    "# qnode attributes\n",
    "for qnode in qnodes[16:17]:\n",
    "    print(\"Quant node name: \",qnode.name)\n",
    "    print(qnode.attribute)\n",
    "    print(\"---------------\")"
   ]
  },
  {
   "cell_type": "code",
   "execution_count": 26,
   "id": "7ba6d37f",
   "metadata": {},
   "outputs": [],
   "source": [
    "from qonnx.custom_op.base import CustomOp\n",
    "from qonnx.custom_op.registry import getCustomOp\n",
    "\n",
    "node_op = getCustomOp(qonnx_model.get_finn_nodes()[16])"
   ]
  },
  {
   "cell_type": "code",
   "execution_count": 28,
   "id": "35a3ea20",
   "metadata": {},
   "outputs": [],
   "source": [
    "node_op.set_nodeattr(\"signed\",1)"
   ]
  },
  {
   "cell_type": "markdown",
   "id": "6fb269f4",
   "metadata": {},
   "source": [
    "### Conclusions\n",
    "In hls input_1 (global input) should have precision fixed<14,7> (now fixed<18,8>)\\\n",
    "Relu should take input with precision like the accumulator: fixed<18,8>\\\n",
    "Should check the \"signed\" attribute of Quant nodes\\\n",
    "missing quantizers before 'Sub_0' and later on"
   ]
  },
  {
   "cell_type": "markdown",
   "id": "abd1221d",
   "metadata": {},
   "source": [
    "Quant node is not present between each add and relu within the Dense layers.\\\n",
    "These quant nodes should correspond to accumulators (?)"
   ]
  },
  {
   "cell_type": "code",
   "execution_count": null,
   "id": "fd7a1e64",
   "metadata": {},
   "outputs": [],
   "source": [
    "#from qonnx.transformation.general import ApplyConfig"
   ]
  },
  {
   "cell_type": "markdown",
   "id": "e456d694",
   "metadata": {},
   "source": [
    "### Add missing Quant nodes"
   ]
  },
  {
   "cell_type": "code",
   "execution_count": 5,
   "id": "4bde86e5",
   "metadata": {},
   "outputs": [
    {
     "data": {
      "text/plain": [
       "{'name': {'Add_4': [(('output', 0), (0.0009765625, 0, 18, 0, 1, 'ROUND'))]}}"
      ]
     },
     "execution_count": 5,
     "metadata": {},
     "output_type": "execute_result"
    }
   ],
   "source": [
    "from qonnx.transformation.quantize_graph import QuantizeGraph\n",
    "# Add_4 output to be quantized, as an accumulator before ReLu (not present yet)\n",
    "\n",
    "qnode_map = {\"name\": {\"Add_4\": [((\"output\",0), (scale_,zeropoint_,bitwidth_,narrow_,signed_,rounding_mode_))]}}\n",
    "qnode_map"
   ]
  },
  {
   "cell_type": "code",
   "execution_count": 4,
   "id": "13917eb5",
   "metadata": {},
   "outputs": [],
   "source": [
    "scale_ = 0.0009765625\n",
    "zeropoint_ = 0\n",
    "bitwidth_ = 18\n",
    "narrow_ = 0\n",
    "signed_ = 1\n",
    "rounding_mode_ = \"ROUND\""
   ]
  },
  {
   "cell_type": "code",
   "execution_count": 6,
   "id": "929dbd0f",
   "metadata": {},
   "outputs": [],
   "source": [
    "quantize_graph = QuantizeGraph(qnode_map)\n",
    "(qonnx_model,_) = quantize_graph.apply(qonnx_model)"
   ]
  },
  {
   "cell_type": "code",
   "execution_count": 9,
   "id": "1dc95e04",
   "metadata": {},
   "outputs": [],
   "source": [
    "qonnx_model.save(\"mod_model.onnx\")"
   ]
  }
 ],
 "metadata": {
  "kernelspec": {
   "display_name": "venv3_9",
   "language": "python",
   "name": "python3"
  },
  "language_info": {
   "codemirror_mode": {
    "name": "ipython",
    "version": 3
   },
   "file_extension": ".py",
   "mimetype": "text/x-python",
   "name": "python",
   "nbconvert_exporter": "python",
   "pygments_lexer": "ipython3",
   "version": "3.9.21"
  }
 },
 "nbformat": 4,
 "nbformat_minor": 5
}
