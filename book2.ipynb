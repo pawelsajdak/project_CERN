{
 "cells": [
  {
   "cell_type": "markdown",
   "id": "4522425d",
   "metadata": {},
   "source": [
    "### Info\n",
    "based on notebook4"
   ]
  },
  {
   "cell_type": "markdown",
   "id": "6aed202e",
   "metadata": {},
   "source": [
    "compare qkeras and qonnx predictions (without using hls4ml)\\\n",
    "strange thing on github: pred_qonnx[0]: [[4.4136963]]; then: 4.4375"
   ]
  },
  {
   "cell_type": "markdown",
   "id": "16e02ade",
   "metadata": {},
   "source": [
    "### Load packages and the model"
   ]
  },
  {
   "cell_type": "code",
   "execution_count": null,
   "id": "d8397dee",
   "metadata": {},
   "outputs": [],
   "source": [
    "import tensorflow as tf\n",
    "import numpy as np\n",
    "import h5py\n",
    "from qkeras.utils import _add_supported_quantized_objects\n",
    "from qkeras import quantized_bits\n",
    "co = {}; _add_supported_quantized_objects(co)\n",
    "\n",
    "model_path = f\"/eos/project/c/cms-l1ml/public/Pawel/axol1tl_model.h5\"\n",
    "\n",
    "model = tf.keras.models.load_model(model_path, custom_objects=co)\n",
    "\n",
    "model.summary()"
   ]
  },
  {
   "cell_type": "code",
   "execution_count": null,
   "id": "17188f9e",
   "metadata": {},
   "outputs": [],
   "source": [
    "model.get_config()['layers'][1]['config']['activation']['class_name']"
   ]
  },
  {
   "cell_type": "code",
   "execution_count": null,
   "id": "58d69497",
   "metadata": {},
   "outputs": [],
   "source": [
    "for layer in model.get_config()['layers'][1:9]:\n",
    "    print(layer['class_name'],'\\t',layer['config']['activation'])"
   ]
  },
  {
   "cell_type": "markdown",
   "id": "a45e4350",
   "metadata": {},
   "source": [
    "### Copy weights"
   ]
  },
  {
   "cell_type": "code",
   "execution_count": null,
   "id": "5c4ffb2d",
   "metadata": {},
   "outputs": [],
   "source": [
    "ds_weights = data_file['model']['trimmed_encoder']['model_weights']\n",
    "for layer in iter(model.layers):\n",
    "    #print(layer.name)\n",
    "    if layer.name in ('input_1','subtract','dot'): continue\n",
    "\n",
    "    if layer.name == 'q_dense_4':\n",
    "        weights_group = ds_weights['q_dense_4']['variational_auto_encoder']['vae__encoder']['q_dense_4']\n",
    "        layer.set_weights((weights_group['kernel:0'], weights_group['bias:0']))\n",
    "        continue\n",
    "\n",
    "    weights_group = ds_weights[layer.name][layer.name]\n",
    "    layer.set_weights((weights_group['kernel:0'], weights_group['bias:0']))"
   ]
  },
  {
   "cell_type": "markdown",
   "id": "edb35ff3",
   "metadata": {},
   "source": [
    "### QONNX model"
   ]
  },
  {
   "cell_type": "code",
   "execution_count": 1,
   "id": "1e0d6dd2",
   "metadata": {},
   "outputs": [
    {
     "name": "stderr",
     "output_type": "stream",
     "text": [
      "2025-10-07 21:57:43.837811: I tensorflow/tsl/cuda/cudart_stub.cc:28] Could not find cuda drivers on your machine, GPU will not be used.\n",
      "2025-10-07 21:57:43.872521: E tensorflow/compiler/xla/stream_executor/cuda/cuda_dnn.cc:9342] Unable to register cuDNN factory: Attempting to register factory for plugin cuDNN when one has already been registered\n",
      "2025-10-07 21:57:43.872558: E tensorflow/compiler/xla/stream_executor/cuda/cuda_fft.cc:609] Unable to register cuFFT factory: Attempting to register factory for plugin cuFFT when one has already been registered\n",
      "2025-10-07 21:57:43.872599: E tensorflow/compiler/xla/stream_executor/cuda/cuda_blas.cc:1518] Unable to register cuBLAS factory: Attempting to register factory for plugin cuBLAS when one has already been registered\n",
      "2025-10-07 21:57:43.880995: I tensorflow/tsl/cuda/cudart_stub.cc:28] Could not find cuda drivers on your machine, GPU will not be used.\n",
      "2025-10-07 21:57:43.881499: I tensorflow/core/platform/cpu_feature_guard.cc:182] This TensorFlow binary is optimized to use available CPU instructions in performance-critical operations.\n",
      "To enable the following instructions: AVX2 FMA, in other operations, rebuild TensorFlow with the appropriate compiler flags.\n",
      "2025-10-07 21:57:53.326407: W tensorflow/compiler/tf2tensorrt/utils/py_utils.cc:38] TF-TRT Warning: Could not find TensorRT\n",
      "/afs/cern.ch/user/p/psajdak/eos_mine/project_CERN/venv3_9/lib64/python3.9/site-packages/networkx/utils/backends.py:135: RuntimeWarning: networkx backend defined more than once: nx-loopback\n",
      "  backends.update(_get_backends(\"networkx.backends\"))\n"
     ]
    }
   ],
   "source": [
    "#Quick setup (load qonnx model)\n",
    "import tensorflow as tf\n",
    "import numpy as np\n",
    "import h5py\n",
    "from qkeras.utils import _add_supported_quantized_objects\n",
    "from qkeras import quantized_bits\n",
    "\n",
    "import qonnx.core.onnx_exec as oxe\n",
    "from qonnx.converters import from_keras\n",
    "from qonnx.core.modelwrapper import ModelWrapper\n",
    "\n",
    "qonnx_model = ModelWrapper(\"mod_model.onnx\")"
   ]
  },
  {
   "cell_type": "code",
   "execution_count": 2,
   "id": "5bd90142",
   "metadata": {},
   "outputs": [
    {
     "name": "stdout",
     "output_type": "stream",
     "text": [
      "['Quant_0', 'Quant_1', 'Quant_2', 'Quant_3', 'Quant_4', 'Quant_5', 'Quant_6', 'Quant_7', 'Quant_8', 'Quant_9', 'Quant_10', 'Quant_11', 'Quant_12', 'Quant_13', 'Quant_14', 'Quant_15', 'MatMul_0', 'Add_0', 'Quant_16', 'Relu_0', 'Quant_17', 'MatMul_1', 'Add_1', 'Quant_18', 'Relu_1', 'Quant_19', 'MatMul_2', 'Add_2', 'Quant_20', 'Relu_2', 'Quant_21', 'MatMul_3', 'Add_3', 'Quant_22', 'Relu_3', 'Quant_23', 'MatMul_4', 'Add_4', 'Quant_24', 'MatMul_5', 'Add_5', 'Quant_25', 'Relu_4', 'Quant_26', 'MatMul_6', 'Add_6', 'Quant_27', 'Relu_5', 'Quant_28', 'MatMul_7', 'Add_7', 'Quant_29', 'Sub_0', 'Quant_30', 'Quant_31', 'Unsqueeze_0', 'Unsqueeze_1', 'MatMul_8', 'Quant_32', 'Squeeze_0', 'Identity_0', 'Identity_1']\n"
     ]
    }
   ],
   "source": [
    "node_names = []\n",
    "for node in qonnx_model.graph.node:\n",
    "    node_names.append(node.name)\n",
    "\n",
    "print(node_names)"
   ]
  },
  {
   "cell_type": "markdown",
   "id": "1504af91",
   "metadata": {},
   "source": [
    "### Check the input parameters of the Quant nodes (adjust the inputs and attributes)\n",
    "0.125 = (0.001)_2 \\\n",
    "0.0625 = (0.0001)_2 \\\n",
    "0.0009765625 = (0.0000000001)_2"
   ]
  },
  {
   "cell_type": "markdown",
   "id": "2e50696f",
   "metadata": {},
   "source": [
    "#### Inputs"
   ]
  },
  {
   "cell_type": "code",
   "execution_count": 7,
   "id": "93558144",
   "metadata": {},
   "outputs": [
    {
     "name": "stdout",
     "output_type": "stream",
     "text": [
      "Quant node name:  Quant_30\n",
      "Consumer name:  Unsqueeze_1\n",
      "Quant_30_param0 0.0625\n",
      "Quant_30_param1 0.0\n",
      "Quant_30_param2 18.0\n",
      "--------------------\n",
      "Quant node name:  Quant_31\n",
      "Consumer name:  Unsqueeze_0\n",
      "Quant_31_param0 0.0625\n",
      "Quant_31_param1 0.0\n",
      "Quant_31_param2 18.0\n",
      "--------------------\n",
      "Quant node name:  Quant_32\n",
      "Consumer name:  Squeeze_0\n",
      "Quant_32_param0 0.0625\n",
      "Quant_32_param1 0.0\n",
      "Quant_32_param2 18.0\n",
      "--------------------\n"
     ]
    }
   ],
   "source": [
    "qnodes = list(filter(lambda x: x.op_type == \"Quant\", qonnx_model.graph.node))\n",
    "\n",
    "# qnode consumers and param inputs\n",
    "for qnode in qnodes[30:]:\n",
    "    print(\"Quant node name: \",qnode.name)\n",
    "    print(\"Consumer name: \",qonnx_model.find_consumer(qnode.output[0]).name)\n",
    "    for inp in qnode.input[1:]:\n",
    "        print(inp, qonnx_model.get_initializer(inp))\n",
    "    print(\"--------------------\")\n",
    "# Only the Quant_19 node has two consumers ('MatMul_2' and later also 'Sub_0')"
   ]
  },
  {
   "cell_type": "code",
   "execution_count": null,
   "id": "552f3726",
   "metadata": {},
   "outputs": [],
   "source": [
    "qnodes_before_relu = list(filter(lambda x: qonnx_model.find_consumer(x.output[0]).name in [\"Relu_\" + str(i) for i in range(0,8)], qnodes))\n",
    "qnodes_before_relu"
   ]
  },
  {
   "cell_type": "code",
   "execution_count": null,
   "id": "e53851ff",
   "metadata": {},
   "outputs": [],
   "source": [
    "# 18 bits width (as in accumulator precision)\n",
    "for node in qnodes_before_relu:\n",
    "    qonnx_model.set_initializer(node.name+\"_param2\", np.array(18))"
   ]
  },
  {
   "cell_type": "code",
   "execution_count": null,
   "id": "116367b1",
   "metadata": {},
   "outputs": [],
   "source": [
    "# 10 bits to the right from the dot\n",
    "for node in qnodes_before_relu:\n",
    "    qonnx_model.set_initializer(node.name+\"_param0\",np.array(0.0009765625))"
   ]
  },
  {
   "cell_type": "code",
   "execution_count": 6,
   "id": "a291edc8",
   "metadata": {},
   "outputs": [
    {
     "name": "stdout",
     "output_type": "stream",
     "text": [
      "['Quant_30', 'Quant_31', 'Quant_32']\n"
     ]
    }
   ],
   "source": [
    "# correct precision of last layers\n",
    "rel_nodes = ['Quant_3' + str(i) for i in np.arange(0,3)]\n",
    "print(rel_nodes)\n",
    "\n",
    "for node_name in rel_nodes:\n",
    "    qonnx_model.set_initializer(node_name+\"_param0\",np.array(0.0625))"
   ]
  },
  {
   "cell_type": "markdown",
   "id": "db187be3",
   "metadata": {},
   "source": [
    "#### Attributes\n",
    "Attributes alright"
   ]
  },
  {
   "cell_type": "code",
   "execution_count": null,
   "id": "19f30f02",
   "metadata": {},
   "outputs": [],
   "source": [
    "# qnode attributes\n",
    "for qnode in qnodes[32:]:\n",
    "    print(\"Quant node name: \",qnode.name)\n",
    "    print(qnode.attribute)\n",
    "    print(\"---------------\")"
   ]
  },
  {
   "cell_type": "code",
   "execution_count": null,
   "id": "7ba6d37f",
   "metadata": {},
   "outputs": [],
   "source": [
    "from qonnx.custom_op.base import CustomOp\n",
    "from qonnx.custom_op.registry import getCustomOp"
   ]
  },
  {
   "cell_type": "code",
   "execution_count": null,
   "id": "35a3ea20",
   "metadata": {},
   "outputs": [],
   "source": [
    "# Signed values before relu\n",
    "for node_ in qnodes_before_relu:\n",
    "    node_op = getCustomOp(qonnx_model.graph.node[qonnx_model.get_node_index(node_)])\n",
    "    node_op.set_nodeattr(\"signed\",1)"
   ]
  },
  {
   "cell_type": "markdown",
   "id": "d8553a4b",
   "metadata": {},
   "source": [
    "### Final nodes"
   ]
  },
  {
   "cell_type": "code",
   "execution_count": null,
   "id": "2b953430",
   "metadata": {},
   "outputs": [],
   "source": [
    "qonnx_model.get_node_from_name('Squeeze_0')"
   ]
  },
  {
   "cell_type": "markdown",
   "id": "fd494ada",
   "metadata": {},
   "source": [
    "Unsqueeze_0 gives shape [1,10,1] \\\n",
    "Unsqueeze_1 gives shape [1,1,10] \\\n",
    "Both take the Sub_0_out0 \\\n",
    "MatMul_8 multiplies (order of inputs): Unsqueeze_1_out0 * Unsqueeze_0_out0"
   ]
  },
  {
   "cell_type": "code",
   "execution_count": null,
   "id": "ac65acc8",
   "metadata": {},
   "outputs": [],
   "source": [
    "qonnx_model.get_initializer('Squeeze_0_param0')"
   ]
  },
  {
   "cell_type": "code",
   "execution_count": null,
   "id": "e79d071d",
   "metadata": {},
   "outputs": [],
   "source": [
    "qonnx_model.get_tensor_valueinfo('MatMul_8_out0')"
   ]
  },
  {
   "cell_type": "markdown",
   "id": "6fb269f4",
   "metadata": {},
   "source": [
    "### Conclusions\n",
    "In hls input_1 (global input) should have precision fixed<14,7> (now fixed<18,8>)\\\n",
    "Relu should take input with precision like the accumulator: fixed<18,8>\\\n",
    "Should check the \"signed\" attribute of Quant nodes\\\n",
    "missing quantizers before 'Sub_0' and later on"
   ]
  },
  {
   "cell_type": "markdown",
   "id": "abd1221d",
   "metadata": {},
   "source": [
    "Quant node is not present between each add and relu within the Dense layers.\\\n",
    "These quant nodes should correspond to accumulators (?) \\\n",
    "Check inputs of the Subtract node \\\n",
    "Strange \"Linear\" layers in the hls_config (the same as in qkeras)"
   ]
  },
  {
   "cell_type": "markdown",
   "id": "e456d694",
   "metadata": {},
   "source": [
    "### Add missing Quant nodes"
   ]
  },
  {
   "cell_type": "code",
   "execution_count": null,
   "id": "4bde86e5",
   "metadata": {},
   "outputs": [],
   "source": [
    "from qonnx.transformation.quantize_graph import QuantizeGraph\n",
    "\n",
    "qnode_map = {\"name\": {\"MatMul_8\": [((\"output\",0), (scale_,zeropoint_,bitwidth_,narrow_,signed_,rounding_mode_))]}}\n",
    "qnode_map"
   ]
  },
  {
   "cell_type": "code",
   "execution_count": null,
   "id": "13917eb5",
   "metadata": {},
   "outputs": [],
   "source": [
    "scale_ = 0.0009765625\n",
    "zeropoint_ = 0\n",
    "bitwidth_ = 18\n",
    "narrow_ = 0\n",
    "signed_ = 1\n",
    "rounding_mode_ = \"ROUND\""
   ]
  },
  {
   "cell_type": "code",
   "execution_count": null,
   "id": "929dbd0f",
   "metadata": {},
   "outputs": [],
   "source": [
    "quantize_graph = QuantizeGraph(qnode_map)\n",
    "(qonnx_model,_) = quantize_graph.apply(qonnx_model)"
   ]
  },
  {
   "cell_type": "code",
   "execution_count": 8,
   "id": "d72f64ae",
   "metadata": {},
   "outputs": [],
   "source": [
    "qonnx_model.save(\"mod_model.onnx\")"
   ]
  }
 ],
 "metadata": {
  "kernelspec": {
   "display_name": "venv3_9",
   "language": "python",
   "name": "python3"
  },
  "language_info": {
   "codemirror_mode": {
    "name": "ipython",
    "version": 3
   },
   "file_extension": ".py",
   "mimetype": "text/x-python",
   "name": "python",
   "nbconvert_exporter": "python",
   "pygments_lexer": "ipython3",
   "version": "3.9.21"
  }
 },
 "nbformat": 4,
 "nbformat_minor": 5
}
