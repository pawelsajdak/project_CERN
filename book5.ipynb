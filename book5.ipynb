{
 "cells": [
  {
   "cell_type": "markdown",
   "id": "5a3d0bbd",
   "metadata": {},
   "source": [
    "### Info\n",
    "Plotting comparisons"
   ]
  },
  {
   "cell_type": "code",
   "execution_count": 1,
   "id": "e32418c4",
   "metadata": {},
   "outputs": [],
   "source": [
    "import numpy as np\n",
    "import pandas as pd"
   ]
  },
  {
   "cell_type": "markdown",
   "id": "33bf5225",
   "metadata": {},
   "source": [
    "### Load data into a DataFrame"
   ]
  },
  {
   "cell_type": "code",
   "execution_count": 2,
   "id": "aa57d6c7",
   "metadata": {},
   "outputs": [],
   "source": [
    "min_ind = 1\n",
    "max_ind = 2\n",
    "\n",
    "model_names = ('hls','qkeras','qonnx_init','qonnx_mod')\n",
    "pred_all = []   # will be a list of arrays from each model\n",
    "\n",
    "for model_name in model_names:\n",
    "    pred_single = np.array([])\n",
    "    for file_index in range(min_ind, max_ind+1):\n",
    "        data = np.load('./pred_GluGluHToBB_M125/preds_'+model_name+str(file_index)+'.npy')\n",
    "        pred_single = np.append(pred_single,data)\n",
    "        #print(pred_single.shape)\n",
    "    pred_all.append(pred_single)\n",
    "\n",
    "pred_all = np.array(pred_all).T"
   ]
  },
  {
   "cell_type": "code",
   "execution_count": 3,
   "id": "beed4311",
   "metadata": {},
   "outputs": [
    {
     "data": {
      "text/plain": [
       "(4096, 4)"
      ]
     },
     "execution_count": 3,
     "metadata": {},
     "output_type": "execute_result"
    }
   ],
   "source": [
    "pred_all.shape"
   ]
  },
  {
   "cell_type": "code",
   "execution_count": 4,
   "id": "5dbe93e6",
   "metadata": {},
   "outputs": [
    {
     "data": {
      "text/html": [
       "<div>\n",
       "<style scoped>\n",
       "    .dataframe tbody tr th:only-of-type {\n",
       "        vertical-align: middle;\n",
       "    }\n",
       "\n",
       "    .dataframe tbody tr th {\n",
       "        vertical-align: top;\n",
       "    }\n",
       "\n",
       "    .dataframe thead th {\n",
       "        text-align: right;\n",
       "    }\n",
       "</style>\n",
       "<table border=\"1\" class=\"dataframe\">\n",
       "  <thead>\n",
       "    <tr style=\"text-align: right;\">\n",
       "      <th></th>\n",
       "      <th>hls</th>\n",
       "      <th>qkeras</th>\n",
       "      <th>qonnx_init</th>\n",
       "      <th>qonnx_mod</th>\n",
       "    </tr>\n",
       "  </thead>\n",
       "  <tbody>\n",
       "    <tr>\n",
       "      <th>0</th>\n",
       "      <td>950.750</td>\n",
       "      <td>947.250</td>\n",
       "      <td>947.250</td>\n",
       "      <td>945.750</td>\n",
       "    </tr>\n",
       "    <tr>\n",
       "      <th>1</th>\n",
       "      <td>127.750</td>\n",
       "      <td>126.250</td>\n",
       "      <td>126.250</td>\n",
       "      <td>125.500</td>\n",
       "    </tr>\n",
       "    <tr>\n",
       "      <th>2</th>\n",
       "      <td>1209.375</td>\n",
       "      <td>1205.750</td>\n",
       "      <td>1205.750</td>\n",
       "      <td>1203.625</td>\n",
       "    </tr>\n",
       "    <tr>\n",
       "      <th>3</th>\n",
       "      <td>252.500</td>\n",
       "      <td>250.750</td>\n",
       "      <td>250.750</td>\n",
       "      <td>249.750</td>\n",
       "    </tr>\n",
       "    <tr>\n",
       "      <th>4</th>\n",
       "      <td>439.375</td>\n",
       "      <td>437.500</td>\n",
       "      <td>437.500</td>\n",
       "      <td>438.250</td>\n",
       "    </tr>\n",
       "    <tr>\n",
       "      <th>...</th>\n",
       "      <td>...</td>\n",
       "      <td>...</td>\n",
       "      <td>...</td>\n",
       "      <td>...</td>\n",
       "    </tr>\n",
       "    <tr>\n",
       "      <th>4091</th>\n",
       "      <td>440.250</td>\n",
       "      <td>438.375</td>\n",
       "      <td>438.375</td>\n",
       "      <td>437.000</td>\n",
       "    </tr>\n",
       "    <tr>\n",
       "      <th>4092</th>\n",
       "      <td>367.750</td>\n",
       "      <td>365.625</td>\n",
       "      <td>365.625</td>\n",
       "      <td>366.000</td>\n",
       "    </tr>\n",
       "    <tr>\n",
       "      <th>4093</th>\n",
       "      <td>831.625</td>\n",
       "      <td>828.625</td>\n",
       "      <td>828.625</td>\n",
       "      <td>826.875</td>\n",
       "    </tr>\n",
       "    <tr>\n",
       "      <th>4094</th>\n",
       "      <td>1053.250</td>\n",
       "      <td>1049.750</td>\n",
       "      <td>1049.750</td>\n",
       "      <td>1050.750</td>\n",
       "    </tr>\n",
       "    <tr>\n",
       "      <th>4095</th>\n",
       "      <td>815.625</td>\n",
       "      <td>812.625</td>\n",
       "      <td>812.625</td>\n",
       "      <td>811.250</td>\n",
       "    </tr>\n",
       "  </tbody>\n",
       "</table>\n",
       "<p>4096 rows × 4 columns</p>\n",
       "</div>"
      ],
      "text/plain": [
       "           hls    qkeras  qonnx_init  qonnx_mod\n",
       "0      950.750   947.250     947.250    945.750\n",
       "1      127.750   126.250     126.250    125.500\n",
       "2     1209.375  1205.750    1205.750   1203.625\n",
       "3      252.500   250.750     250.750    249.750\n",
       "4      439.375   437.500     437.500    438.250\n",
       "...        ...       ...         ...        ...\n",
       "4091   440.250   438.375     438.375    437.000\n",
       "4092   367.750   365.625     365.625    366.000\n",
       "4093   831.625   828.625     828.625    826.875\n",
       "4094  1053.250  1049.750    1049.750   1050.750\n",
       "4095   815.625   812.625     812.625    811.250\n",
       "\n",
       "[4096 rows x 4 columns]"
      ]
     },
     "execution_count": 4,
     "metadata": {},
     "output_type": "execute_result"
    }
   ],
   "source": [
    "df = pd.DataFrame(pred_all, columns=model_names)\n",
    "df"
   ]
  },
  {
   "cell_type": "markdown",
   "id": "b819c0a2",
   "metadata": {},
   "source": [
    "### Compare predictions"
   ]
  },
  {
   "cell_type": "code",
   "execution_count": 5,
   "id": "27dd76d7",
   "metadata": {},
   "outputs": [
    {
     "data": {
      "text/plain": [
       "qxinit_qkeras\n",
       "0.0    4096\n",
       "Name: count, dtype: int64"
      ]
     },
     "execution_count": 5,
     "metadata": {},
     "output_type": "execute_result"
    }
   ],
   "source": [
    "df['qxinit_qkeras'] = np.abs(df['qonnx_init'] - df['qkeras'])\n",
    "df['qxinit_qkeras'].value_counts()"
   ]
  },
  {
   "cell_type": "markdown",
   "id": "a27fb166",
   "metadata": {},
   "source": [
    "modified vs unmodified qonnx with respect to hls"
   ]
  },
  {
   "cell_type": "code",
   "execution_count": 6,
   "id": "fa2637c0",
   "metadata": {},
   "outputs": [
    {
     "name": "stdout",
     "output_type": "stream",
     "text": [
      "qxinit_hls\n",
      "2.250    244\n",
      "2.125    219\n",
      "2.625    218\n",
      "1.875    209\n",
      "2.500    207\n",
      "2.000    190\n",
      "1.750    182\n",
      "2.375    181\n",
      "2.875    175\n",
      "1.625    167\n",
      "3.000    158\n",
      "2.750    151\n",
      "3.250    140\n",
      "3.125    124\n",
      "1.500    119\n",
      "3.375    116\n",
      "3.500    113\n",
      "1.375    107\n",
      "1.250     92\n",
      "3.875     88\n",
      "3.750     86\n",
      "3.625     85\n",
      "4.125     65\n",
      "4.000     65\n",
      "4.375     60\n",
      "1.125     56\n",
      "1.000     55\n",
      "4.500     47\n",
      "4.250     45\n",
      "4.625     38\n",
      "0.875     35\n",
      "4.875     29\n",
      "4.750     29\n",
      "5.250     22\n",
      "5.000     20\n",
      "5.125     19\n",
      "5.500     17\n",
      "5.375     16\n",
      "0.750     14\n",
      "0.625     13\n",
      "5.750      9\n",
      "5.875      8\n",
      "5.625      7\n",
      "6.750      7\n",
      "0.500      7\n",
      "6.500      6\n",
      "0.375      5\n",
      "6.875      5\n",
      "6.625      4\n",
      "6.125      4\n",
      "7.000      3\n",
      "6.250      3\n",
      "6.000      3\n",
      "0.000      2\n",
      "6.375      2\n",
      "0.125      2\n",
      "7.500      2\n",
      "9.000      1\n",
      "Name: count, dtype: int64\n",
      "qxmod_hls\n",
      "1.250     206\n",
      "1.500     205\n",
      "1.750     199\n",
      "2.000     191\n",
      "2.250     181\n",
      "         ... \n",
      "9.750       1\n",
      "10.000      1\n",
      "10.125      1\n",
      "10.625      1\n",
      "10.500      1\n",
      "Name: count, Length: 83, dtype: int64\n"
     ]
    }
   ],
   "source": [
    "df['qxinit_hls'] = np.abs(df['qonnx_init'] - df['hls'])\n",
    "df['qxmod_hls'] = np.abs(df['qonnx_mod'] - df['hls'])\n",
    "\n",
    "print(df['qxinit_hls'].value_counts())\n",
    "print(df['qxmod_hls'].value_counts())"
   ]
  },
  {
   "cell_type": "markdown",
   "id": "bfce0b79",
   "metadata": {},
   "source": [
    "### Create histograms"
   ]
  },
  {
   "cell_type": "code",
   "execution_count": 7,
   "id": "c09bfedb",
   "metadata": {},
   "outputs": [],
   "source": [
    "import matplotlib.pyplot as plt"
   ]
  },
  {
   "cell_type": "code",
   "execution_count": 8,
   "id": "12202031",
   "metadata": {},
   "outputs": [
    {
     "data": {
      "text/html": [
       "<div>\n",
       "<style scoped>\n",
       "    .dataframe tbody tr th:only-of-type {\n",
       "        vertical-align: middle;\n",
       "    }\n",
       "\n",
       "    .dataframe tbody tr th {\n",
       "        vertical-align: top;\n",
       "    }\n",
       "\n",
       "    .dataframe thead th {\n",
       "        text-align: right;\n",
       "    }\n",
       "</style>\n",
       "<table border=\"1\" class=\"dataframe\">\n",
       "  <thead>\n",
       "    <tr style=\"text-align: right;\">\n",
       "      <th></th>\n",
       "      <th>init</th>\n",
       "      <th>mod</th>\n",
       "    </tr>\n",
       "  </thead>\n",
       "  <tbody>\n",
       "    <tr>\n",
       "      <th>0.000</th>\n",
       "      <td>0.048828</td>\n",
       "      <td>0.000000</td>\n",
       "    </tr>\n",
       "    <tr>\n",
       "      <th>0.125</th>\n",
       "      <td>0.048828</td>\n",
       "      <td>0.073242</td>\n",
       "    </tr>\n",
       "    <tr>\n",
       "      <th>0.250</th>\n",
       "      <td>0.000000</td>\n",
       "      <td>0.219727</td>\n",
       "    </tr>\n",
       "    <tr>\n",
       "      <th>0.375</th>\n",
       "      <td>0.122070</td>\n",
       "      <td>0.122070</td>\n",
       "    </tr>\n",
       "    <tr>\n",
       "      <th>0.500</th>\n",
       "      <td>0.170898</td>\n",
       "      <td>0.415039</td>\n",
       "    </tr>\n",
       "    <tr>\n",
       "      <th>...</th>\n",
       "      <td>...</td>\n",
       "      <td>...</td>\n",
       "    </tr>\n",
       "    <tr>\n",
       "      <th>10.250</th>\n",
       "      <td>0.000000</td>\n",
       "      <td>0.122070</td>\n",
       "    </tr>\n",
       "    <tr>\n",
       "      <th>10.375</th>\n",
       "      <td>0.000000</td>\n",
       "      <td>0.048828</td>\n",
       "    </tr>\n",
       "    <tr>\n",
       "      <th>10.500</th>\n",
       "      <td>0.000000</td>\n",
       "      <td>0.024414</td>\n",
       "    </tr>\n",
       "    <tr>\n",
       "      <th>10.625</th>\n",
       "      <td>0.000000</td>\n",
       "      <td>0.024414</td>\n",
       "    </tr>\n",
       "    <tr>\n",
       "      <th>13.750</th>\n",
       "      <td>0.000000</td>\n",
       "      <td>0.024414</td>\n",
       "    </tr>\n",
       "  </tbody>\n",
       "</table>\n",
       "<p>84 rows × 2 columns</p>\n",
       "</div>"
      ],
      "text/plain": [
       "            init       mod\n",
       "0.000   0.048828  0.000000\n",
       "0.125   0.048828  0.073242\n",
       "0.250   0.000000  0.219727\n",
       "0.375   0.122070  0.122070\n",
       "0.500   0.170898  0.415039\n",
       "...          ...       ...\n",
       "10.250  0.000000  0.122070\n",
       "10.375  0.000000  0.048828\n",
       "10.500  0.000000  0.024414\n",
       "10.625  0.000000  0.024414\n",
       "13.750  0.000000  0.024414\n",
       "\n",
       "[84 rows x 2 columns]"
      ]
     },
     "execution_count": 8,
     "metadata": {},
     "output_type": "execute_result"
    }
   ],
   "source": [
    "dfpl = pd.DataFrame([df['qxinit_hls'].value_counts(),df['qxmod_hls'].value_counts()])\n",
    "dfpl = dfpl.transpose()\n",
    "dfpl.columns = ['init','mod']\n",
    "dfpl = dfpl.fillna(0)\n",
    "dfpl /= dfpl['init'].sum()  # percentage\n",
    "dfpl *= 100\n",
    "dfpl = dfpl.sort_index()\n",
    "dfpl"
   ]
  },
  {
   "cell_type": "code",
   "execution_count": 9,
   "id": "d0ab592f",
   "metadata": {},
   "outputs": [],
   "source": [
    "def categ(x):\n",
    "    if x==0.0 : return '0.0'\n",
    "    if x < 1. : return '0 - 1'\n",
    "    if x < 5. : return '1 - 5'\n",
    "    if x < 10. : return '5 - 10'\n",
    "    if x < 15. : return '10 - 15'\n",
    "    return 'more'"
   ]
  },
  {
   "cell_type": "code",
   "execution_count": 10,
   "id": "f9d4da9c",
   "metadata": {},
   "outputs": [
    {
     "data": {
      "text/html": [
       "<div>\n",
       "<style scoped>\n",
       "    .dataframe tbody tr th:only-of-type {\n",
       "        vertical-align: middle;\n",
       "    }\n",
       "\n",
       "    .dataframe tbody tr th {\n",
       "        vertical-align: top;\n",
       "    }\n",
       "\n",
       "    .dataframe thead th {\n",
       "        text-align: right;\n",
       "    }\n",
       "</style>\n",
       "<table border=\"1\" class=\"dataframe\">\n",
       "  <thead>\n",
       "    <tr style=\"text-align: right;\">\n",
       "      <th></th>\n",
       "      <th>init</th>\n",
       "      <th>mod</th>\n",
       "    </tr>\n",
       "    <tr>\n",
       "      <th>cat</th>\n",
       "      <th></th>\n",
       "      <th></th>\n",
       "    </tr>\n",
       "  </thead>\n",
       "  <tbody>\n",
       "    <tr>\n",
       "      <th>0 - 1</th>\n",
       "      <td>1.855469</td>\n",
       "      <td>4.809570</td>\n",
       "    </tr>\n",
       "    <tr>\n",
       "      <th>0.0</th>\n",
       "      <td>0.048828</td>\n",
       "      <td>0.000000</td>\n",
       "    </tr>\n",
       "    <tr>\n",
       "      <th>1 - 5</th>\n",
       "      <td>94.238281</td>\n",
       "      <td>83.618164</td>\n",
       "    </tr>\n",
       "    <tr>\n",
       "      <th>10 - 15</th>\n",
       "      <td>0.000000</td>\n",
       "      <td>0.292969</td>\n",
       "    </tr>\n",
       "    <tr>\n",
       "      <th>5 - 10</th>\n",
       "      <td>3.857422</td>\n",
       "      <td>11.279297</td>\n",
       "    </tr>\n",
       "  </tbody>\n",
       "</table>\n",
       "</div>"
      ],
      "text/plain": [
       "              init        mod\n",
       "cat                          \n",
       "0 - 1     1.855469   4.809570\n",
       "0.0       0.048828   0.000000\n",
       "1 - 5    94.238281  83.618164\n",
       "10 - 15   0.000000   0.292969\n",
       "5 - 10    3.857422  11.279297"
      ]
     },
     "execution_count": 10,
     "metadata": {},
     "output_type": "execute_result"
    }
   ],
   "source": [
    "# Categorize differences (deviations from hls preds)\n",
    "dfpl['cat'] = dfpl.index.map(categ)\n",
    "\n",
    "catdf = dfpl.groupby('cat').sum()\n",
    "catdf"
   ]
  },
  {
   "cell_type": "code",
   "execution_count": 11,
   "id": "255225a7",
   "metadata": {},
   "outputs": [
    {
     "data": {
      "text/html": [
       "<div>\n",
       "<style scoped>\n",
       "    .dataframe tbody tr th:only-of-type {\n",
       "        vertical-align: middle;\n",
       "    }\n",
       "\n",
       "    .dataframe tbody tr th {\n",
       "        vertical-align: top;\n",
       "    }\n",
       "\n",
       "    .dataframe thead th {\n",
       "        text-align: right;\n",
       "    }\n",
       "</style>\n",
       "<table border=\"1\" class=\"dataframe\">\n",
       "  <thead>\n",
       "    <tr style=\"text-align: right;\">\n",
       "      <th></th>\n",
       "      <th>init</th>\n",
       "      <th>mod</th>\n",
       "    </tr>\n",
       "    <tr>\n",
       "      <th>cat</th>\n",
       "      <th></th>\n",
       "      <th></th>\n",
       "    </tr>\n",
       "  </thead>\n",
       "  <tbody>\n",
       "    <tr>\n",
       "      <th>0.0</th>\n",
       "      <td>0.048828</td>\n",
       "      <td>0.000000</td>\n",
       "    </tr>\n",
       "    <tr>\n",
       "      <th>0 - 1</th>\n",
       "      <td>1.855469</td>\n",
       "      <td>4.809570</td>\n",
       "    </tr>\n",
       "    <tr>\n",
       "      <th>1 - 5</th>\n",
       "      <td>94.238281</td>\n",
       "      <td>83.618164</td>\n",
       "    </tr>\n",
       "    <tr>\n",
       "      <th>5 - 10</th>\n",
       "      <td>3.857422</td>\n",
       "      <td>11.279297</td>\n",
       "    </tr>\n",
       "    <tr>\n",
       "      <th>10 - 15</th>\n",
       "      <td>0.000000</td>\n",
       "      <td>0.292969</td>\n",
       "    </tr>\n",
       "  </tbody>\n",
       "</table>\n",
       "</div>"
      ],
      "text/plain": [
       "              init        mod\n",
       "cat                          \n",
       "0.0       0.048828   0.000000\n",
       "0 - 1     1.855469   4.809570\n",
       "1 - 5    94.238281  83.618164\n",
       "5 - 10    3.857422  11.279297\n",
       "10 - 15   0.000000   0.292969"
      ]
     },
     "execution_count": 11,
     "metadata": {},
     "output_type": "execute_result"
    }
   ],
   "source": [
    "catdf = catdf.reindex(['0.0','0 - 1','1 - 5','5 - 10','10 - 15'])\n",
    "catdf"
   ]
  },
  {
   "cell_type": "code",
   "execution_count": 12,
   "id": "e81cc951",
   "metadata": {},
   "outputs": [
    {
     "data": {
      "text/plain": [
       "Text(0.5, 1.0, 'Signal (ggH_to_BB_M-125)')"
      ]
     },
     "execution_count": 12,
     "metadata": {},
     "output_type": "execute_result"
    },
    {
     "data": {
      "image/png": "[encoded data removed]",
      "text/plain": [
       "<Figure size 640x480 with 1 Axes>"
      ]
     },
     "metadata": {},
     "output_type": "display_data"
    }
   ],
   "source": [
    "fig, ax = plt.subplots(layout='constrained')\n",
    "width = 0.4\n",
    "xticks = np.arange(catdf.shape[0])\n",
    "\n",
    "labels = [\"initial model\",\"modified model\"]\n",
    "\n",
    "for i in range(len(catdf.keys())):\n",
    "    b = ax.bar(xticks+(-1+i)*width, catdf.values[:,i], width, label=labels[i], align='edge')\n",
    "    ax.bar_label(b, fmt='{:.2f}')\n",
    "\n",
    "ax.legend(fontsize = 12)\n",
    "ax.set_xticks(xticks)\n",
    "ax.set_xticklabels(catdf.index.to_list(),fontdict={'size': 11})\n",
    "ax.xaxis.set_tick_params(length=0)\n",
    "ax.set_xlabel(\"Deviation from the HLS prediction (abs)\",{'size': 12})\n",
    "ax.set_ylim(0,100)\n",
    "ax.set_ylabel(\"Percentage of all predictions\",{'size': 12})\n",
    "ax.set_title(\"Signal (ggH_to_BB_M-125)\",fontdict={'size': 16},pad=15)\n"
   ]
  },
  {
   "cell_type": "code",
   "execution_count": 13,
   "id": "1431faa2",
   "metadata": {},
   "outputs": [],
   "source": [
    "fig.savefig('GluGlu.pdf')"
   ]
  }
 ],
 "metadata": {
  "kernelspec": {
   "display_name": "venv3_9",
   "language": "python",
   "name": "python3"
  },
  "language_info": {
   "codemirror_mode": {
    "name": "ipython",
    "version": 3
   },
   "file_extension": ".py",
   "mimetype": "text/x-python",
   "name": "python",
   "nbconvert_exporter": "python",
   "pygments_lexer": "ipython3",
   "version": "3.9.21"
  }
 },
 "nbformat": 4,
 "nbformat_minor": 5
}
