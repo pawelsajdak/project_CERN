{
 "cells": [
  {
   "cell_type": "markdown",
   "id": "5a3d0bbd",
   "metadata": {},
   "source": [
    "### Info\n",
    "Plotting comparisons"
   ]
  },
  {
   "cell_type": "code",
   "execution_count": 1,
   "id": "e32418c4",
   "metadata": {},
   "outputs": [],
   "source": [
    "import numpy as np\n",
    "import pandas as pd"
   ]
  },
  {
   "cell_type": "markdown",
   "id": "33bf5225",
   "metadata": {},
   "source": [
    "### Load data into a DataFrame"
   ]
  },
  {
   "cell_type": "code",
   "execution_count": 2,
   "id": "aa57d6c7",
   "metadata": {},
   "outputs": [],
   "source": [
    "min_ind = 1\n",
    "max_ind = 2\n",
    "\n",
    "model_names = ('hls','qkeras','qonnx_init','qonnx_mod')\n",
    "pred_all = []   # will be a list of arrays from each model\n",
    "\n",
    "for model_name in model_names:\n",
    "    pred_single = np.array([])\n",
    "    for file_index in range(min_ind, max_ind+1):\n",
    "        data = np.load('./pred_GGHToGG_M125/preds_'+model_name+str(file_index)+'.npy')\n",
    "        pred_single = np.append(pred_single,data)\n",
    "        #print(pred_single.shape)\n",
    "    pred_all.append(pred_single)\n",
    "\n",
    "pred_all = np.array(pred_all).T"
   ]
  },
  {
   "cell_type": "code",
   "execution_count": 3,
   "id": "beed4311",
   "metadata": {},
   "outputs": [
    {
     "data": {
      "text/plain": [
       "(4096, 4)"
      ]
     },
     "execution_count": 3,
     "metadata": {},
     "output_type": "execute_result"
    }
   ],
   "source": [
    "pred_all.shape"
   ]
  },
  {
   "cell_type": "code",
   "execution_count": 51,
   "id": "5dbe93e6",
   "metadata": {},
   "outputs": [
    {
     "data": {
      "text/plain": [
       "hls\n",
       "-128.000    2\n",
       "-127.875    1\n",
       "-127.750    5\n",
       "-127.625    7\n",
       "-127.500    1\n",
       "           ..\n",
       " 127.500    3\n",
       " 127.625    3\n",
       " 127.750    2\n",
       " 127.875    1\n",
       " 128.000    1\n",
       "Name: count, Length: 1604, dtype: int64"
      ]
     },
     "execution_count": 51,
     "metadata": {},
     "output_type": "execute_result"
    }
   ],
   "source": [
    "df = pd.DataFrame(pred_all, columns=model_names)\n",
    "df['hls'].value_counts().sort_index()"
   ]
  },
  {
   "cell_type": "markdown",
   "id": "b819c0a2",
   "metadata": {},
   "source": [
    "### Compare predictions"
   ]
  },
  {
   "cell_type": "code",
   "execution_count": 5,
   "id": "27dd76d7",
   "metadata": {},
   "outputs": [
    {
     "data": {
      "text/plain": [
       "qxinit_qkeras\n",
       "0.0    4096\n",
       "Name: count, dtype: int64"
      ]
     },
     "execution_count": 5,
     "metadata": {},
     "output_type": "execute_result"
    }
   ],
   "source": [
    "df['qxinit_qkeras'] = df['qonnx_init'] - df['qkeras']\n",
    "df['qxinit_qkeras'].value_counts()"
   ]
  },
  {
   "cell_type": "markdown",
   "id": "a27fb166",
   "metadata": {},
   "source": [
    "modified vs unmodified qonnx with respect to hls"
   ]
  },
  {
   "cell_type": "code",
   "execution_count": 6,
   "id": "fa2637c0",
   "metadata": {},
   "outputs": [
    {
     "name": "stdout",
     "output_type": "stream",
     "text": [
      "qxinit_hls\n",
      "0.000       1909\n",
      "256.000     1893\n",
      "512.000      156\n",
      "256.125       39\n",
      "0.125         31\n",
      "768.000       27\n",
      "1024.000      19\n",
      "1280.000      11\n",
      "512.125        3\n",
      "1536.000       3\n",
      "768.125        2\n",
      "1792.000       2\n",
      "2048.000       1\n",
      "Name: count, dtype: int64\n",
      "qxmod_hls\n",
      "0.000      1919\n",
      "0.125        21\n",
      "222.250       9\n",
      "239.625       8\n",
      "238.125       8\n",
      "           ... \n",
      "156.625       1\n",
      "137.250       1\n",
      "132.750       1\n",
      "36.125        1\n",
      "183.625       1\n",
      "Name: count, Length: 1014, dtype: int64\n"
     ]
    }
   ],
   "source": [
    "df['qxinit_hls'] = df['qonnx_init'] - df['hls']\n",
    "df['qxmod_hls'] = df['qonnx_mod'] - df['hls']\n",
    "\n",
    "print(df['qxinit_hls'].value_counts())\n",
    "print(df['qxmod_hls'].value_counts())"
   ]
  },
  {
   "cell_type": "markdown",
   "id": "bfce0b79",
   "metadata": {},
   "source": [
    "### Create histograms"
   ]
  },
  {
   "cell_type": "code",
   "execution_count": 7,
   "id": "c09bfedb",
   "metadata": {},
   "outputs": [],
   "source": [
    "import matplotlib.pyplot as plt"
   ]
  },
  {
   "cell_type": "code",
   "execution_count": 43,
   "id": "12202031",
   "metadata": {},
   "outputs": [
    {
     "data": {
      "text/plain": [
       "185.375"
      ]
     },
     "execution_count": 43,
     "metadata": {},
     "output_type": "execute_result"
    }
   ],
   "source": [
    "dfpl = pd.DataFrame([df['qxinit_hls'].value_counts(),df['qxmod_hls'].value_counts()])\n",
    "dfpl = dfpl.transpose()\n",
    "dfpl.columns = ['init','mod']\n",
    "dfpl = dfpl.fillna(0)\n",
    "dfpl /= dfpl['init'].sum()\n",
    "dfpl *= 100\n",
    "dfpl = dfpl.sort_index()\n",
    "dfpl.index[500]"
   ]
  },
  {
   "cell_type": "code",
   "execution_count": 44,
   "id": "c8545327",
   "metadata": {},
   "outputs": [],
   "source": [
    "def categ(x):\n",
    "    if x==0.0 : return '0.0'\n",
    "    if x < 10. : return '0-10'\n",
    "    if x < 150. : return '10-150'\n",
    "    if x < 500. : return '150-500'\n",
    "    return 'more'"
   ]
  },
  {
   "cell_type": "code",
   "execution_count": 45,
   "id": "f9d4da9c",
   "metadata": {},
   "outputs": [
    {
     "data": {
      "text/html": [
       "<div>\n",
       "<style scoped>\n",
       "    .dataframe tbody tr th:only-of-type {\n",
       "        vertical-align: middle;\n",
       "    }\n",
       "\n",
       "    .dataframe tbody tr th {\n",
       "        vertical-align: top;\n",
       "    }\n",
       "\n",
       "    .dataframe thead th {\n",
       "        text-align: right;\n",
       "    }\n",
       "</style>\n",
       "<table border=\"1\" class=\"dataframe\">\n",
       "  <thead>\n",
       "    <tr style=\"text-align: right;\">\n",
       "      <th></th>\n",
       "      <th>init</th>\n",
       "      <th>mod</th>\n",
       "    </tr>\n",
       "    <tr>\n",
       "      <th>cat</th>\n",
       "      <th></th>\n",
       "      <th></th>\n",
       "    </tr>\n",
       "  </thead>\n",
       "  <tbody>\n",
       "    <tr>\n",
       "      <th>0-10</th>\n",
       "      <td>0.756836</td>\n",
       "      <td>0.976562</td>\n",
       "    </tr>\n",
       "    <tr>\n",
       "      <th>0.0</th>\n",
       "      <td>46.606445</td>\n",
       "      <td>46.850586</td>\n",
       "    </tr>\n",
       "    <tr>\n",
       "      <th>10-150</th>\n",
       "      <td>0.000000</td>\n",
       "      <td>9.326172</td>\n",
       "    </tr>\n",
       "    <tr>\n",
       "      <th>150-500</th>\n",
       "      <td>47.167969</td>\n",
       "      <td>42.846680</td>\n",
       "    </tr>\n",
       "    <tr>\n",
       "      <th>more</th>\n",
       "      <td>5.468750</td>\n",
       "      <td>0.000000</td>\n",
       "    </tr>\n",
       "  </tbody>\n",
       "</table>\n",
       "</div>"
      ],
      "text/plain": [
       "              init        mod\n",
       "cat                          \n",
       "0-10      0.756836   0.976562\n",
       "0.0      46.606445  46.850586\n",
       "10-150    0.000000   9.326172\n",
       "150-500  47.167969  42.846680\n",
       "more      5.468750   0.000000"
      ]
     },
     "execution_count": 45,
     "metadata": {},
     "output_type": "execute_result"
    }
   ],
   "source": [
    "# Categorize differences (deviations from hls preds)\n",
    "dfpl['cat'] = dfpl.index.map(categ)\n",
    "\n",
    "catdf = dfpl.groupby('cat').sum()\n",
    "catdf"
   ]
  },
  {
   "cell_type": "code",
   "execution_count": 42,
   "id": "9a3735cf",
   "metadata": {},
   "outputs": [
    {
     "data": {
      "text/html": [
       "<div>\n",
       "<style scoped>\n",
       "    .dataframe tbody tr th:only-of-type {\n",
       "        vertical-align: middle;\n",
       "    }\n",
       "\n",
       "    .dataframe tbody tr th {\n",
       "        vertical-align: top;\n",
       "    }\n",
       "\n",
       "    .dataframe thead th {\n",
       "        text-align: right;\n",
       "    }\n",
       "</style>\n",
       "<table border=\"1\" class=\"dataframe\">\n",
       "  <thead>\n",
       "    <tr style=\"text-align: right;\">\n",
       "      <th></th>\n",
       "      <th>init</th>\n",
       "      <th>mod</th>\n",
       "    </tr>\n",
       "    <tr>\n",
       "      <th>cat</th>\n",
       "      <th></th>\n",
       "      <th></th>\n",
       "    </tr>\n",
       "  </thead>\n",
       "  <tbody>\n",
       "    <tr>\n",
       "      <th>0.0</th>\n",
       "      <td>46.606445</td>\n",
       "      <td>46.850586</td>\n",
       "    </tr>\n",
       "    <tr>\n",
       "      <th>0-10</th>\n",
       "      <td>0.756836</td>\n",
       "      <td>0.976562</td>\n",
       "    </tr>\n",
       "    <tr>\n",
       "      <th>10-150</th>\n",
       "      <td>0.000000</td>\n",
       "      <td>9.326172</td>\n",
       "    </tr>\n",
       "    <tr>\n",
       "      <th>150-500</th>\n",
       "      <td>47.167969</td>\n",
       "      <td>42.846680</td>\n",
       "    </tr>\n",
       "    <tr>\n",
       "      <th>more</th>\n",
       "      <td>5.468750</td>\n",
       "      <td>0.000000</td>\n",
       "    </tr>\n",
       "  </tbody>\n",
       "</table>\n",
       "</div>"
      ],
      "text/plain": [
       "              init        mod\n",
       "cat                          \n",
       "0.0      46.606445  46.850586\n",
       "0-10      0.756836   0.976562\n",
       "10-150    0.000000   9.326172\n",
       "150-500  47.167969  42.846680\n",
       "more      5.468750   0.000000"
      ]
     },
     "execution_count": 42,
     "metadata": {},
     "output_type": "execute_result"
    }
   ],
   "source": [
    "catdf = catdf.reindex(['0.0','0-10','10-150','150-500','more'])\n",
    "catdf"
   ]
  },
  {
   "cell_type": "code",
   "execution_count": null,
   "id": "6c6c8037",
   "metadata": {},
   "outputs": [],
   "source": [
    "fig, ax = plt.subplots(layout='constrained')\n",
    "width = 0.25\n",
    "xticks = np.arange(catdf.shape[0])\n",
    "\n",
    "for i in range(len(catdf.keys())):\n",
    "    b = ax.bar(xticks+(-1+i)*width, catdf.values[:,i], width, label=catdf.keys()[i], align='edge')\n",
    "    ax.bar_label(b, fmt='{:.2f}')\n",
    "\n",
    "ax.legend()\n",
    "ax.set_xticks(xticks)\n",
    "ax.set_xticklabels(catdf.index.to_list())\n",
    "ax.set_yscale('log')\n",
    "ax.xaxis.set_tick_params(length=0)"
   ]
  }
 ],
 "metadata": {
  "kernelspec": {
   "display_name": "venv3_9",
   "language": "python",
   "name": "python3"
  },
  "language_info": {
   "codemirror_mode": {
    "name": "ipython",
    "version": 3
   },
   "file_extension": ".py",
   "mimetype": "text/x-python",
   "name": "python",
   "nbconvert_exporter": "python",
   "pygments_lexer": "ipython3",
   "version": "3.9.21"
  }
 },
 "nbformat": 4,
 "nbformat_minor": 5
}
