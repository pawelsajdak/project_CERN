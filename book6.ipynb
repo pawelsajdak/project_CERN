{
 "cells": [
  {
   "cell_type": "markdown",
   "id": "5a3d0bbd",
   "metadata": {},
   "source": [
    "### Info\n",
    "Plotting comparisons"
   ]
  },
  {
   "cell_type": "code",
   "execution_count": 1,
   "id": "e32418c4",
   "metadata": {},
   "outputs": [],
   "source": [
    "import numpy as np\n",
    "import pandas as pd"
   ]
  },
  {
   "cell_type": "markdown",
   "id": "33bf5225",
   "metadata": {},
   "source": [
    "### Load data into a DataFrame"
   ]
  },
  {
   "cell_type": "code",
   "execution_count": 2,
   "id": "aa57d6c7",
   "metadata": {},
   "outputs": [],
   "source": [
    "min_ind = 1\n",
    "max_ind = 2\n",
    "\n",
    "model_names = ('hls','qkeras','qonnx_init','qonnx_mod')\n",
    "pred_all = []   # will be a list of arrays from each model\n",
    "\n",
    "for model_name in model_names:\n",
    "    pred_single = np.array([])\n",
    "    for file_index in range(min_ind, max_ind+1):\n",
    "        data = np.load('./pred_SMS_Higgsino/preds_'+model_name+str(file_index)+'.npy')\n",
    "        pred_single = np.append(pred_single,data)\n",
    "        #print(pred_single.shape)\n",
    "    pred_all.append(pred_single)\n",
    "\n",
    "pred_all = np.array(pred_all).T"
   ]
  },
  {
   "cell_type": "code",
   "execution_count": 3,
   "id": "beed4311",
   "metadata": {},
   "outputs": [
    {
     "data": {
      "text/plain": [
       "(4096, 4)"
      ]
     },
     "execution_count": 3,
     "metadata": {},
     "output_type": "execute_result"
    }
   ],
   "source": [
    "pred_all.shape"
   ]
  },
  {
   "cell_type": "code",
   "execution_count": 4,
   "id": "5dbe93e6",
   "metadata": {},
   "outputs": [
    {
     "data": {
      "text/html": [
       "<div>\n",
       "<style scoped>\n",
       "    .dataframe tbody tr th:only-of-type {\n",
       "        vertical-align: middle;\n",
       "    }\n",
       "\n",
       "    .dataframe tbody tr th {\n",
       "        vertical-align: top;\n",
       "    }\n",
       "\n",
       "    .dataframe thead th {\n",
       "        text-align: right;\n",
       "    }\n",
       "</style>\n",
       "<table border=\"1\" class=\"dataframe\">\n",
       "  <thead>\n",
       "    <tr style=\"text-align: right;\">\n",
       "      <th></th>\n",
       "      <th>hls</th>\n",
       "      <th>qkeras</th>\n",
       "      <th>qonnx_init</th>\n",
       "      <th>qonnx_mod</th>\n",
       "    </tr>\n",
       "  </thead>\n",
       "  <tbody>\n",
       "    <tr>\n",
       "      <th>0</th>\n",
       "      <td>130.500</td>\n",
       "      <td>129.250</td>\n",
       "      <td>129.250</td>\n",
       "      <td>129.375</td>\n",
       "    </tr>\n",
       "    <tr>\n",
       "      <th>1</th>\n",
       "      <td>2048.250</td>\n",
       "      <td>2043.125</td>\n",
       "      <td>2043.125</td>\n",
       "      <td>2040.000</td>\n",
       "    </tr>\n",
       "    <tr>\n",
       "      <th>2</th>\n",
       "      <td>396.375</td>\n",
       "      <td>394.750</td>\n",
       "      <td>394.750</td>\n",
       "      <td>395.500</td>\n",
       "    </tr>\n",
       "    <tr>\n",
       "      <th>3</th>\n",
       "      <td>249.000</td>\n",
       "      <td>247.375</td>\n",
       "      <td>247.375</td>\n",
       "      <td>246.500</td>\n",
       "    </tr>\n",
       "    <tr>\n",
       "      <th>4</th>\n",
       "      <td>494.250</td>\n",
       "      <td>492.375</td>\n",
       "      <td>492.375</td>\n",
       "      <td>491.000</td>\n",
       "    </tr>\n",
       "    <tr>\n",
       "      <th>...</th>\n",
       "      <td>...</td>\n",
       "      <td>...</td>\n",
       "      <td>...</td>\n",
       "      <td>...</td>\n",
       "    </tr>\n",
       "    <tr>\n",
       "      <th>4091</th>\n",
       "      <td>306.500</td>\n",
       "      <td>305.250</td>\n",
       "      <td>305.250</td>\n",
       "      <td>306.000</td>\n",
       "    </tr>\n",
       "    <tr>\n",
       "      <th>4092</th>\n",
       "      <td>1502.375</td>\n",
       "      <td>1498.625</td>\n",
       "      <td>1498.625</td>\n",
       "      <td>1496.500</td>\n",
       "    </tr>\n",
       "    <tr>\n",
       "      <th>4093</th>\n",
       "      <td>179.500</td>\n",
       "      <td>178.000</td>\n",
       "      <td>178.000</td>\n",
       "      <td>177.250</td>\n",
       "    </tr>\n",
       "    <tr>\n",
       "      <th>4094</th>\n",
       "      <td>3036.250</td>\n",
       "      <td>3030.500</td>\n",
       "      <td>3030.500</td>\n",
       "      <td>3032.750</td>\n",
       "    </tr>\n",
       "    <tr>\n",
       "      <th>4095</th>\n",
       "      <td>261.000</td>\n",
       "      <td>259.250</td>\n",
       "      <td>259.250</td>\n",
       "      <td>258.375</td>\n",
       "    </tr>\n",
       "  </tbody>\n",
       "</table>\n",
       "<p>4096 rows × 4 columns</p>\n",
       "</div>"
      ],
      "text/plain": [
       "           hls    qkeras  qonnx_init  qonnx_mod\n",
       "0      130.500   129.250     129.250    129.375\n",
       "1     2048.250  2043.125    2043.125   2040.000\n",
       "2      396.375   394.750     394.750    395.500\n",
       "3      249.000   247.375     247.375    246.500\n",
       "4      494.250   492.375     492.375    491.000\n",
       "...        ...       ...         ...        ...\n",
       "4091   306.500   305.250     305.250    306.000\n",
       "4092  1502.375  1498.625    1498.625   1496.500\n",
       "4093   179.500   178.000     178.000    177.250\n",
       "4094  3036.250  3030.500    3030.500   3032.750\n",
       "4095   261.000   259.250     259.250    258.375\n",
       "\n",
       "[4096 rows x 4 columns]"
      ]
     },
     "execution_count": 4,
     "metadata": {},
     "output_type": "execute_result"
    }
   ],
   "source": [
    "df = pd.DataFrame(pred_all, columns=model_names)\n",
    "df"
   ]
  },
  {
   "cell_type": "markdown",
   "id": "b819c0a2",
   "metadata": {},
   "source": [
    "### Compare predictions"
   ]
  },
  {
   "cell_type": "code",
   "execution_count": 5,
   "id": "27dd76d7",
   "metadata": {},
   "outputs": [
    {
     "data": {
      "text/plain": [
       "qxinit_qkeras\n",
       "0.0    4096\n",
       "Name: count, dtype: int64"
      ]
     },
     "execution_count": 5,
     "metadata": {},
     "output_type": "execute_result"
    }
   ],
   "source": [
    "df['qxinit_qkeras'] = np.abs(df['qonnx_init'] - df['qkeras'])\n",
    "df['qxinit_qkeras'].value_counts()"
   ]
  },
  {
   "cell_type": "markdown",
   "id": "a27fb166",
   "metadata": {},
   "source": [
    "modified vs unmodified qonnx with respect to hls"
   ]
  },
  {
   "cell_type": "code",
   "execution_count": 6,
   "id": "fa2637c0",
   "metadata": {},
   "outputs": [
    {
     "name": "stdout",
     "output_type": "stream",
     "text": [
      "qxinit_hls\n",
      "2.125    229\n",
      "2.375    212\n",
      "2.000    211\n",
      "1.750    209\n",
      "2.625    205\n",
      "        ... \n",
      "7.875      2\n",
      "7.250      1\n",
      "8.750      1\n",
      "8.125      1\n",
      "7.625      1\n",
      "Name: count, Length: 64, dtype: int64\n",
      "qxmod_hls\n",
      "1.750     222\n",
      "1.250     218\n",
      "1.500     205\n",
      "2.000     182\n",
      "2.500     163\n",
      "         ... \n",
      "8.375       1\n",
      "10.625      1\n",
      "11.500      1\n",
      "11.250      1\n",
      "9.000       1\n",
      "Name: count, Length: 84, dtype: int64\n"
     ]
    }
   ],
   "source": [
    "df['qxinit_hls'] = np.abs(df['qonnx_init'] - df['hls'])\n",
    "df['qxmod_hls'] = np.abs(df['qonnx_mod'] - df['hls'])\n",
    "\n",
    "print(df['qxinit_hls'].value_counts())\n",
    "print(df['qxmod_hls'].value_counts())"
   ]
  },
  {
   "cell_type": "markdown",
   "id": "bfce0b79",
   "metadata": {},
   "source": [
    "### Create histograms"
   ]
  },
  {
   "cell_type": "code",
   "execution_count": 7,
   "id": "c09bfedb",
   "metadata": {},
   "outputs": [],
   "source": [
    "import matplotlib.pyplot as plt"
   ]
  },
  {
   "cell_type": "code",
   "execution_count": 8,
   "id": "d1a471c1",
   "metadata": {},
   "outputs": [
    {
     "data": {
      "text/html": [
       "<div>\n",
       "<style scoped>\n",
       "    .dataframe tbody tr th:only-of-type {\n",
       "        vertical-align: middle;\n",
       "    }\n",
       "\n",
       "    .dataframe tbody tr th {\n",
       "        vertical-align: top;\n",
       "    }\n",
       "\n",
       "    .dataframe thead th {\n",
       "        text-align: right;\n",
       "    }\n",
       "</style>\n",
       "<table border=\"1\" class=\"dataframe\">\n",
       "  <thead>\n",
       "    <tr style=\"text-align: right;\">\n",
       "      <th></th>\n",
       "      <th>2.125</th>\n",
       "      <th>2.375</th>\n",
       "      <th>2.000</th>\n",
       "      <th>1.750</th>\n",
       "      <th>2.625</th>\n",
       "      <th>2.250</th>\n",
       "      <th>1.875</th>\n",
       "      <th>2.500</th>\n",
       "      <th>2.750</th>\n",
       "      <th>1.625</th>\n",
       "      <th>...</th>\n",
       "      <th>10.250</th>\n",
       "      <th>9.125</th>\n",
       "      <th>13.125</th>\n",
       "      <th>10.375</th>\n",
       "      <th>10.500</th>\n",
       "      <th>8.375</th>\n",
       "      <th>10.625</th>\n",
       "      <th>11.500</th>\n",
       "      <th>11.250</th>\n",
       "      <th>9.000</th>\n",
       "    </tr>\n",
       "  </thead>\n",
       "  <tbody>\n",
       "    <tr>\n",
       "      <th>count</th>\n",
       "      <td>229.0</td>\n",
       "      <td>212.0</td>\n",
       "      <td>211.0</td>\n",
       "      <td>209.0</td>\n",
       "      <td>205.0</td>\n",
       "      <td>204.0</td>\n",
       "      <td>195.0</td>\n",
       "      <td>188.0</td>\n",
       "      <td>180.0</td>\n",
       "      <td>167.0</td>\n",
       "      <td>...</td>\n",
       "      <td>NaN</td>\n",
       "      <td>NaN</td>\n",
       "      <td>NaN</td>\n",
       "      <td>NaN</td>\n",
       "      <td>NaN</td>\n",
       "      <td>NaN</td>\n",
       "      <td>NaN</td>\n",
       "      <td>NaN</td>\n",
       "      <td>NaN</td>\n",
       "      <td>NaN</td>\n",
       "    </tr>\n",
       "    <tr>\n",
       "      <th>count</th>\n",
       "      <td>108.0</td>\n",
       "      <td>114.0</td>\n",
       "      <td>182.0</td>\n",
       "      <td>222.0</td>\n",
       "      <td>99.0</td>\n",
       "      <td>144.0</td>\n",
       "      <td>117.0</td>\n",
       "      <td>163.0</td>\n",
       "      <td>146.0</td>\n",
       "      <td>128.0</td>\n",
       "      <td>...</td>\n",
       "      <td>2.0</td>\n",
       "      <td>2.0</td>\n",
       "      <td>1.0</td>\n",
       "      <td>1.0</td>\n",
       "      <td>1.0</td>\n",
       "      <td>1.0</td>\n",
       "      <td>1.0</td>\n",
       "      <td>1.0</td>\n",
       "      <td>1.0</td>\n",
       "      <td>1.0</td>\n",
       "    </tr>\n",
       "  </tbody>\n",
       "</table>\n",
       "<p>2 rows × 84 columns</p>\n",
       "</div>"
      ],
      "text/plain": [
       "       2.125   2.375   2.000   1.750   2.625   2.250   1.875   2.500   2.750   \\\n",
       "count   229.0   212.0   211.0   209.0   205.0   204.0   195.0   188.0   180.0   \n",
       "count   108.0   114.0   182.0   222.0    99.0   144.0   117.0   163.0   146.0   \n",
       "\n",
       "       1.625   ...  10.250  9.125   13.125  10.375  10.500  8.375   10.625  \\\n",
       "count   167.0  ...     NaN     NaN     NaN     NaN     NaN     NaN     NaN   \n",
       "count   128.0  ...     2.0     2.0     1.0     1.0     1.0     1.0     1.0   \n",
       "\n",
       "       11.500  11.250  9.000   \n",
       "count     NaN     NaN     NaN  \n",
       "count     1.0     1.0     1.0  \n",
       "\n",
       "[2 rows x 84 columns]"
      ]
     },
     "execution_count": 8,
     "metadata": {},
     "output_type": "execute_result"
    }
   ],
   "source": [
    "dfpl = pd.DataFrame([df['qxinit_hls'].value_counts(),df['qxmod_hls'].value_counts()])\n",
    "dfpl"
   ]
  },
  {
   "cell_type": "code",
   "execution_count": null,
   "id": "12202031",
   "metadata": {},
   "outputs": [
    {
     "data": {
      "text/html": [
       "<div>\n",
       "<style scoped>\n",
       "    .dataframe tbody tr th:only-of-type {\n",
       "        vertical-align: middle;\n",
       "    }\n",
       "\n",
       "    .dataframe tbody tr th {\n",
       "        vertical-align: top;\n",
       "    }\n",
       "\n",
       "    .dataframe thead th {\n",
       "        text-align: right;\n",
       "    }\n",
       "</style>\n",
       "<table border=\"1\" class=\"dataframe\">\n",
       "  <thead>\n",
       "    <tr style=\"text-align: right;\">\n",
       "      <th></th>\n",
       "      <th>init</th>\n",
       "      <th>mod</th>\n",
       "    </tr>\n",
       "  </thead>\n",
       "  <tbody>\n",
       "    <tr>\n",
       "      <th>0.000</th>\n",
       "      <td>0.073242</td>\n",
       "      <td>0.048828</td>\n",
       "    </tr>\n",
       "    <tr>\n",
       "      <th>0.125</th>\n",
       "      <td>0.097656</td>\n",
       "      <td>0.097656</td>\n",
       "    </tr>\n",
       "    <tr>\n",
       "      <th>0.250</th>\n",
       "      <td>0.048828</td>\n",
       "      <td>0.097656</td>\n",
       "    </tr>\n",
       "    <tr>\n",
       "      <th>0.375</th>\n",
       "      <td>0.073242</td>\n",
       "      <td>0.219727</td>\n",
       "    </tr>\n",
       "    <tr>\n",
       "      <th>0.500</th>\n",
       "      <td>0.073242</td>\n",
       "      <td>0.659180</td>\n",
       "    </tr>\n",
       "    <tr>\n",
       "      <th>...</th>\n",
       "      <td>...</td>\n",
       "      <td>...</td>\n",
       "    </tr>\n",
       "    <tr>\n",
       "      <th>10.500</th>\n",
       "      <td>0.000000</td>\n",
       "      <td>0.024414</td>\n",
       "    </tr>\n",
       "    <tr>\n",
       "      <th>10.625</th>\n",
       "      <td>0.000000</td>\n",
       "      <td>0.024414</td>\n",
       "    </tr>\n",
       "    <tr>\n",
       "      <th>11.250</th>\n",
       "      <td>0.000000</td>\n",
       "      <td>0.024414</td>\n",
       "    </tr>\n",
       "    <tr>\n",
       "      <th>11.500</th>\n",
       "      <td>0.000000</td>\n",
       "      <td>0.024414</td>\n",
       "    </tr>\n",
       "    <tr>\n",
       "      <th>13.125</th>\n",
       "      <td>0.000000</td>\n",
       "      <td>0.024414</td>\n",
       "    </tr>\n",
       "  </tbody>\n",
       "</table>\n",
       "<p>84 rows × 2 columns</p>\n",
       "</div>"
      ],
      "text/plain": [
       "            init       mod\n",
       "0.000   0.073242  0.048828\n",
       "0.125   0.097656  0.097656\n",
       "0.250   0.048828  0.097656\n",
       "0.375   0.073242  0.219727\n",
       "0.500   0.073242  0.659180\n",
       "...          ...       ...\n",
       "10.500  0.000000  0.024414\n",
       "10.625  0.000000  0.024414\n",
       "11.250  0.000000  0.024414\n",
       "11.500  0.000000  0.024414\n",
       "13.125  0.000000  0.024414\n",
       "\n",
       "[84 rows x 2 columns]"
      ]
     },
     "execution_count": 10,
     "metadata": {},
     "output_type": "execute_result"
    }
   ],
   "source": [
    "dfpl = pd.DataFrame([df['qxinit_hls'].value_counts(),df['qxmod_hls'].value_counts()])\n",
    "dfpl = dfpl.transpose()\n",
    "dfpl.columns = ['init','mod']\n",
    "dfpl = dfpl.fillna(0)\n",
    "dfpl /= dfpl['init'].sum()  # percentage\n",
    "dfpl *= 100\n",
    "dfpl = dfpl.sort_index()\n",
    "dfpl"
   ]
  },
  {
   "cell_type": "code",
   "execution_count": 50,
   "id": "c8545327",
   "metadata": {},
   "outputs": [],
   "source": [
    "def categ(x):\n",
    "    if x==0.0 : return '0.0'\n",
    "    if x < 1. : return '0 - 1'\n",
    "    if x < 5. : return '1 - 5'\n",
    "    if x < 10. : return '5 - 10'\n",
    "    if x < 15. : return '10 - 15'\n",
    "    return 'more'"
   ]
  },
  {
   "cell_type": "code",
   "execution_count": 51,
   "id": "f9d4da9c",
   "metadata": {},
   "outputs": [
    {
     "data": {
      "text/html": [
       "<div>\n",
       "<style scoped>\n",
       "    .dataframe tbody tr th:only-of-type {\n",
       "        vertical-align: middle;\n",
       "    }\n",
       "\n",
       "    .dataframe tbody tr th {\n",
       "        vertical-align: top;\n",
       "    }\n",
       "\n",
       "    .dataframe thead th {\n",
       "        text-align: right;\n",
       "    }\n",
       "</style>\n",
       "<table border=\"1\" class=\"dataframe\">\n",
       "  <thead>\n",
       "    <tr style=\"text-align: right;\">\n",
       "      <th></th>\n",
       "      <th>init</th>\n",
       "      <th>mod</th>\n",
       "    </tr>\n",
       "    <tr>\n",
       "      <th>cat</th>\n",
       "      <th></th>\n",
       "      <th></th>\n",
       "    </tr>\n",
       "  </thead>\n",
       "  <tbody>\n",
       "    <tr>\n",
       "      <th>0 - 1</th>\n",
       "      <td>1.757812</td>\n",
       "      <td>5.322266</td>\n",
       "    </tr>\n",
       "    <tr>\n",
       "      <th>0.0</th>\n",
       "      <td>0.073242</td>\n",
       "      <td>0.048828</td>\n",
       "    </tr>\n",
       "    <tr>\n",
       "      <th>1 - 5</th>\n",
       "      <td>94.506836</td>\n",
       "      <td>83.837891</td>\n",
       "    </tr>\n",
       "    <tr>\n",
       "      <th>10 - 15</th>\n",
       "      <td>0.000000</td>\n",
       "      <td>0.268555</td>\n",
       "    </tr>\n",
       "    <tr>\n",
       "      <th>5 - 10</th>\n",
       "      <td>3.662109</td>\n",
       "      <td>10.522461</td>\n",
       "    </tr>\n",
       "  </tbody>\n",
       "</table>\n",
       "</div>"
      ],
      "text/plain": [
       "              init        mod\n",
       "cat                          \n",
       "0 - 1     1.757812   5.322266\n",
       "0.0       0.073242   0.048828\n",
       "1 - 5    94.506836  83.837891\n",
       "10 - 15   0.000000   0.268555\n",
       "5 - 10    3.662109  10.522461"
      ]
     },
     "execution_count": 51,
     "metadata": {},
     "output_type": "execute_result"
    }
   ],
   "source": [
    "# Categorize differences (deviations from hls preds)\n",
    "dfpl['cat'] = dfpl.index.map(categ)\n",
    "\n",
    "catdf = dfpl.groupby('cat').sum()\n",
    "catdf"
   ]
  },
  {
   "cell_type": "code",
   "execution_count": 52,
   "id": "9a3735cf",
   "metadata": {},
   "outputs": [
    {
     "data": {
      "text/html": [
       "<div>\n",
       "<style scoped>\n",
       "    .dataframe tbody tr th:only-of-type {\n",
       "        vertical-align: middle;\n",
       "    }\n",
       "\n",
       "    .dataframe tbody tr th {\n",
       "        vertical-align: top;\n",
       "    }\n",
       "\n",
       "    .dataframe thead th {\n",
       "        text-align: right;\n",
       "    }\n",
       "</style>\n",
       "<table border=\"1\" class=\"dataframe\">\n",
       "  <thead>\n",
       "    <tr style=\"text-align: right;\">\n",
       "      <th></th>\n",
       "      <th>init</th>\n",
       "      <th>mod</th>\n",
       "    </tr>\n",
       "    <tr>\n",
       "      <th>cat</th>\n",
       "      <th></th>\n",
       "      <th></th>\n",
       "    </tr>\n",
       "  </thead>\n",
       "  <tbody>\n",
       "    <tr>\n",
       "      <th>0.0</th>\n",
       "      <td>0.073242</td>\n",
       "      <td>0.048828</td>\n",
       "    </tr>\n",
       "    <tr>\n",
       "      <th>0 - 1</th>\n",
       "      <td>1.757812</td>\n",
       "      <td>5.322266</td>\n",
       "    </tr>\n",
       "    <tr>\n",
       "      <th>1 - 5</th>\n",
       "      <td>94.506836</td>\n",
       "      <td>83.837891</td>\n",
       "    </tr>\n",
       "    <tr>\n",
       "      <th>5 - 10</th>\n",
       "      <td>3.662109</td>\n",
       "      <td>10.522461</td>\n",
       "    </tr>\n",
       "    <tr>\n",
       "      <th>10 - 15</th>\n",
       "      <td>0.000000</td>\n",
       "      <td>0.268555</td>\n",
       "    </tr>\n",
       "  </tbody>\n",
       "</table>\n",
       "</div>"
      ],
      "text/plain": [
       "              init        mod\n",
       "cat                          \n",
       "0.0       0.073242   0.048828\n",
       "0 - 1     1.757812   5.322266\n",
       "1 - 5    94.506836  83.837891\n",
       "5 - 10    3.662109  10.522461\n",
       "10 - 15   0.000000   0.268555"
      ]
     },
     "execution_count": 52,
     "metadata": {},
     "output_type": "execute_result"
    }
   ],
   "source": [
    "catdf = catdf.reindex(['0.0','0 - 1','1 - 5','5 - 10','10 - 15'])\n",
    "catdf"
   ]
  },
  {
   "cell_type": "code",
   "execution_count": 68,
   "id": "6c6c8037",
   "metadata": {},
   "outputs": [
    {
     "data": {
      "text/plain": [
       "Text(0.5, 1.0, 'Signal (SMS-Higgsino)')"
      ]
     },
     "execution_count": 68,
     "metadata": {},
     "output_type": "execute_result"
    },
    {
     "data": {
      "image/png": "[encoded data removed]",
      "text/plain": [
       "<Figure size 640x480 with 1 Axes>"
      ]
     },
     "metadata": {},
     "output_type": "display_data"
    }
   ],
   "source": [
    "fig, ax = plt.subplots(layout='constrained')\n",
    "width = 0.4\n",
    "xticks = np.arange(catdf.shape[0])\n",
    "\n",
    "labels = [\"initial model\",\"modified model\"]\n",
    "\n",
    "for i in range(len(catdf.keys())):\n",
    "    b = ax.bar(xticks+(-1+i)*width, catdf.values[:,i], width, label=labels[i], align='edge')\n",
    "    ax.bar_label(b, fmt='{:.2f}')\n",
    "\n",
    "ax.legend(fontsize = 12)\n",
    "ax.set_xticks(xticks)\n",
    "ax.set_xticklabels(catdf.index.to_list(),fontdict={'size': 11})\n",
    "ax.xaxis.set_tick_params(length=0)\n",
    "ax.set_xlabel(\"Deviation from the HLS prediction (abs)\",{'size': 12})\n",
    "ax.set_ylim(0,100)\n",
    "ax.set_ylabel(\"Percentage of all predictions\",{'size': 12})\n",
    "ax.set_title(\"Signal (SMS-Higgsino)\",fontdict={'size': 16},pad=15)\n"
   ]
  },
  {
   "cell_type": "code",
   "execution_count": 69,
   "id": "5d9ab45a",
   "metadata": {},
   "outputs": [],
   "source": [
    "fig.savefig('Higgsino.pdf')"
   ]
  }
 ],
 "metadata": {
  "kernelspec": {
   "display_name": "venv3_9",
   "language": "python",
   "name": "python3"
  },
  "language_info": {
   "codemirror_mode": {
    "name": "ipython",
    "version": 3
   },
   "file_extension": ".py",
   "mimetype": "text/x-python",
   "name": "python",
   "nbconvert_exporter": "python",
   "pygments_lexer": "ipython3",
   "version": "3.9.21"
  }
 },
 "nbformat": 4,
 "nbformat_minor": 5
}
