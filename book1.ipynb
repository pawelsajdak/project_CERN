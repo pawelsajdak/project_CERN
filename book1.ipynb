{
 "cells": [
  {
   "cell_type": "markdown",
   "id": "0dd00982",
   "metadata": {},
   "source": [
    "## Info\n",
    "based on notebook3"
   ]
  },
  {
   "cell_type": "markdown",
   "id": "cc6d8945",
   "metadata": {},
   "source": [
    "## Load packages and the model"
   ]
  },
  {
   "cell_type": "code",
   "execution_count": 1,
   "id": "bae20893",
   "metadata": {},
   "outputs": [
    {
     "name": "stderr",
     "output_type": "stream",
     "text": [
      "2025-09-23 15:21:12.262907: I tensorflow/tsl/cuda/cudart_stub.cc:28] Could not find cuda drivers on your machine, GPU will not be used.\n",
      "2025-09-23 15:21:13.043092: E tensorflow/compiler/xla/stream_executor/cuda/cuda_dnn.cc:9342] Unable to register cuDNN factory: Attempting to register factory for plugin cuDNN when one has already been registered\n",
      "2025-09-23 15:21:13.043140: E tensorflow/compiler/xla/stream_executor/cuda/cuda_fft.cc:609] Unable to register cuFFT factory: Attempting to register factory for plugin cuFFT when one has already been registered\n",
      "2025-09-23 15:21:13.047947: E tensorflow/compiler/xla/stream_executor/cuda/cuda_blas.cc:1518] Unable to register cuBLAS factory: Attempting to register factory for plugin cuBLAS when one has already been registered\n",
      "2025-09-23 15:21:13.520605: I tensorflow/tsl/cuda/cudart_stub.cc:28] Could not find cuda drivers on your machine, GPU will not be used.\n",
      "2025-09-23 15:21:13.524342: I tensorflow/core/platform/cpu_feature_guard.cc:182] This TensorFlow binary is optimized to use available CPU instructions in performance-critical operations.\n",
      "To enable the following instructions: AVX2 FMA, in other operations, rebuild TensorFlow with the appropriate compiler flags.\n",
      "2025-09-23 15:21:55.152828: W tensorflow/compiler/tf2tensorrt/utils/py_utils.cc:38] TF-TRT Warning: Could not find TensorRT\n",
      "/afs/cern.ch/user/p/psajdak/eos_mine/project_CERN/venv3_9/lib64/python3.9/site-packages/networkx/utils/backends.py:135: RuntimeWarning: networkx backend defined more than once: nx-loopback\n",
      "  backends.update(_get_backends(\"networkx.backends\"))\n"
     ]
    },
    {
     "name": "stdout",
     "output_type": "stream",
     "text": [
      "WARNING:tensorflow:No training configuration found in the save file, so the model was *not* compiled. Compile it manually.\n"
     ]
    },
    {
     "name": "stderr",
     "output_type": "stream",
     "text": [
      "WARNING:tensorflow:No training configuration found in the save file, so the model was *not* compiled. Compile it manually.\n"
     ]
    }
   ],
   "source": [
    "import tensorflow as tf\n",
    "import numpy\n",
    "import h5py\n",
    "from qkeras.utils import _add_supported_quantized_objects\n",
    "from qkeras import quantized_bits\n",
    "co = {}; _add_supported_quantized_objects(co)\n",
    "\n",
    "model_path = f\"/eos/project/c/cms-l1ml/public/Pawel/axol1tl_model.h5\"\n",
    "\n",
    "model = tf.keras.models.load_model(model_path, custom_objects=co)\n",
    "#model_config = model.get_config()\n",
    "\n",
    "data_path = f\"/eos/project/c/cms-l1ml/public/Pawel/complete.h5\"\n",
    "data_file = h5py.File(data_path, 'r')"
   ]
  },
  {
   "cell_type": "markdown",
   "id": "7abfa7f7",
   "metadata": {},
   "source": [
    "### Copy weights"
   ]
  },
  {
   "cell_type": "code",
   "execution_count": 2,
   "id": "4aeb426a",
   "metadata": {},
   "outputs": [],
   "source": [
    "ds_weights = data_file['model']['trimmed_encoder']['model_weights']\n",
    "for layer in iter(model.layers):\n",
    "    #print(layer.name)\n",
    "    if layer.name in ('input_1','subtract','dot'): continue\n",
    "\n",
    "    if layer.name == 'q_dense_4':\n",
    "        weights_group = ds_weights['q_dense_4']['variational_auto_encoder']['vae__encoder']['q_dense_4']\n",
    "        layer.set_weights((weights_group['kernel:0'], weights_group['bias:0']))\n",
    "        continue\n",
    "\n",
    "    weights_group = ds_weights[layer.name][layer.name]\n",
    "    layer.set_weights((weights_group['kernel:0'], weights_group['bias:0']))"
   ]
  },
  {
   "cell_type": "markdown",
   "id": "2081cd79",
   "metadata": {},
   "source": [
    "### Look at the model"
   ]
  },
  {
   "cell_type": "code",
   "execution_count": 25,
   "id": "6931b44d",
   "metadata": {},
   "outputs": [
    {
     "name": "stderr",
     "output_type": "stream",
     "text": [
      "/afs/cern.ch/user/p/psajdak/eos_mine/project_CERN/venv3_9/lib64/python3.9/site-packages/keras/src/constraints.py:365: UserWarning: The `keras.constraints.serialize()` API should only be used for objects of type `keras.constraints.Constraint`. Found an instance of type <class 'qkeras.quantizers.quantized_bits'>, which may lead to improper serialization.\n",
      "  warnings.warn(\n"
     ]
    },
    {
     "data": {
      "text/plain": [
       "{'module': 'qkeras.qlayers',\n",
       " 'class_name': 'QDense',\n",
       " 'config': {'name': 'q_dense',\n",
       "  'trainable': True,\n",
       "  'dtype': 'float32',\n",
       "  'units': 29,\n",
       "  'activation': {'module': 'qkeras.quantizers',\n",
       "   'class_name': 'quantized_relu',\n",
       "   'config': {'bits': 10,\n",
       "    'integer': 6,\n",
       "    'use_sigmoid': 0,\n",
       "    'negative_slope': 0.0,\n",
       "    'use_stochastic_rounding': False,\n",
       "    'relu_upper_bound': None,\n",
       "    'qnoise_factor': 1.0},\n",
       "   'registered_name': 'quantized_relu'},\n",
       "  'use_bias': True,\n",
       "  'kernel_initializer': {'module': 'qkeras.qlayers',\n",
       "   'class_name': 'QInitializer',\n",
       "   'config': {'initializer': {'module': 'keras.initializers',\n",
       "     'class_name': 'GlorotUniform',\n",
       "     'config': {'seed': None},\n",
       "     'registered_name': None},\n",
       "    'use_scale': True,\n",
       "    'quantizer': {'module': 'qkeras.quantizers',\n",
       "     'class_name': 'quantized_bits',\n",
       "     'config': {'bits': 6,\n",
       "      'integer': 2,\n",
       "      'symmetric': 0,\n",
       "      'alpha': 1,\n",
       "      'keep_negative': True,\n",
       "      'use_stochastic_rounding': False,\n",
       "      'qnoise_factor': 1.0},\n",
       "     'registered_name': 'quantized_bits'}},\n",
       "   'registered_name': 'QInitializer'},\n",
       "  'bias_initializer': {'module': 'keras.initializers',\n",
       "   'class_name': 'Zeros',\n",
       "   'config': {},\n",
       "   'registered_name': None},\n",
       "  'kernel_regularizer': None,\n",
       "  'bias_regularizer': None,\n",
       "  'activity_regularizer': None,\n",
       "  'kernel_constraint': {'module': 'qkeras.qlayers',\n",
       "   'class_name': 'Clip',\n",
       "   'config': {'min_value': -4.0, 'max_value': 4.0},\n",
       "   'registered_name': 'Clip'},\n",
       "  'bias_constraint': {'module': 'qkeras.qlayers',\n",
       "   'class_name': 'Clip',\n",
       "   'config': {'min_value': -64.0, 'max_value': 64.0},\n",
       "   'registered_name': 'Clip'},\n",
       "  'kernel_quantizer': {'module': 'qkeras.quantizers',\n",
       "   'class_name': 'quantized_bits',\n",
       "   'config': {'bits': 6,\n",
       "    'integer': 2,\n",
       "    'symmetric': 0,\n",
       "    'alpha': 1,\n",
       "    'keep_negative': True,\n",
       "    'use_stochastic_rounding': False,\n",
       "    'qnoise_factor': 1.0},\n",
       "   'registered_name': 'quantized_bits'},\n",
       "  'bias_quantizer': {'module': 'qkeras.quantizers',\n",
       "   'class_name': 'quantized_bits',\n",
       "   'config': {'bits': 10,\n",
       "    'integer': 6,\n",
       "    'symmetric': 0,\n",
       "    'alpha': 1,\n",
       "    'keep_negative': True,\n",
       "    'use_stochastic_rounding': False,\n",
       "    'qnoise_factor': 1.0},\n",
       "   'registered_name': 'quantized_bits'},\n",
       "  'kernel_range': None,\n",
       "  'bias_range': None},\n",
       " 'registered_name': 'QDense',\n",
       " 'build_config': {'input_shape': (None, 57)},\n",
       " 'name': 'q_dense',\n",
       " 'inbound_nodes': [[['input_1', 0, 0, {}]]]}"
      ]
     },
     "execution_count": 25,
     "metadata": {},
     "output_type": "execute_result"
    }
   ],
   "source": [
    "model.get_config().keys()\n",
    "model.get_config()['layers'][1]"
   ]
  }
 ],
 "metadata": {
  "kernelspec": {
   "display_name": "venv3_9",
   "language": "python",
   "name": "python3"
  },
  "language_info": {
   "codemirror_mode": {
    "name": "ipython",
    "version": 3
   },
   "file_extension": ".py",
   "mimetype": "text/x-python",
   "name": "python",
   "nbconvert_exporter": "python",
   "pygments_lexer": "ipython3",
   "version": "3.9.21"
  }
 },
 "nbformat": 4,
 "nbformat_minor": 5
}
