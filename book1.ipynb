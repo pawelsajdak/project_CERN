{
 "cells": [
  {
   "cell_type": "markdown",
   "id": "0dd00982",
   "metadata": {},
   "source": [
    "## Info\n",
    "based on notebook3"
   ]
  },
  {
   "cell_type": "markdown",
   "id": "cc6d8945",
   "metadata": {},
   "source": [
    "## Load packages and the model"
   ]
  },
  {
   "cell_type": "code",
   "execution_count": 1,
   "id": "bae20893",
   "metadata": {},
   "outputs": [
    {
     "name": "stderr",
     "output_type": "stream",
     "text": [
      "2025-09-24 15:22:59.438117: I tensorflow/tsl/cuda/cudart_stub.cc:28] Could not find cuda drivers on your machine, GPU will not be used.\n",
      "2025-09-24 15:23:01.145380: E tensorflow/compiler/xla/stream_executor/cuda/cuda_dnn.cc:9342] Unable to register cuDNN factory: Attempting to register factory for plugin cuDNN when one has already been registered\n",
      "2025-09-24 15:23:01.145437: E tensorflow/compiler/xla/stream_executor/cuda/cuda_fft.cc:609] Unable to register cuFFT factory: Attempting to register factory for plugin cuFFT when one has already been registered\n",
      "2025-09-24 15:23:01.155302: E tensorflow/compiler/xla/stream_executor/cuda/cuda_blas.cc:1518] Unable to register cuBLAS factory: Attempting to register factory for plugin cuBLAS when one has already been registered\n",
      "2025-09-24 15:23:02.226889: I tensorflow/tsl/cuda/cudart_stub.cc:28] Could not find cuda drivers on your machine, GPU will not be used.\n",
      "2025-09-24 15:23:02.237623: I tensorflow/core/platform/cpu_feature_guard.cc:182] This TensorFlow binary is optimized to use available CPU instructions in performance-critical operations.\n",
      "To enable the following instructions: AVX2 FMA, in other operations, rebuild TensorFlow with the appropriate compiler flags.\n",
      "2025-09-24 15:23:54.629697: W tensorflow/compiler/tf2tensorrt/utils/py_utils.cc:38] TF-TRT Warning: Could not find TensorRT\n",
      "/afs/cern.ch/user/p/psajdak/eos_mine/project_CERN/venv3_9/lib64/python3.9/site-packages/networkx/utils/backends.py:135: RuntimeWarning: networkx backend defined more than once: nx-loopback\n",
      "  backends.update(_get_backends(\"networkx.backends\"))\n"
     ]
    },
    {
     "name": "stdout",
     "output_type": "stream",
     "text": [
      "WARNING:tensorflow:No training configuration found in the save file, so the model was *not* compiled. Compile it manually.\n"
     ]
    },
    {
     "name": "stderr",
     "output_type": "stream",
     "text": [
      "WARNING:tensorflow:No training configuration found in the save file, so the model was *not* compiled. Compile it manually.\n"
     ]
    }
   ],
   "source": [
    "import tensorflow as tf\n",
    "import numpy\n",
    "import h5py\n",
    "from qkeras.utils import _add_supported_quantized_objects\n",
    "from qkeras import quantized_bits\n",
    "co = {}; _add_supported_quantized_objects(co)\n",
    "\n",
    "model_path = f\"/eos/project/c/cms-l1ml/public/Pawel/axol1tl_model.h5\"\n",
    "\n",
    "model = tf.keras.models.load_model(model_path, custom_objects=co)\n",
    "#model_config = model.get_config()\n",
    "\n",
    "data_path = f\"/eos/project/c/cms-l1ml/public/Pawel/complete.h5\"\n",
    "data_file = h5py.File(data_path, 'r')"
   ]
  },
  {
   "cell_type": "markdown",
   "id": "7abfa7f7",
   "metadata": {},
   "source": [
    "### Copy weights"
   ]
  },
  {
   "cell_type": "code",
   "execution_count": 2,
   "id": "4aeb426a",
   "metadata": {},
   "outputs": [],
   "source": [
    "ds_weights = data_file['model']['trimmed_encoder']['model_weights']\n",
    "for layer in iter(model.layers):\n",
    "    #print(layer.name)\n",
    "    if layer.name in ('input_1','subtract','dot'): continue\n",
    "\n",
    "    if layer.name == 'q_dense_4':\n",
    "        weights_group = ds_weights['q_dense_4']['variational_auto_encoder']['vae__encoder']['q_dense_4']\n",
    "        layer.set_weights((weights_group['kernel:0'], weights_group['bias:0']))\n",
    "        continue\n",
    "\n",
    "    weights_group = ds_weights[layer.name][layer.name]\n",
    "    layer.set_weights((weights_group['kernel:0'], weights_group['bias:0']))"
   ]
  },
  {
   "cell_type": "markdown",
   "id": "2081cd79",
   "metadata": {},
   "source": [
    "### Look at the data"
   ]
  },
  {
   "cell_type": "code",
   "execution_count": 3,
   "id": "243dc7b1",
   "metadata": {},
   "outputs": [
    {
     "data": {
      "text/plain": [
       "(4511092, 19, 3)"
      ]
     },
     "execution_count": 3,
     "metadata": {},
     "output_type": "execute_result"
    }
   ],
   "source": [
    "data_file['data'][\"Background_data\"][\"Test\"][\"DATA\"].shape"
   ]
  },
  {
   "cell_type": "code",
   "execution_count": 4,
   "id": "c931f3ce",
   "metadata": {},
   "outputs": [],
   "source": [
    "X = data_file['data'][\"Background_data\"][\"Test\"][\"DATA\"][:2048]\n",
    "scale_data = data_file['data']['Normalisation']['norm_scale'][:].flatten()\n",
    "offset_data =  data_file['data']['Normalisation']['norm_bias'][:].flatten()"
   ]
  },
  {
   "cell_type": "code",
   "execution_count": 14,
   "id": "cb5fc9e9",
   "metadata": {},
   "outputs": [
    {
     "data": {
      "text/plain": [
       "array([[ 36.,   0.,  72.],\n",
       "       [ 14.,   0.,  73.],\n",
       "       [  9.,   0.,  73.],\n",
       "       [  8.,   0.,  72.],\n",
       "       [  6.,   0.,  72.],\n",
       "       [ 12.,  -0., 286.],\n",
       "       [  6.,  -2., 285.],\n",
       "       [  6.,  -2., 282.],\n",
       "       [  6.,  -2., 286.],\n",
       "       [ 58.,   0.,  72.],\n",
       "       [ 44.,   0.,  72.],\n",
       "       [ 35.,   0.,  72.],\n",
       "       [ 28.,   0.,  72.],\n",
       "       [ 22.,   0.,  72.],\n",
       "       [ 21.,   0.,  72.],\n",
       "       [ 20.,   0.,  73.],\n",
       "       [ 18.,   0.,  73.],\n",
       "       [ 18.,   0.,  72.],\n",
       "       [ 17.,  -2.,  72.]])"
      ]
     },
     "execution_count": 14,
     "metadata": {},
     "output_type": "execute_result"
    }
   ],
   "source": [
    "offset_data.reshape(-1,3)"
   ]
  },
  {
   "cell_type": "code",
   "execution_count": 15,
   "id": "8c601e73",
   "metadata": {},
   "outputs": [
    {
     "data": {
      "text/plain": [
       "array([[ 16.,   1.,  64.],\n",
       "       [  8.,  32.,  64.],\n",
       "       [  2.,  32.,  64.],\n",
       "       [  2.,  32.,  64.],\n",
       "       [  1.,  32.,  64.],\n",
       "       [  8., 128., 256.],\n",
       "       [  2., 128., 256.],\n",
       "       [  2., 128., 256.],\n",
       "       [  2., 128., 256.],\n",
       "       [ 32.,  64.,  64.],\n",
       "       [ 16.,  64.,  64.],\n",
       "       [ 16.,  64.,  64.],\n",
       "       [ 16.,  64.,  64.],\n",
       "       [ 16.,  64.,  64.],\n",
       "       [ 16.,  64.,  64.],\n",
       "       [ 16.,  64.,  64.],\n",
       "       [ 16.,  64.,  64.],\n",
       "       [ 16.,  64.,  64.],\n",
       "       [  8.,  64.,  64.]])"
      ]
     },
     "execution_count": 15,
     "metadata": {},
     "output_type": "execute_result"
    }
   ],
   "source": [
    "scale_data.reshape(-1,3)"
   ]
  },
  {
   "cell_type": "code",
   "execution_count": 46,
   "id": "a0cc89dc",
   "metadata": {},
   "outputs": [
    {
     "data": {
      "text/plain": [
       "array([[-0.6875    ,  0.        ,  0.390625  ],\n",
       "       [-0.625     ,  0.34375   ,  0.328125  ],\n",
       "       [-1.        ,  1.71875   , -0.53125   ],\n",
       "       [-0.5       ,  0.21875   , -0.546875  ],\n",
       "       [-1.        ,  0.28125   ,  0.640625  ],\n",
       "       [-1.        ,  1.5234375 ,  0.05859375],\n",
       "       [-1.        ,  1.5546875 ,  0.0390625 ],\n",
       "       [-3.        ,  0.015625  , -1.1015625 ],\n",
       "       [-3.        ,  0.015625  , -1.1171875 ],\n",
       "       [-0.5625    , -0.171875  , -0.328125  ],\n",
       "       [-1.25      ,  0.203125  , -0.796875  ],\n",
       "       [-2.1875    ,  0.        , -1.125     ],\n",
       "       [-1.75      ,  0.        , -1.125     ],\n",
       "       [-1.375     ,  0.        , -1.125     ],\n",
       "       [-1.3125    ,  0.        , -1.125     ],\n",
       "       [-1.25      ,  0.        , -1.140625  ],\n",
       "       [-1.125     ,  0.        , -1.140625  ],\n",
       "       [-1.125     ,  0.        , -1.125     ],\n",
       "       [-2.125     ,  0.03125   , -1.125     ]])"
      ]
     },
     "execution_count": 46,
     "metadata": {},
     "output_type": "execute_result"
    }
   ],
   "source": [
    "X[204]"
   ]
  },
  {
   "cell_type": "code",
   "execution_count": 34,
   "id": "09394eb2",
   "metadata": {},
   "outputs": [
    {
     "data": {
      "text/plain": [
       "array([[ 1.21875 ,  0.8125  , -0.109375],\n",
       "       [-0.75    , -0.234375,  0.984375],\n",
       "       [-0.5     , -0.015625, -0.328125],\n",
       "       ...,\n",
       "       [-0.4375  ,  0.8125  , -0.140625],\n",
       "       [ 0.      , -1.40625 ,  0.734375],\n",
       "       [ 0.28125 ,  0.578125, -1.078125]])"
      ]
     },
     "execution_count": 34,
     "metadata": {},
     "output_type": "execute_result"
    }
   ],
   "source": [
    "# selected row\n",
    "X[:,9]"
   ]
  },
  {
   "cell_type": "code",
   "execution_count": null,
   "id": "d65cf91b",
   "metadata": {},
   "outputs": [
    {
     "data": {
      "text/plain": [
       "(57,)"
      ]
     },
     "execution_count": 35,
     "metadata": {},
     "output_type": "execute_result"
    }
   ],
   "source": []
  },
  {
   "cell_type": "code",
   "execution_count": null,
   "id": "f70bfc41",
   "metadata": {},
   "outputs": [
    {
     "data": {
      "text/plain": [
       "array([[  0.,   0.,   0.],\n",
       "       [  0.,   0.,   0.],\n",
       "       [  0.,   0.,   0.],\n",
       "       ...,\n",
       "       [  0.,   0.,   0.],\n",
       "       [ 21., 207., 308.],\n",
       "       [  0.,   0.,   0.]])"
      ]
     },
     "execution_count": 43,
     "metadata": {},
     "output_type": "execute_result"
    }
   ],
   "source": [
    "i = 8\n",
    "(X[:,i]*scale_data.reshape(-1,3)[i] + offset_data.reshape(-1,3)[i])"
   ]
  }
 ],
 "metadata": {
  "kernelspec": {
   "display_name": "venv3_9",
   "language": "python",
   "name": "python3"
  },
  "language_info": {
   "codemirror_mode": {
    "name": "ipython",
    "version": 3
   },
   "file_extension": ".py",
   "mimetype": "text/x-python",
   "name": "python",
   "nbconvert_exporter": "python",
   "pygments_lexer": "ipython3",
   "version": "3.9.21"
  }
 },
 "nbformat": 4,
 "nbformat_minor": 5
}
