{
 "cells": [
  {
   "cell_type": "markdown",
   "id": "5a3d0bbd",
   "metadata": {},
   "source": [
    "### Info\n",
    "Plotting comparisons"
   ]
  },
  {
   "cell_type": "code",
   "execution_count": 2,
   "id": "e32418c4",
   "metadata": {},
   "outputs": [],
   "source": [
    "import numpy as np\n",
    "import pandas as pd"
   ]
  },
  {
   "cell_type": "markdown",
   "id": "33bf5225",
   "metadata": {},
   "source": [
    "### Load data into a DataFrame"
   ]
  },
  {
   "cell_type": "code",
   "execution_count": 3,
   "id": "aa57d6c7",
   "metadata": {},
   "outputs": [],
   "source": [
    "min_ind = 1\n",
    "max_ind = 2\n",
    "\n",
    "model_names = ('hls','qkeras','qonnx_init','qonnx_mod')\n",
    "pred_all = []   # will be a list of arrays from each model\n",
    "\n",
    "for model_name in model_names:\n",
    "    pred_single = np.array([])\n",
    "    for file_index in range(min_ind, max_ind+1):\n",
    "        data = np.load('./pred_Test_corr/preds_'+model_name+str(file_index)+'.npy')\n",
    "        pred_single = np.append(pred_single,data)\n",
    "        #print(pred_single.shape)\n",
    "    pred_all.append(pred_single)\n",
    "\n",
    "pred_all = np.array(pred_all).T"
   ]
  },
  {
   "cell_type": "code",
   "execution_count": 4,
   "id": "beed4311",
   "metadata": {},
   "outputs": [
    {
     "data": {
      "text/plain": [
       "(4096, 4)"
      ]
     },
     "execution_count": 4,
     "metadata": {},
     "output_type": "execute_result"
    }
   ],
   "source": [
    "pred_all.shape"
   ]
  },
  {
   "cell_type": "code",
   "execution_count": 5,
   "id": "5dbe93e6",
   "metadata": {},
   "outputs": [
    {
     "data": {
      "text/html": [
       "<div>\n",
       "<style scoped>\n",
       "    .dataframe tbody tr th:only-of-type {\n",
       "        vertical-align: middle;\n",
       "    }\n",
       "\n",
       "    .dataframe tbody tr th {\n",
       "        vertical-align: top;\n",
       "    }\n",
       "\n",
       "    .dataframe thead th {\n",
       "        text-align: right;\n",
       "    }\n",
       "</style>\n",
       "<table border=\"1\" class=\"dataframe\">\n",
       "  <thead>\n",
       "    <tr style=\"text-align: right;\">\n",
       "      <th></th>\n",
       "      <th>hls</th>\n",
       "      <th>qkeras</th>\n",
       "      <th>qonnx_init</th>\n",
       "      <th>qonnx_mod</th>\n",
       "    </tr>\n",
       "  </thead>\n",
       "  <tbody>\n",
       "    <tr>\n",
       "      <th>0</th>\n",
       "      <td>2.375</td>\n",
       "      <td>2.750</td>\n",
       "      <td>2.750</td>\n",
       "      <td>2.750</td>\n",
       "    </tr>\n",
       "    <tr>\n",
       "      <th>1</th>\n",
       "      <td>0.625</td>\n",
       "      <td>0.875</td>\n",
       "      <td>0.875</td>\n",
       "      <td>0.875</td>\n",
       "    </tr>\n",
       "    <tr>\n",
       "      <th>2</th>\n",
       "      <td>1.500</td>\n",
       "      <td>1.750</td>\n",
       "      <td>1.750</td>\n",
       "      <td>1.750</td>\n",
       "    </tr>\n",
       "    <tr>\n",
       "      <th>3</th>\n",
       "      <td>0.750</td>\n",
       "      <td>1.000</td>\n",
       "      <td>1.000</td>\n",
       "      <td>1.000</td>\n",
       "    </tr>\n",
       "    <tr>\n",
       "      <th>4</th>\n",
       "      <td>29.500</td>\n",
       "      <td>28.875</td>\n",
       "      <td>28.875</td>\n",
       "      <td>28.875</td>\n",
       "    </tr>\n",
       "    <tr>\n",
       "      <th>...</th>\n",
       "      <td>...</td>\n",
       "      <td>...</td>\n",
       "      <td>...</td>\n",
       "      <td>...</td>\n",
       "    </tr>\n",
       "    <tr>\n",
       "      <th>4091</th>\n",
       "      <td>0.250</td>\n",
       "      <td>0.375</td>\n",
       "      <td>0.375</td>\n",
       "      <td>0.375</td>\n",
       "    </tr>\n",
       "    <tr>\n",
       "      <th>4092</th>\n",
       "      <td>1.875</td>\n",
       "      <td>1.875</td>\n",
       "      <td>1.875</td>\n",
       "      <td>1.750</td>\n",
       "    </tr>\n",
       "    <tr>\n",
       "      <th>4093</th>\n",
       "      <td>2.250</td>\n",
       "      <td>2.500</td>\n",
       "      <td>2.500</td>\n",
       "      <td>2.500</td>\n",
       "    </tr>\n",
       "    <tr>\n",
       "      <th>4094</th>\n",
       "      <td>2.250</td>\n",
       "      <td>2.375</td>\n",
       "      <td>2.375</td>\n",
       "      <td>2.375</td>\n",
       "    </tr>\n",
       "    <tr>\n",
       "      <th>4095</th>\n",
       "      <td>2.250</td>\n",
       "      <td>2.500</td>\n",
       "      <td>2.500</td>\n",
       "      <td>2.625</td>\n",
       "    </tr>\n",
       "  </tbody>\n",
       "</table>\n",
       "<p>4096 rows × 4 columns</p>\n",
       "</div>"
      ],
      "text/plain": [
       "         hls  qkeras  qonnx_init  qonnx_mod\n",
       "0      2.375   2.750       2.750      2.750\n",
       "1      0.625   0.875       0.875      0.875\n",
       "2      1.500   1.750       1.750      1.750\n",
       "3      0.750   1.000       1.000      1.000\n",
       "4     29.500  28.875      28.875     28.875\n",
       "...      ...     ...         ...        ...\n",
       "4091   0.250   0.375       0.375      0.375\n",
       "4092   1.875   1.875       1.875      1.750\n",
       "4093   2.250   2.500       2.500      2.500\n",
       "4094   2.250   2.375       2.375      2.375\n",
       "4095   2.250   2.500       2.500      2.625\n",
       "\n",
       "[4096 rows x 4 columns]"
      ]
     },
     "execution_count": 5,
     "metadata": {},
     "output_type": "execute_result"
    }
   ],
   "source": [
    "df = pd.DataFrame(pred_all, columns=model_names)\n",
    "df"
   ]
  },
  {
   "cell_type": "markdown",
   "id": "b819c0a2",
   "metadata": {},
   "source": [
    "### Compare predictions"
   ]
  },
  {
   "cell_type": "code",
   "execution_count": 6,
   "id": "27dd76d7",
   "metadata": {},
   "outputs": [
    {
     "data": {
      "text/plain": [
       "qxinit_qkeras\n",
       "0.0    4096\n",
       "Name: count, dtype: int64"
      ]
     },
     "execution_count": 6,
     "metadata": {},
     "output_type": "execute_result"
    }
   ],
   "source": [
    "df['qxinit_qkeras'] = np.abs(df['qonnx_init'] - df['qkeras'])\n",
    "df['qxinit_qkeras'].value_counts()"
   ]
  },
  {
   "cell_type": "markdown",
   "id": "a27fb166",
   "metadata": {},
   "source": [
    "modified vs unmodified qonnx with respect to hls"
   ]
  },
  {
   "cell_type": "code",
   "execution_count": 7,
   "id": "fa2637c0",
   "metadata": {},
   "outputs": [
    {
     "name": "stdout",
     "output_type": "stream",
     "text": [
      "qxinit_hls\n",
      "0.125    1667\n",
      "0.250    1478\n",
      "0.000     502\n",
      "0.375     397\n",
      "0.500      45\n",
      "0.625       3\n",
      "0.750       3\n",
      "1.375       1\n",
      "Name: count, dtype: int64\n",
      "qxmod_hls\n",
      "0.250    1553\n",
      "0.125    1213\n",
      "0.000     777\n",
      "0.375     357\n",
      "0.500     159\n",
      "0.625      29\n",
      "0.750       4\n",
      "2.000       1\n",
      "1.250       1\n",
      "1.000       1\n",
      "1.500       1\n",
      "Name: count, dtype: int64\n"
     ]
    }
   ],
   "source": [
    "df['qxinit_hls'] = np.abs(df['qonnx_init'] - df['hls'])\n",
    "df['qxmod_hls'] = np.abs(df['qonnx_mod'] - df['hls'])\n",
    "\n",
    "print(df['qxinit_hls'].value_counts())\n",
    "print(df['qxmod_hls'].value_counts())"
   ]
  },
  {
   "cell_type": "markdown",
   "id": "bfce0b79",
   "metadata": {},
   "source": [
    "### Create histograms"
   ]
  },
  {
   "cell_type": "code",
   "execution_count": 8,
   "id": "c09bfedb",
   "metadata": {},
   "outputs": [],
   "source": [
    "import matplotlib.pyplot as plt"
   ]
  },
  {
   "cell_type": "code",
   "execution_count": 9,
   "id": "12202031",
   "metadata": {},
   "outputs": [
    {
     "data": {
      "text/html": [
       "<div>\n",
       "<style scoped>\n",
       "    .dataframe tbody tr th:only-of-type {\n",
       "        vertical-align: middle;\n",
       "    }\n",
       "\n",
       "    .dataframe tbody tr th {\n",
       "        vertical-align: top;\n",
       "    }\n",
       "\n",
       "    .dataframe thead th {\n",
       "        text-align: right;\n",
       "    }\n",
       "</style>\n",
       "<table border=\"1\" class=\"dataframe\">\n",
       "  <thead>\n",
       "    <tr style=\"text-align: right;\">\n",
       "      <th></th>\n",
       "      <th>init</th>\n",
       "      <th>mod</th>\n",
       "    </tr>\n",
       "  </thead>\n",
       "  <tbody>\n",
       "    <tr>\n",
       "      <th>0.000</th>\n",
       "      <td>12.255859</td>\n",
       "      <td>18.969727</td>\n",
       "    </tr>\n",
       "    <tr>\n",
       "      <th>0.125</th>\n",
       "      <td>40.698242</td>\n",
       "      <td>29.614258</td>\n",
       "    </tr>\n",
       "    <tr>\n",
       "      <th>0.250</th>\n",
       "      <td>36.083984</td>\n",
       "      <td>37.915039</td>\n",
       "    </tr>\n",
       "    <tr>\n",
       "      <th>0.375</th>\n",
       "      <td>9.692383</td>\n",
       "      <td>8.715820</td>\n",
       "    </tr>\n",
       "    <tr>\n",
       "      <th>0.500</th>\n",
       "      <td>1.098633</td>\n",
       "      <td>3.881836</td>\n",
       "    </tr>\n",
       "    <tr>\n",
       "      <th>0.625</th>\n",
       "      <td>0.073242</td>\n",
       "      <td>0.708008</td>\n",
       "    </tr>\n",
       "    <tr>\n",
       "      <th>0.750</th>\n",
       "      <td>0.073242</td>\n",
       "      <td>0.097656</td>\n",
       "    </tr>\n",
       "    <tr>\n",
       "      <th>1.000</th>\n",
       "      <td>0.000000</td>\n",
       "      <td>0.024414</td>\n",
       "    </tr>\n",
       "    <tr>\n",
       "      <th>1.250</th>\n",
       "      <td>0.000000</td>\n",
       "      <td>0.024414</td>\n",
       "    </tr>\n",
       "    <tr>\n",
       "      <th>1.375</th>\n",
       "      <td>0.024414</td>\n",
       "      <td>0.000000</td>\n",
       "    </tr>\n",
       "    <tr>\n",
       "      <th>1.500</th>\n",
       "      <td>0.000000</td>\n",
       "      <td>0.024414</td>\n",
       "    </tr>\n",
       "    <tr>\n",
       "      <th>2.000</th>\n",
       "      <td>0.000000</td>\n",
       "      <td>0.024414</td>\n",
       "    </tr>\n",
       "  </tbody>\n",
       "</table>\n",
       "</div>"
      ],
      "text/plain": [
       "            init        mod\n",
       "0.000  12.255859  18.969727\n",
       "0.125  40.698242  29.614258\n",
       "0.250  36.083984  37.915039\n",
       "0.375   9.692383   8.715820\n",
       "0.500   1.098633   3.881836\n",
       "0.625   0.073242   0.708008\n",
       "0.750   0.073242   0.097656\n",
       "1.000   0.000000   0.024414\n",
       "1.250   0.000000   0.024414\n",
       "1.375   0.024414   0.000000\n",
       "1.500   0.000000   0.024414\n",
       "2.000   0.000000   0.024414"
      ]
     },
     "execution_count": 9,
     "metadata": {},
     "output_type": "execute_result"
    }
   ],
   "source": [
    "dfpl = pd.DataFrame([df['qxinit_hls'].value_counts(),df['qxmod_hls'].value_counts()])\n",
    "dfpl = dfpl.transpose()\n",
    "dfpl.columns = ['init','mod']\n",
    "dfpl = dfpl.fillna(0)\n",
    "dfpl /= dfpl['init'].sum()  # percentage\n",
    "dfpl *= 100\n",
    "dfpl = dfpl.sort_index()\n",
    "dfpl"
   ]
  },
  {
   "cell_type": "code",
   "execution_count": 10,
   "id": "8d4c5d77",
   "metadata": {},
   "outputs": [],
   "source": [
    "def categ(x):\n",
    "    if x==0.0 : return '0.0'\n",
    "    if x < 0.5 : return '0.0 - 0.5'\n",
    "    if x < 1.0 : return '0.5 - 1.0'\n",
    "    return '1.0 - 2.0'"
   ]
  },
  {
   "cell_type": "code",
   "execution_count": 11,
   "id": "30d496de",
   "metadata": {},
   "outputs": [
    {
     "data": {
      "text/html": [
       "<div>\n",
       "<style scoped>\n",
       "    .dataframe tbody tr th:only-of-type {\n",
       "        vertical-align: middle;\n",
       "    }\n",
       "\n",
       "    .dataframe tbody tr th {\n",
       "        vertical-align: top;\n",
       "    }\n",
       "\n",
       "    .dataframe thead th {\n",
       "        text-align: right;\n",
       "    }\n",
       "</style>\n",
       "<table border=\"1\" class=\"dataframe\">\n",
       "  <thead>\n",
       "    <tr style=\"text-align: right;\">\n",
       "      <th></th>\n",
       "      <th>init</th>\n",
       "      <th>mod</th>\n",
       "    </tr>\n",
       "    <tr>\n",
       "      <th>cat</th>\n",
       "      <th></th>\n",
       "      <th></th>\n",
       "    </tr>\n",
       "  </thead>\n",
       "  <tbody>\n",
       "    <tr>\n",
       "      <th>0.0</th>\n",
       "      <td>12.255859</td>\n",
       "      <td>18.969727</td>\n",
       "    </tr>\n",
       "    <tr>\n",
       "      <th>0.0 - 0.5</th>\n",
       "      <td>86.474609</td>\n",
       "      <td>76.245117</td>\n",
       "    </tr>\n",
       "    <tr>\n",
       "      <th>0.5 - 1.0</th>\n",
       "      <td>1.245117</td>\n",
       "      <td>4.687500</td>\n",
       "    </tr>\n",
       "    <tr>\n",
       "      <th>1.0 - 2.0</th>\n",
       "      <td>0.024414</td>\n",
       "      <td>0.097656</td>\n",
       "    </tr>\n",
       "  </tbody>\n",
       "</table>\n",
       "</div>"
      ],
      "text/plain": [
       "                init        mod\n",
       "cat                            \n",
       "0.0        12.255859  18.969727\n",
       "0.0 - 0.5  86.474609  76.245117\n",
       "0.5 - 1.0   1.245117   4.687500\n",
       "1.0 - 2.0   0.024414   0.097656"
      ]
     },
     "execution_count": 11,
     "metadata": {},
     "output_type": "execute_result"
    }
   ],
   "source": [
    "# Categorize differences (deviations from hls preds)\n",
    "dfpl['cat'] = dfpl.index.map(categ)\n",
    "\n",
    "catdf = dfpl.groupby('cat').sum()\n",
    "catdf"
   ]
  },
  {
   "cell_type": "code",
   "execution_count": 12,
   "id": "fc002888",
   "metadata": {},
   "outputs": [
    {
     "data": {
      "text/html": [
       "<div>\n",
       "<style scoped>\n",
       "    .dataframe tbody tr th:only-of-type {\n",
       "        vertical-align: middle;\n",
       "    }\n",
       "\n",
       "    .dataframe tbody tr th {\n",
       "        vertical-align: top;\n",
       "    }\n",
       "\n",
       "    .dataframe thead th {\n",
       "        text-align: right;\n",
       "    }\n",
       "</style>\n",
       "<table border=\"1\" class=\"dataframe\">\n",
       "  <thead>\n",
       "    <tr style=\"text-align: right;\">\n",
       "      <th></th>\n",
       "      <th>init</th>\n",
       "      <th>mod</th>\n",
       "    </tr>\n",
       "    <tr>\n",
       "      <th>cat</th>\n",
       "      <th></th>\n",
       "      <th></th>\n",
       "    </tr>\n",
       "  </thead>\n",
       "  <tbody>\n",
       "    <tr>\n",
       "      <th>0.0</th>\n",
       "      <td>12.255859</td>\n",
       "      <td>18.969727</td>\n",
       "    </tr>\n",
       "    <tr>\n",
       "      <th>0.0 - 0.5</th>\n",
       "      <td>86.474609</td>\n",
       "      <td>76.245117</td>\n",
       "    </tr>\n",
       "    <tr>\n",
       "      <th>0.5 - 1.0</th>\n",
       "      <td>1.245117</td>\n",
       "      <td>4.687500</td>\n",
       "    </tr>\n",
       "    <tr>\n",
       "      <th>1.0 - 2.0</th>\n",
       "      <td>0.024414</td>\n",
       "      <td>0.097656</td>\n",
       "    </tr>\n",
       "  </tbody>\n",
       "</table>\n",
       "</div>"
      ],
      "text/plain": [
       "                init        mod\n",
       "cat                            \n",
       "0.0        12.255859  18.969727\n",
       "0.0 - 0.5  86.474609  76.245117\n",
       "0.5 - 1.0   1.245117   4.687500\n",
       "1.0 - 2.0   0.024414   0.097656"
      ]
     },
     "execution_count": 12,
     "metadata": {},
     "output_type": "execute_result"
    }
   ],
   "source": [
    "#catdf = catdf.reindex(['0.0','0 - 1','1 - 5','5 - 10','10 - 15'])\n",
    "catdf"
   ]
  },
  {
   "cell_type": "code",
   "execution_count": 13,
   "id": "5f3bbee0",
   "metadata": {},
   "outputs": [
    {
     "data": {
      "text/plain": [
       "Text(0.5, 1.0, 'Background')"
      ]
     },
     "execution_count": 13,
     "metadata": {},
     "output_type": "execute_result"
    },
    {
     "data": {
      "image/png": "[encoded data removed]",
      "text/plain": [
       "<Figure size 640x480 with 1 Axes>"
      ]
     },
     "metadata": {},
     "output_type": "display_data"
    }
   ],
   "source": [
    "fig, ax = plt.subplots(layout='constrained')\n",
    "width = 0.4\n",
    "xticks = np.arange(catdf.shape[0])\n",
    "\n",
    "labels = [\"initial model\",\"modified model\"]\n",
    "\n",
    "for i in range(len(catdf.keys())):\n",
    "    b = ax.bar(xticks+(-1+i)*width, catdf.values[:,i], width, label=labels[i], align='edge')\n",
    "    ax.bar_label(b, fmt='{:.2f}')\n",
    "\n",
    "ax.legend(fontsize = 12)\n",
    "ax.set_xticks(xticks)\n",
    "ax.set_xticklabels(catdf.index.to_list(),fontdict={'size': 11})\n",
    "ax.xaxis.set_tick_params(length=0)\n",
    "ax.set_xlabel(\"Deviation from the HLS prediction (abs)\",{'size': 12})\n",
    "ax.set_ylim(0,100)\n",
    "ax.set_ylabel(\"Percentage of all predictions\",{'size': 12})\n",
    "ax.set_title(\"Background\",fontdict={'size': 16},pad=15)\n"
   ]
  },
  {
   "cell_type": "code",
   "execution_count": 14,
   "id": "126fa3a9",
   "metadata": {},
   "outputs": [],
   "source": [
    "fig.savefig('Bgd.pdf')"
   ]
  }
 ],
 "metadata": {
  "kernelspec": {
   "display_name": "venv3_9",
   "language": "python",
   "name": "python3"
  },
  "language_info": {
   "codemirror_mode": {
    "name": "ipython",
    "version": 3
   },
   "file_extension": ".py",
   "mimetype": "text/x-python",
   "name": "python",
   "nbconvert_exporter": "python",
   "pygments_lexer": "ipython3",
   "version": "3.9.21"
  }
 },
 "nbformat": 4,
 "nbformat_minor": 5
}
