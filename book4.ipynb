{
 "cells": [
  {
   "cell_type": "markdown",
   "id": "5a3d0bbd",
   "metadata": {},
   "source": [
    "### Info\n",
    "Plotting comparisons"
   ]
  },
  {
   "cell_type": "code",
   "execution_count": 1,
   "id": "e32418c4",
   "metadata": {},
   "outputs": [],
   "source": [
    "import numpy as np\n",
    "import pandas as pd"
   ]
  },
  {
   "cell_type": "markdown",
   "id": "33bf5225",
   "metadata": {},
   "source": [
    "### Load data into a DataFrame"
   ]
  },
  {
   "cell_type": "code",
   "execution_count": 2,
   "id": "aa57d6c7",
   "metadata": {},
   "outputs": [],
   "source": [
    "min_ind = 1\n",
    "max_ind = 1\n",
    "\n",
    "model_names = ('hls','qkeras','qonnx_init','qonnx_mod')\n",
    "pred_all = []   # will be a list of arrays from each model\n",
    "\n",
    "for model_name in model_names:\n",
    "    pred_single = np.array([])\n",
    "    for file_index in range(min_ind, max_ind+1):\n",
    "        data = np.load('./pred_Test_corr/preds_'+model_name+str(file_index)+'.npy')\n",
    "        pred_single = np.append(pred_single,data)\n",
    "        #print(pred_single.shape)\n",
    "    pred_all.append(pred_single)\n",
    "\n",
    "pred_all = np.array(pred_all).T"
   ]
  },
  {
   "cell_type": "code",
   "execution_count": 3,
   "id": "beed4311",
   "metadata": {},
   "outputs": [
    {
     "data": {
      "text/plain": [
       "(2048, 4)"
      ]
     },
     "execution_count": 3,
     "metadata": {},
     "output_type": "execute_result"
    }
   ],
   "source": [
    "pred_all.shape"
   ]
  },
  {
   "cell_type": "code",
   "execution_count": 4,
   "id": "5dbe93e6",
   "metadata": {},
   "outputs": [
    {
     "data": {
      "text/html": [
       "<div>\n",
       "<style scoped>\n",
       "    .dataframe tbody tr th:only-of-type {\n",
       "        vertical-align: middle;\n",
       "    }\n",
       "\n",
       "    .dataframe tbody tr th {\n",
       "        vertical-align: top;\n",
       "    }\n",
       "\n",
       "    .dataframe thead th {\n",
       "        text-align: right;\n",
       "    }\n",
       "</style>\n",
       "<table border=\"1\" class=\"dataframe\">\n",
       "  <thead>\n",
       "    <tr style=\"text-align: right;\">\n",
       "      <th></th>\n",
       "      <th>hls</th>\n",
       "      <th>qkeras</th>\n",
       "      <th>qonnx_init</th>\n",
       "      <th>qonnx_mod</th>\n",
       "    </tr>\n",
       "  </thead>\n",
       "  <tbody>\n",
       "    <tr>\n",
       "      <th>0</th>\n",
       "      <td>2.375</td>\n",
       "      <td>2.750</td>\n",
       "      <td>2.750</td>\n",
       "      <td>2.750</td>\n",
       "    </tr>\n",
       "    <tr>\n",
       "      <th>1</th>\n",
       "      <td>0.625</td>\n",
       "      <td>0.875</td>\n",
       "      <td>0.875</td>\n",
       "      <td>0.875</td>\n",
       "    </tr>\n",
       "    <tr>\n",
       "      <th>2</th>\n",
       "      <td>1.500</td>\n",
       "      <td>1.750</td>\n",
       "      <td>1.750</td>\n",
       "      <td>1.750</td>\n",
       "    </tr>\n",
       "    <tr>\n",
       "      <th>3</th>\n",
       "      <td>0.750</td>\n",
       "      <td>1.000</td>\n",
       "      <td>1.000</td>\n",
       "      <td>1.000</td>\n",
       "    </tr>\n",
       "    <tr>\n",
       "      <th>4</th>\n",
       "      <td>29.500</td>\n",
       "      <td>28.875</td>\n",
       "      <td>28.875</td>\n",
       "      <td>28.875</td>\n",
       "    </tr>\n",
       "    <tr>\n",
       "      <th>...</th>\n",
       "      <td>...</td>\n",
       "      <td>...</td>\n",
       "      <td>...</td>\n",
       "      <td>...</td>\n",
       "    </tr>\n",
       "    <tr>\n",
       "      <th>2043</th>\n",
       "      <td>10.750</td>\n",
       "      <td>11.000</td>\n",
       "      <td>11.000</td>\n",
       "      <td>11.000</td>\n",
       "    </tr>\n",
       "    <tr>\n",
       "      <th>2044</th>\n",
       "      <td>0.625</td>\n",
       "      <td>0.750</td>\n",
       "      <td>0.750</td>\n",
       "      <td>0.750</td>\n",
       "    </tr>\n",
       "    <tr>\n",
       "      <th>2045</th>\n",
       "      <td>1.375</td>\n",
       "      <td>1.500</td>\n",
       "      <td>1.500</td>\n",
       "      <td>1.500</td>\n",
       "    </tr>\n",
       "    <tr>\n",
       "      <th>2046</th>\n",
       "      <td>1.250</td>\n",
       "      <td>1.500</td>\n",
       "      <td>1.500</td>\n",
       "      <td>1.500</td>\n",
       "    </tr>\n",
       "    <tr>\n",
       "      <th>2047</th>\n",
       "      <td>1.875</td>\n",
       "      <td>1.875</td>\n",
       "      <td>1.875</td>\n",
       "      <td>1.875</td>\n",
       "    </tr>\n",
       "  </tbody>\n",
       "</table>\n",
       "<p>2048 rows × 4 columns</p>\n",
       "</div>"
      ],
      "text/plain": [
       "         hls  qkeras  qonnx_init  qonnx_mod\n",
       "0      2.375   2.750       2.750      2.750\n",
       "1      0.625   0.875       0.875      0.875\n",
       "2      1.500   1.750       1.750      1.750\n",
       "3      0.750   1.000       1.000      1.000\n",
       "4     29.500  28.875      28.875     28.875\n",
       "...      ...     ...         ...        ...\n",
       "2043  10.750  11.000      11.000     11.000\n",
       "2044   0.625   0.750       0.750      0.750\n",
       "2045   1.375   1.500       1.500      1.500\n",
       "2046   1.250   1.500       1.500      1.500\n",
       "2047   1.875   1.875       1.875      1.875\n",
       "\n",
       "[2048 rows x 4 columns]"
      ]
     },
     "execution_count": 4,
     "metadata": {},
     "output_type": "execute_result"
    }
   ],
   "source": [
    "df = pd.DataFrame(pred_all, columns=model_names)\n",
    "df"
   ]
  },
  {
   "cell_type": "markdown",
   "id": "b819c0a2",
   "metadata": {},
   "source": [
    "### Compare predictions"
   ]
  },
  {
   "cell_type": "code",
   "execution_count": 5,
   "id": "27dd76d7",
   "metadata": {},
   "outputs": [
    {
     "data": {
      "text/plain": [
       "qxinit_qkeras\n",
       "0.0    2048\n",
       "Name: count, dtype: int64"
      ]
     },
     "execution_count": 5,
     "metadata": {},
     "output_type": "execute_result"
    }
   ],
   "source": [
    "df['qxinit_qkeras'] = df['qonnx_init'] - df['qkeras']\n",
    "df['qxinit_qkeras'].value_counts()"
   ]
  },
  {
   "cell_type": "markdown",
   "id": "a27fb166",
   "metadata": {},
   "source": [
    "modified vs unmodified qonnx with respect to hls"
   ]
  },
  {
   "cell_type": "code",
   "execution_count": 6,
   "id": "fa2637c0",
   "metadata": {},
   "outputs": [
    {
     "name": "stdout",
     "output_type": "stream",
     "text": [
      "qxinit_hls\n",
      " 0.125    772\n",
      " 0.250    726\n",
      " 0.000    259\n",
      " 0.375    196\n",
      "-0.125     48\n",
      " 0.500     24\n",
      "-0.250     16\n",
      "-0.375      2\n",
      "-0.750      2\n",
      "-0.625      1\n",
      "-1.375      1\n",
      "-0.500      1\n",
      "Name: count, dtype: int64\n",
      "qxmod_hls\n",
      " 0.250    738\n",
      " 0.125    545\n",
      " 0.000    388\n",
      " 0.375    180\n",
      " 0.500     80\n",
      "-0.125     55\n",
      "-0.250     27\n",
      " 0.625     15\n",
      "-0.375     10\n",
      "-0.500      4\n",
      "-0.625      3\n",
      " 0.750      2\n",
      "-2.000      1\n",
      "Name: count, dtype: int64\n"
     ]
    }
   ],
   "source": [
    "df['qxinit_hls'] = df['qonnx_init'] - df['hls']\n",
    "df['qxmod_hls'] = df['qonnx_mod'] - df['hls']\n",
    "\n",
    "print(df['qxinit_hls'].value_counts())\n",
    "print(df['qxmod_hls'].value_counts())"
   ]
  },
  {
   "cell_type": "markdown",
   "id": "bfce0b79",
   "metadata": {},
   "source": [
    "### Create histograms"
   ]
  },
  {
   "cell_type": "code",
   "execution_count": 7,
   "id": "c09bfedb",
   "metadata": {},
   "outputs": [],
   "source": [
    "import matplotlib.pyplot as plt"
   ]
  },
  {
   "cell_type": "code",
   "execution_count": 8,
   "id": "12202031",
   "metadata": {},
   "outputs": [
    {
     "data": {
      "text/html": [
       "<div>\n",
       "<style scoped>\n",
       "    .dataframe tbody tr th:only-of-type {\n",
       "        vertical-align: middle;\n",
       "    }\n",
       "\n",
       "    .dataframe tbody tr th {\n",
       "        vertical-align: top;\n",
       "    }\n",
       "\n",
       "    .dataframe thead th {\n",
       "        text-align: right;\n",
       "    }\n",
       "</style>\n",
       "<table border=\"1\" class=\"dataframe\">\n",
       "  <thead>\n",
       "    <tr style=\"text-align: right;\">\n",
       "      <th></th>\n",
       "      <th>init</th>\n",
       "      <th>mod</th>\n",
       "    </tr>\n",
       "  </thead>\n",
       "  <tbody>\n",
       "    <tr>\n",
       "      <th>-2.000</th>\n",
       "      <td>0.000000</td>\n",
       "      <td>0.048828</td>\n",
       "    </tr>\n",
       "    <tr>\n",
       "      <th>-1.375</th>\n",
       "      <td>0.048828</td>\n",
       "      <td>0.000000</td>\n",
       "    </tr>\n",
       "    <tr>\n",
       "      <th>-0.750</th>\n",
       "      <td>0.097656</td>\n",
       "      <td>0.000000</td>\n",
       "    </tr>\n",
       "    <tr>\n",
       "      <th>-0.625</th>\n",
       "      <td>0.048828</td>\n",
       "      <td>0.146484</td>\n",
       "    </tr>\n",
       "    <tr>\n",
       "      <th>-0.500</th>\n",
       "      <td>0.048828</td>\n",
       "      <td>0.195312</td>\n",
       "    </tr>\n",
       "    <tr>\n",
       "      <th>-0.375</th>\n",
       "      <td>0.097656</td>\n",
       "      <td>0.488281</td>\n",
       "    </tr>\n",
       "    <tr>\n",
       "      <th>-0.250</th>\n",
       "      <td>0.781250</td>\n",
       "      <td>1.318359</td>\n",
       "    </tr>\n",
       "    <tr>\n",
       "      <th>-0.125</th>\n",
       "      <td>2.343750</td>\n",
       "      <td>2.685547</td>\n",
       "    </tr>\n",
       "    <tr>\n",
       "      <th>0.000</th>\n",
       "      <td>12.646484</td>\n",
       "      <td>18.945312</td>\n",
       "    </tr>\n",
       "    <tr>\n",
       "      <th>0.125</th>\n",
       "      <td>37.695312</td>\n",
       "      <td>26.611328</td>\n",
       "    </tr>\n",
       "    <tr>\n",
       "      <th>0.250</th>\n",
       "      <td>35.449219</td>\n",
       "      <td>36.035156</td>\n",
       "    </tr>\n",
       "    <tr>\n",
       "      <th>0.375</th>\n",
       "      <td>9.570312</td>\n",
       "      <td>8.789062</td>\n",
       "    </tr>\n",
       "    <tr>\n",
       "      <th>0.500</th>\n",
       "      <td>1.171875</td>\n",
       "      <td>3.906250</td>\n",
       "    </tr>\n",
       "    <tr>\n",
       "      <th>0.625</th>\n",
       "      <td>0.000000</td>\n",
       "      <td>0.732422</td>\n",
       "    </tr>\n",
       "    <tr>\n",
       "      <th>0.750</th>\n",
       "      <td>0.000000</td>\n",
       "      <td>0.097656</td>\n",
       "    </tr>\n",
       "  </tbody>\n",
       "</table>\n",
       "</div>"
      ],
      "text/plain": [
       "             init        mod\n",
       "-2.000   0.000000   0.048828\n",
       "-1.375   0.048828   0.000000\n",
       "-0.750   0.097656   0.000000\n",
       "-0.625   0.048828   0.146484\n",
       "-0.500   0.048828   0.195312\n",
       "-0.375   0.097656   0.488281\n",
       "-0.250   0.781250   1.318359\n",
       "-0.125   2.343750   2.685547\n",
       " 0.000  12.646484  18.945312\n",
       " 0.125  37.695312  26.611328\n",
       " 0.250  35.449219  36.035156\n",
       " 0.375   9.570312   8.789062\n",
       " 0.500   1.171875   3.906250\n",
       " 0.625   0.000000   0.732422\n",
       " 0.750   0.000000   0.097656"
      ]
     },
     "execution_count": 8,
     "metadata": {},
     "output_type": "execute_result"
    }
   ],
   "source": [
    "dfpl = pd.DataFrame([df['qxinit_hls'].value_counts(),df['qxmod_hls'].value_counts()])\n",
    "dfpl = dfpl.transpose()\n",
    "dfpl.columns = ['init','mod']\n",
    "dfpl = dfpl.fillna(0)\n",
    "dfpl /= dfpl['init'].sum()\n",
    "dfpl *= 100\n",
    "dfpl = dfpl.sort_index()\n",
    "dfpl"
   ]
  },
  {
   "cell_type": "code",
   "execution_count": 9,
   "id": "373ebf9a",
   "metadata": {},
   "outputs": [
    {
     "data": {
      "text/plain": [
       "'init'"
      ]
     },
     "execution_count": 9,
     "metadata": {},
     "output_type": "execute_result"
    }
   ],
   "source": [
    "diffs = dfpl.index.to_numpy()[1:]\n",
    "dfpl.keys()[0]"
   ]
  },
  {
   "cell_type": "code",
   "execution_count": 15,
   "id": "ebfa8483",
   "metadata": {},
   "outputs": [
    {
     "data": {
      "text/plain": [
       "<Axes: >"
      ]
     },
     "execution_count": 15,
     "metadata": {},
     "output_type": "execute_result"
    },
    {
     "data": {
      "image/png": "[encoded data removed]",
      "text/plain": [
       "<Figure size 640x480 with 1 Axes>"
      ]
     },
     "metadata": {},
     "output_type": "display_data"
    }
   ],
   "source": [
    "dfpl.plot.bar()"
   ]
  },
  {
   "cell_type": "code",
   "execution_count": 10,
   "id": "aa3b6c3e",
   "metadata": {},
   "outputs": [
    {
     "data": {
      "text/plain": [
       "[<matplotlib.axis.XTick at 0x7f4be4cbb490>,\n",
       " <matplotlib.axis.XTick at 0x7f4be4cbb460>,\n",
       " <matplotlib.axis.XTick at 0x7f4be4d80be0>,\n",
       " <matplotlib.axis.XTick at 0x7f4be2c66520>,\n",
       " <matplotlib.axis.XTick at 0x7f4be2c66d00>,\n",
       " <matplotlib.axis.XTick at 0x7f4be2c717f0>,\n",
       " <matplotlib.axis.XTick at 0x7f4be2c772e0>,\n",
       " <matplotlib.axis.XTick at 0x7f4be2c77d90>,\n",
       " <matplotlib.axis.XTick at 0x7f4be2c779d0>,\n",
       " <matplotlib.axis.XTick at 0x7f4be2bfc7f0>,\n",
       " <matplotlib.axis.XTick at 0x7f4be2c042e0>,\n",
       " <matplotlib.axis.XTick at 0x7f4be2c04d90>,\n",
       " <matplotlib.axis.XTick at 0x7f4be2c07880>,\n",
       " <matplotlib.axis.XTick at 0x7f4be2bfca30>]"
      ]
     },
     "execution_count": 10,
     "metadata": {},
     "output_type": "execute_result"
    },
    {
     "data": {
      "image/png": "[encoded data removed]",
      "text/plain": [
       "<Figure size 640x480 with 1 Axes>"
      ]
     },
     "metadata": {},
     "output_type": "display_data"
    }
   ],
   "source": [
    "fig, ax = plt.subplots(layout='constrained')\n",
    "width = 50.\n",
    "\n",
    "for i in range(len(dfpl.keys())):\n",
    "    b = ax.bar(diffs+(-1+i)*width, dfpl.values[:,i][1:], width, label=dfpl.keys()[i], align='edge')\n",
    "    ax.bar_label(b, fmt='{:.2f}')\n",
    "\n",
    "ax.legend()\n",
    "ax.set_xticks(diffs)"
   ]
  },
  {
   "cell_type": "code",
   "execution_count": 11,
   "id": "f9d4da9c",
   "metadata": {},
   "outputs": [],
   "source": [
    "# Categorize differences (deviations from hls preds)\n",
    "dfpl['cat'] = dfpl.index.map(lambda x: \n",
    "    '0.0' if x==0.0 else(\n",
    "        '0.125' if x==0.125 else(\n",
    "            '0.125-250' if x<250.0\n",
    "            else 'more')\n",
    "    )\n",
    ")\n",
    "\n",
    "catdf = dfpl.groupby('cat').sum()"
   ]
  },
  {
   "cell_type": "code",
   "execution_count": 12,
   "id": "9a3735cf",
   "metadata": {},
   "outputs": [
    {
     "data": {
      "image/png": "[encoded data removed]",
      "text/plain": [
       "<Figure size 640x480 with 1 Axes>"
      ]
     },
     "metadata": {},
     "output_type": "display_data"
    }
   ],
   "source": [
    "p = catdf.plot.bar()"
   ]
  },
  {
   "cell_type": "code",
   "execution_count": 13,
   "id": "2d388f54",
   "metadata": {},
   "outputs": [
    {
     "data": {
      "text/plain": [
       "array([18.9453125 , 26.61132812, 54.44335938])"
      ]
     },
     "execution_count": 13,
     "metadata": {},
     "output_type": "execute_result"
    }
   ],
   "source": [
    "catdf.values[:,1]"
   ]
  },
  {
   "cell_type": "code",
   "execution_count": 14,
   "id": "6c6c8037",
   "metadata": {},
   "outputs": [
    {
     "data": {
      "image/png": "[encoded data removed]",
      "text/plain": [
       "<Figure size 640x480 with 1 Axes>"
      ]
     },
     "metadata": {},
     "output_type": "display_data"
    }
   ],
   "source": [
    "fig, ax = plt.subplots(layout='constrained')\n",
    "width = 0.25\n",
    "xticks = np.arange(catdf.shape[0])\n",
    "\n",
    "for i in range(len(catdf.keys())):\n",
    "    b = ax.bar(xticks+(-1+i)*width, catdf.values[:,i], width, label=catdf.keys()[i], align='edge')\n",
    "    ax.bar_label(b, fmt='{:.2f}')\n",
    "\n",
    "ax.legend()\n",
    "ax.set_xticks(xticks)\n",
    "ax.set_xticklabels(catdf.index.to_list())\n",
    "ax.set_yscale('log')\n",
    "ax.xaxis.set_tick_params(length=0)"
   ]
  }
 ],
 "metadata": {
  "kernelspec": {
   "display_name": "venv3_9",
   "language": "python",
   "name": "python3"
  },
  "language_info": {
   "codemirror_mode": {
    "name": "ipython",
    "version": 3
   },
   "file_extension": ".py",
   "mimetype": "text/x-python",
   "name": "python",
   "nbconvert_exporter": "python",
   "pygments_lexer": "ipython3",
   "version": "3.9.21"
  }
 },
 "nbformat": 4,
 "nbformat_minor": 5
}
