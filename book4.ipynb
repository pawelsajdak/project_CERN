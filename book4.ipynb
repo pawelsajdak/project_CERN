{
 "cells": [
  {
   "cell_type": "markdown",
   "id": "5a3d0bbd",
   "metadata": {},
   "source": [
    "### Info\n",
    "Plotting comparisons"
   ]
  },
  {
   "cell_type": "code",
   "execution_count": 1,
   "id": "e32418c4",
   "metadata": {},
   "outputs": [],
   "source": [
    "import numpy as np\n",
    "import pandas as pd"
   ]
  },
  {
   "cell_type": "code",
   "execution_count": 8,
   "id": "d08cd79a",
   "metadata": {},
   "outputs": [],
   "source": [
    "pred_hls = np.load(\"preds_hls.npy\")\n",
    "pred_qonnx = np.load(\"preds_qonnx.npy\")\n",
    "pred_qonnx_init = np.load(\"preds_qonnx_init.npy\")\n",
    "pred_qkeras = np.load(\"preds_qkeras.npy\")"
   ]
  },
  {
   "cell_type": "code",
   "execution_count": 9,
   "id": "6287b1c2",
   "metadata": {},
   "outputs": [],
   "source": [
    "frame = pd.DataFrame(zip(pred_hls, pred_qonnx, pred_qonnx_init, pred_qkeras), columns = ['HLS','QONNX mod','QONNX init','qKeras'])"
   ]
  },
  {
   "cell_type": "code",
   "execution_count": 11,
   "id": "af86de36",
   "metadata": {},
   "outputs": [],
   "source": [
    "frame['qKeras-QONNX init'] = frame['qKeras'] - frame['QONNX init']\n",
    "frame['qKeras-QONNX mod'] = frame['qKeras'] - frame['QONNX mod']"
   ]
  },
  {
   "cell_type": "code",
   "execution_count": 12,
   "id": "c0e4af75",
   "metadata": {},
   "outputs": [
    {
     "data": {
      "text/html": [
       "<div>\n",
       "<style scoped>\n",
       "    .dataframe tbody tr th:only-of-type {\n",
       "        vertical-align: middle;\n",
       "    }\n",
       "\n",
       "    .dataframe tbody tr th {\n",
       "        vertical-align: top;\n",
       "    }\n",
       "\n",
       "    .dataframe thead th {\n",
       "        text-align: right;\n",
       "    }\n",
       "</style>\n",
       "<table border=\"1\" class=\"dataframe\">\n",
       "  <thead>\n",
       "    <tr style=\"text-align: right;\">\n",
       "      <th></th>\n",
       "      <th>HLS</th>\n",
       "      <th>QONNX mod</th>\n",
       "      <th>QONNX init</th>\n",
       "      <th>qKeras</th>\n",
       "      <th>qKeras-QONNX init</th>\n",
       "      <th>qKeras-QONNX mod</th>\n",
       "    </tr>\n",
       "  </thead>\n",
       "  <tbody>\n",
       "    <tr>\n",
       "      <th>0</th>\n",
       "      <td>5.250</td>\n",
       "      <td>5.375</td>\n",
       "      <td>5.375</td>\n",
       "      <td>5.375</td>\n",
       "      <td>0.0</td>\n",
       "      <td>0.0</td>\n",
       "    </tr>\n",
       "    <tr>\n",
       "      <th>1</th>\n",
       "      <td>1.375</td>\n",
       "      <td>1.375</td>\n",
       "      <td>1.375</td>\n",
       "      <td>1.375</td>\n",
       "      <td>0.0</td>\n",
       "      <td>0.0</td>\n",
       "    </tr>\n",
       "    <tr>\n",
       "      <th>2</th>\n",
       "      <td>1.750</td>\n",
       "      <td>1.750</td>\n",
       "      <td>1.750</td>\n",
       "      <td>1.750</td>\n",
       "      <td>0.0</td>\n",
       "      <td>0.0</td>\n",
       "    </tr>\n",
       "    <tr>\n",
       "      <th>3</th>\n",
       "      <td>0.750</td>\n",
       "      <td>0.750</td>\n",
       "      <td>0.750</td>\n",
       "      <td>0.750</td>\n",
       "      <td>0.0</td>\n",
       "      <td>0.0</td>\n",
       "    </tr>\n",
       "    <tr>\n",
       "      <th>4</th>\n",
       "      <td>4.500</td>\n",
       "      <td>4.500</td>\n",
       "      <td>4.500</td>\n",
       "      <td>4.500</td>\n",
       "      <td>0.0</td>\n",
       "      <td>0.0</td>\n",
       "    </tr>\n",
       "    <tr>\n",
       "      <th>...</th>\n",
       "      <td>...</td>\n",
       "      <td>...</td>\n",
       "      <td>...</td>\n",
       "      <td>...</td>\n",
       "      <td>...</td>\n",
       "      <td>...</td>\n",
       "    </tr>\n",
       "    <tr>\n",
       "      <th>2043</th>\n",
       "      <td>1.375</td>\n",
       "      <td>1.375</td>\n",
       "      <td>1.375</td>\n",
       "      <td>1.375</td>\n",
       "      <td>0.0</td>\n",
       "      <td>0.0</td>\n",
       "    </tr>\n",
       "    <tr>\n",
       "      <th>2044</th>\n",
       "      <td>1.375</td>\n",
       "      <td>1.375</td>\n",
       "      <td>1.375</td>\n",
       "      <td>1.375</td>\n",
       "      <td>0.0</td>\n",
       "      <td>0.0</td>\n",
       "    </tr>\n",
       "    <tr>\n",
       "      <th>2045</th>\n",
       "      <td>2.250</td>\n",
       "      <td>2.250</td>\n",
       "      <td>2.250</td>\n",
       "      <td>2.250</td>\n",
       "      <td>0.0</td>\n",
       "      <td>0.0</td>\n",
       "    </tr>\n",
       "    <tr>\n",
       "      <th>2046</th>\n",
       "      <td>1.125</td>\n",
       "      <td>1.250</td>\n",
       "      <td>1.250</td>\n",
       "      <td>1.250</td>\n",
       "      <td>0.0</td>\n",
       "      <td>0.0</td>\n",
       "    </tr>\n",
       "    <tr>\n",
       "      <th>2047</th>\n",
       "      <td>1.375</td>\n",
       "      <td>1.375</td>\n",
       "      <td>1.375</td>\n",
       "      <td>1.375</td>\n",
       "      <td>0.0</td>\n",
       "      <td>0.0</td>\n",
       "    </tr>\n",
       "  </tbody>\n",
       "</table>\n",
       "<p>2048 rows × 6 columns</p>\n",
       "</div>"
      ],
      "text/plain": [
       "        HLS  QONNX mod  QONNX init  qKeras  qKeras-QONNX init  \\\n",
       "0     5.250      5.375       5.375   5.375                0.0   \n",
       "1     1.375      1.375       1.375   1.375                0.0   \n",
       "2     1.750      1.750       1.750   1.750                0.0   \n",
       "3     0.750      0.750       0.750   0.750                0.0   \n",
       "4     4.500      4.500       4.500   4.500                0.0   \n",
       "...     ...        ...         ...     ...                ...   \n",
       "2043  1.375      1.375       1.375   1.375                0.0   \n",
       "2044  1.375      1.375       1.375   1.375                0.0   \n",
       "2045  2.250      2.250       2.250   2.250                0.0   \n",
       "2046  1.125      1.250       1.250   1.250                0.0   \n",
       "2047  1.375      1.375       1.375   1.375                0.0   \n",
       "\n",
       "      qKeras-QONNX mod  \n",
       "0                  0.0  \n",
       "1                  0.0  \n",
       "2                  0.0  \n",
       "3                  0.0  \n",
       "4                  0.0  \n",
       "...                ...  \n",
       "2043               0.0  \n",
       "2044               0.0  \n",
       "2045               0.0  \n",
       "2046               0.0  \n",
       "2047               0.0  \n",
       "\n",
       "[2048 rows x 6 columns]"
      ]
     },
     "execution_count": 12,
     "metadata": {},
     "output_type": "execute_result"
    }
   ],
   "source": [
    "frame"
   ]
  },
  {
   "cell_type": "code",
   "execution_count": 13,
   "id": "93172023",
   "metadata": {},
   "outputs": [
    {
     "name": "stdout",
     "output_type": "stream",
     "text": [
      "qKeras-QONNX init\n",
      "0.0    2048\n",
      "Name: count, dtype: int64 qKeras-QONNX mod\n",
      " 0.000     2038\n",
      "-0.125        5\n",
      " 0.125        3\n",
      " 29.250       1\n",
      " 36.000       1\n",
      "Name: count, dtype: int64\n"
     ]
    }
   ],
   "source": [
    "print(frame['qKeras-QONNX init'].value_counts(), frame['qKeras-QONNX mod'].value_counts())"
   ]
  },
  {
   "cell_type": "code",
   "execution_count": 14,
   "id": "ec5dd90a",
   "metadata": {},
   "outputs": [],
   "source": [
    "frame['diff_mod'] = frame['QONNX mod'] - frame['HLS']\n",
    "frame['diff_init'] = frame['QONNX init'] - frame['HLS']"
   ]
  },
  {
   "cell_type": "code",
   "execution_count": null,
   "id": "a6c9b539",
   "metadata": {},
   "outputs": [],
   "source": [
    "frame['diff_diff'] = frame['diff_mod'] - frame['diff_init']"
   ]
  },
  {
   "cell_type": "code",
   "execution_count": 15,
   "id": "01be6d7a",
   "metadata": {},
   "outputs": [
    {
     "data": {
      "text/plain": [
       "diff_mod\n",
       "0.000      2014\n",
       "0.125        32\n",
       "226.750       1\n",
       "220.000       1\n",
       "Name: count, dtype: int64"
      ]
     },
     "execution_count": 15,
     "metadata": {},
     "output_type": "execute_result"
    }
   ],
   "source": [
    "frame['diff_mod'].value_counts()"
   ]
  },
  {
   "cell_type": "code",
   "execution_count": 16,
   "id": "bb9aa859",
   "metadata": {},
   "outputs": [
    {
     "data": {
      "text/plain": [
       "diff_init\n",
       "0.000      2016\n",
       "0.125        30\n",
       "256.000       2\n",
       "Name: count, dtype: int64"
      ]
     },
     "execution_count": 16,
     "metadata": {},
     "output_type": "execute_result"
    }
   ],
   "source": [
    "frame['diff_init'].value_counts()"
   ]
  }
 ],
 "metadata": {
  "kernelspec": {
   "display_name": "venv3_9",
   "language": "python",
   "name": "python3"
  },
  "language_info": {
   "codemirror_mode": {
    "name": "ipython",
    "version": 3
   },
   "file_extension": ".py",
   "mimetype": "text/x-python",
   "name": "python",
   "nbconvert_exporter": "python",
   "pygments_lexer": "ipython3",
   "version": "3.9.21"
  }
 },
 "nbformat": 4,
 "nbformat_minor": 5
}
