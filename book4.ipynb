{
 "cells": [
  {
   "cell_type": "markdown",
   "id": "5a3d0bbd",
   "metadata": {},
   "source": [
    "### Info\n",
    "Plotting comparisons"
   ]
  },
  {
   "cell_type": "code",
   "execution_count": 1,
   "id": "e32418c4",
   "metadata": {},
   "outputs": [],
   "source": [
    "import numpy as np\n",
    "import pandas as pd"
   ]
  },
  {
   "cell_type": "markdown",
   "id": "33bf5225",
   "metadata": {},
   "source": [
    "### Load data into a DataFrame"
   ]
  },
  {
   "cell_type": "code",
   "execution_count": 41,
   "id": "aa57d6c7",
   "metadata": {},
   "outputs": [],
   "source": [
    "min_ind = 1\n",
    "max_ind = 5\n",
    "\n",
    "model_names = ('hls','qkeras','qonnx_init','qonnx_mod')\n",
    "pred_all = []   # will be a list of arrays from each model\n",
    "\n",
    "for model_name in model_names:\n",
    "    pred_single = np.array([])\n",
    "    for file_index in range(min_ind, max_ind+1):\n",
    "        data = np.load('./pred_Test/preds_'+model_name+str(file_index)+'.npy')\n",
    "        pred_single = np.append(pred_single,data)\n",
    "        #print(pred_single.shape)\n",
    "    pred_all.append(pred_single)\n",
    "\n",
    "pred_all = np.array(pred_all).T"
   ]
  },
  {
   "cell_type": "code",
   "execution_count": 42,
   "id": "beed4311",
   "metadata": {},
   "outputs": [
    {
     "data": {
      "text/plain": [
       "(10240, 4)"
      ]
     },
     "execution_count": 42,
     "metadata": {},
     "output_type": "execute_result"
    }
   ],
   "source": [
    "pred_all.shape"
   ]
  },
  {
   "cell_type": "code",
   "execution_count": null,
   "id": "5dbe93e6",
   "metadata": {},
   "outputs": [
    {
     "data": {
      "text/html": [
       "<div>\n",
       "<style scoped>\n",
       "    .dataframe tbody tr th:only-of-type {\n",
       "        vertical-align: middle;\n",
       "    }\n",
       "\n",
       "    .dataframe tbody tr th {\n",
       "        vertical-align: top;\n",
       "    }\n",
       "\n",
       "    .dataframe thead th {\n",
       "        text-align: right;\n",
       "    }\n",
       "</style>\n",
       "<table border=\"1\" class=\"dataframe\">\n",
       "  <thead>\n",
       "    <tr style=\"text-align: right;\">\n",
       "      <th></th>\n",
       "      <th>hls</th>\n",
       "      <th>qkeras</th>\n",
       "      <th>qonnx_init</th>\n",
       "      <th>qonnx_mod</th>\n",
       "    </tr>\n",
       "  </thead>\n",
       "  <tbody>\n",
       "    <tr>\n",
       "      <th>0</th>\n",
       "      <td>0.750</td>\n",
       "      <td>0.750</td>\n",
       "      <td>0.750</td>\n",
       "      <td>0.750</td>\n",
       "    </tr>\n",
       "    <tr>\n",
       "      <th>1</th>\n",
       "      <td>1.250</td>\n",
       "      <td>1.250</td>\n",
       "      <td>1.250</td>\n",
       "      <td>1.250</td>\n",
       "    </tr>\n",
       "    <tr>\n",
       "      <th>2</th>\n",
       "      <td>3.375</td>\n",
       "      <td>3.375</td>\n",
       "      <td>3.375</td>\n",
       "      <td>3.375</td>\n",
       "    </tr>\n",
       "    <tr>\n",
       "      <th>3</th>\n",
       "      <td>1.875</td>\n",
       "      <td>1.875</td>\n",
       "      <td>1.875</td>\n",
       "      <td>1.875</td>\n",
       "    </tr>\n",
       "    <tr>\n",
       "      <th>4</th>\n",
       "      <td>2.000</td>\n",
       "      <td>2.000</td>\n",
       "      <td>2.000</td>\n",
       "      <td>2.000</td>\n",
       "    </tr>\n",
       "    <tr>\n",
       "      <th>...</th>\n",
       "      <td>...</td>\n",
       "      <td>...</td>\n",
       "      <td>...</td>\n",
       "      <td>...</td>\n",
       "    </tr>\n",
       "    <tr>\n",
       "      <th>10235</th>\n",
       "      <td>1.375</td>\n",
       "      <td>1.375</td>\n",
       "      <td>1.375</td>\n",
       "      <td>1.375</td>\n",
       "    </tr>\n",
       "    <tr>\n",
       "      <th>10236</th>\n",
       "      <td>2.125</td>\n",
       "      <td>2.125</td>\n",
       "      <td>2.125</td>\n",
       "      <td>2.125</td>\n",
       "    </tr>\n",
       "    <tr>\n",
       "      <th>10237</th>\n",
       "      <td>0.875</td>\n",
       "      <td>0.875</td>\n",
       "      <td>0.875</td>\n",
       "      <td>0.875</td>\n",
       "    </tr>\n",
       "    <tr>\n",
       "      <th>10238</th>\n",
       "      <td>0.750</td>\n",
       "      <td>0.750</td>\n",
       "      <td>0.750</td>\n",
       "      <td>0.750</td>\n",
       "    </tr>\n",
       "    <tr>\n",
       "      <th>10239</th>\n",
       "      <td>2.125</td>\n",
       "      <td>2.125</td>\n",
       "      <td>2.125</td>\n",
       "      <td>2.125</td>\n",
       "    </tr>\n",
       "  </tbody>\n",
       "</table>\n",
       "<p>10240 rows × 4 columns</p>\n",
       "</div>"
      ],
      "text/plain": [
       "         hls  qkeras  qonnx_init  qonnx_mod\n",
       "0      0.750   0.750       0.750      0.750\n",
       "1      1.250   1.250       1.250      1.250\n",
       "2      3.375   3.375       3.375      3.375\n",
       "3      1.875   1.875       1.875      1.875\n",
       "4      2.000   2.000       2.000      2.000\n",
       "...      ...     ...         ...        ...\n",
       "10235  1.375   1.375       1.375      1.375\n",
       "10236  2.125   2.125       2.125      2.125\n",
       "10237  0.875   0.875       0.875      0.875\n",
       "10238  0.750   0.750       0.750      0.750\n",
       "10239  2.125   2.125       2.125      2.125\n",
       "\n",
       "[10240 rows x 4 columns]"
      ]
     },
     "execution_count": 43,
     "metadata": {},
     "output_type": "execute_result"
    }
   ],
   "source": [
    "df = pd.DataFrame(pred_all, columns=model_names)\n",
    "df"
   ]
  },
  {
   "cell_type": "markdown",
   "id": "b819c0a2",
   "metadata": {},
   "source": [
    "### Compare predictions"
   ]
  },
  {
   "cell_type": "code",
   "execution_count": 45,
   "id": "27dd76d7",
   "metadata": {},
   "outputs": [
    {
     "data": {
      "text/plain": [
       "qxinit_qkeras\n",
       "0.0    10240\n",
       "Name: count, dtype: int64"
      ]
     },
     "execution_count": 45,
     "metadata": {},
     "output_type": "execute_result"
    }
   ],
   "source": [
    "df['qxinit_qkeras'] = df['qonnx_init'] - df['qkeras']\n",
    "df['qxinit_qkeras'].value_counts()"
   ]
  },
  {
   "cell_type": "markdown",
   "id": "a27fb166",
   "metadata": {},
   "source": [
    "modified vs unmodified qonnx with respect to hls"
   ]
  },
  {
   "cell_type": "code",
   "execution_count": 52,
   "id": "fa2637c0",
   "metadata": {},
   "outputs": [
    {
     "name": "stdout",
     "output_type": "stream",
     "text": [
      "qxinit_hls\n",
      "0.000      10056\n",
      "0.125        179\n",
      "256.000        4\n",
      "512.000        1\n",
      "Name: count, dtype: int64\n",
      "qxmod_hls\n",
      "0.000      10068\n",
      "0.125        167\n",
      "237.750        1\n",
      "243.500        1\n",
      "178.125        1\n",
      "206.125        1\n",
      "248.625        1\n",
      "Name: count, dtype: int64\n"
     ]
    }
   ],
   "source": [
    "df['qxinit_hls'] = df['qonnx_init'] - df['hls']\n",
    "df['qxmod_hls'] = df['qonnx_mod'] - df['hls']\n",
    "\n",
    "print(df['qxinit_hls'].value_counts())\n",
    "print(df['qxmod_hls'].value_counts())"
   ]
  }
 ],
 "metadata": {
  "kernelspec": {
   "display_name": "venv3_9",
   "language": "python",
   "name": "python3"
  },
  "language_info": {
   "codemirror_mode": {
    "name": "ipython",
    "version": 3
   },
   "file_extension": ".py",
   "mimetype": "text/x-python",
   "name": "python",
   "nbconvert_exporter": "python",
   "pygments_lexer": "ipython3",
   "version": "3.9.21"
  }
 },
 "nbformat": 4,
 "nbformat_minor": 5
}
